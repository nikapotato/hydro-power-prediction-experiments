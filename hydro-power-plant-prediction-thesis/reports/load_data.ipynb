{
 "cells": [
  {
   "cell_type": "code",
   "execution_count": 1,
   "id": "3fb9bdbf",
   "metadata": {
    "execution": {
     "iopub.execute_input": "2022-10-22T15:17:28.278955Z",
     "iopub.status.busy": "2022-10-22T15:17:28.278207Z",
     "iopub.status.idle": "2022-10-22T15:17:28.283585Z",
     "shell.execute_reply": "2022-10-22T15:17:28.282675Z"
    },
    "lines_to_next_cell": 2,
    "papermill": {
     "duration": 0.013724,
     "end_time": "2022-10-22T15:17:28.286373",
     "exception": false,
     "start_time": "2022-10-22T15:17:28.272649",
     "status": "completed"
    },
    "tags": []
   },
   "outputs": [],
   "source": [
    "# Add description here\n",
    "#\n",
    "# *Note:* You can open this file as a notebook (JupyterLab: right-click on it in the side bar -> Open With -> Notebook)"
   ]
  },
  {
   "cell_type": "code",
   "execution_count": 2,
   "id": "3080d5d4",
   "metadata": {
    "execution": {
     "iopub.execute_input": "2022-10-22T15:17:28.293809Z",
     "iopub.status.busy": "2022-10-22T15:17:28.293430Z",
     "iopub.status.idle": "2022-10-22T15:17:28.297335Z",
     "shell.execute_reply": "2022-10-22T15:17:28.296411Z"
    },
    "papermill": {
     "duration": 0.010357,
     "end_time": "2022-10-22T15:17:28.299920",
     "exception": false,
     "start_time": "2022-10-22T15:17:28.289563",
     "status": "completed"
    },
    "tags": []
   },
   "outputs": [],
   "source": [
    "# Uncomment the next two lines to enable auto reloading for imported modules\n",
    "# %load_ext autoreload\n",
    "# %autoreload 2\n",
    "# For more info, see:\n",
    "# https://docs.ploomber.io/en/latest/user-guide/faq_index.html#auto-reloading-code-in-jupyter"
   ]
  },
  {
   "cell_type": "code",
   "execution_count": 3,
   "id": "e6c683b3",
   "metadata": {
    "execution": {
     "iopub.execute_input": "2022-10-22T15:17:28.306426Z",
     "iopub.status.busy": "2022-10-22T15:17:28.306058Z",
     "iopub.status.idle": "2022-10-22T15:17:28.314215Z",
     "shell.execute_reply": "2022-10-22T15:17:28.313283Z"
    },
    "lines_to_next_cell": 0,
    "papermill": {
     "duration": 0.015063,
     "end_time": "2022-10-22T15:17:28.317392",
     "exception": false,
     "start_time": "2022-10-22T15:17:28.302329",
     "status": "completed"
    },
    "tags": [
     "parameters"
    ]
   },
   "outputs": [],
   "source": [
    "# If this task has dependencies, declare them in the YAML spec and leave this\n",
    "# as None\n",
    "upstream = None\n",
    "\n",
    "# This is a placeholder, leave it as None\n",
    "product = None"
   ]
  },
  {
   "cell_type": "code",
   "execution_count": 4,
   "id": "09852b8b",
   "metadata": {
    "execution": {
     "iopub.execute_input": "2022-10-22T15:17:28.324368Z",
     "iopub.status.busy": "2022-10-22T15:17:28.324001Z",
     "iopub.status.idle": "2022-10-22T15:17:28.328644Z",
     "shell.execute_reply": "2022-10-22T15:17:28.327803Z"
    },
    "papermill": {
     "duration": 0.011631,
     "end_time": "2022-10-22T15:17:28.331512",
     "exception": false,
     "start_time": "2022-10-22T15:17:28.319881",
     "status": "completed"
    },
    "tags": [
     "injected-parameters"
    ]
   },
   "outputs": [],
   "source": [
    "# Parameters\n",
    "file_path = \"/Users/nsokolov/energy/hydro-power-prediction-thesis/data/data_run-of-river_production_load.csv\"\n",
    "random_seed = 1\n",
    "valid_from = \"2021-11-01\"\n",
    "product = {\n",
    "    \"nb\": \"/Users/nsokolov/energy/hydro-power-prediction-thesis/reports/load_data.ipynb\",\n",
    "    \"data\": \"/Users/nsokolov/energy/hydro-power-prediction-thesis/products/data/data_raw.csv\",\n",
    "}\n"
   ]
  },
  {
   "cell_type": "code",
   "execution_count": 5,
   "id": "8cf99935",
   "metadata": {
    "execution": {
     "iopub.execute_input": "2022-10-22T15:17:28.338699Z",
     "iopub.status.busy": "2022-10-22T15:17:28.338345Z",
     "iopub.status.idle": "2022-10-22T15:17:31.844108Z",
     "shell.execute_reply": "2022-10-22T15:17:31.843107Z"
    },
    "lines_to_next_cell": 0,
    "papermill": {
     "duration": 3.513343,
     "end_time": "2022-10-22T15:17:31.847453",
     "exception": false,
     "start_time": "2022-10-22T15:17:28.334110",
     "status": "completed"
    },
    "tags": []
   },
   "outputs": [],
   "source": [
    "from hydro_timeseries.util import load_timeseries_csv"
   ]
  },
  {
   "cell_type": "code",
   "execution_count": 6,
   "id": "95e3bf80",
   "metadata": {
    "execution": {
     "iopub.execute_input": "2022-10-22T15:17:31.855096Z",
     "iopub.status.busy": "2022-10-22T15:17:31.854519Z",
     "iopub.status.idle": "2022-10-22T15:17:35.788099Z",
     "shell.execute_reply": "2022-10-22T15:17:35.787204Z"
    },
    "papermill": {
     "duration": 3.940685,
     "end_time": "2022-10-22T15:17:35.791089",
     "exception": false,
     "start_time": "2022-10-22T15:17:31.850404",
     "status": "completed"
    },
    "tags": []
   },
   "outputs": [],
   "source": [
    "'''\n",
    "Load all data into the pipeline\n",
    "'''\n",
    "data = load_timeseries_csv(file_path)\n",
    "data.drop(columns=['Date'], inplace = True)\n",
    "data.to_csv(product['data'])"
   ]
  },
  {
   "cell_type": "code",
   "execution_count": null,
   "id": "dc782a0d",
   "metadata": {
    "papermill": {
     "duration": 0.002573,
     "end_time": "2022-10-22T15:17:35.796569",
     "exception": false,
     "start_time": "2022-10-22T15:17:35.793996",
     "status": "completed"
    },
    "tags": []
   },
   "outputs": [],
   "source": []
  }
 ],
 "metadata": {
  "jupytext": {
   "text_representation": {
    "extension": ".py",
    "format_name": "percent",
    "format_version": "1.3",
    "jupytext_version": "1.14.0"
   }
  },
  "kernelspec": {
   "display_name": "Python 3 (ipykernel)",
   "language": "python",
   "name": "python3"
  },
  "language_info": {
   "codemirror_mode": {
    "name": "ipython",
    "version": 3
   },
   "file_extension": ".py",
   "mimetype": "text/x-python",
   "name": "python",
   "nbconvert_exporter": "python",
   "pygments_lexer": "ipython3",
   "version": "3.10.6"
  },
  "papermill": {
   "duration": 9.51805,
   "end_time": "2022-10-22T15:17:36.322813",
   "exception": null,
   "input_path": "/var/folders/c9/y43gblg175g45sxp0p7trf2w0000gq/T/tmpv1wq2ryw.ipynb",
   "output_path": "/Users/nsokolov/energy/hydro-power-prediction-thesis/reports/load_data.ipynb",
   "parameters": {
    "file_path": "/Users/nsokolov/energy/hydro-power-prediction-thesis/data/data_run-of-river_production_load.csv",
    "product": {
     "data": "/Users/nsokolov/energy/hydro-power-prediction-thesis/products/data/data_raw.csv",
     "nb": "/Users/nsokolov/energy/hydro-power-prediction-thesis/reports/load_data.ipynb"
    },
    "random_seed": 1,
    "valid_from": "2021-11-01"
   },
   "start_time": "2022-10-22T15:17:26.804763"
  }
 },
 "nbformat": 4,
 "nbformat_minor": 5
}