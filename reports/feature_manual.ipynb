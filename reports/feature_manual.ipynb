{
 "cells": [
  {
   "cell_type": "code",
   "execution_count": 1,
   "id": "b92d490b",
   "metadata": {
    "execution": {
     "iopub.execute_input": "2022-08-24T07:37:49.411780Z",
     "iopub.status.busy": "2022-08-24T07:37:49.411513Z",
     "iopub.status.idle": "2022-08-24T07:37:49.414786Z",
     "shell.execute_reply": "2022-08-24T07:37:49.414302Z"
    },
    "lines_to_next_cell": 2,
    "papermill": {
     "duration": 0.01263,
     "end_time": "2022-08-24T07:37:49.416003",
     "exception": false,
     "start_time": "2022-08-24T07:37:49.403373",
     "status": "completed"
    },
    "tags": []
   },
   "outputs": [],
   "source": [
    "# Add description here\n",
    "#\n",
    "# *Note:* You can open this file as a notebook (JupyterLab: right-click on it in the side bar -> Open With -> Notebook)"
   ]
  },
  {
   "cell_type": "code",
   "execution_count": 2,
   "id": "f51a5ab9",
   "metadata": {
    "execution": {
     "iopub.execute_input": "2022-08-24T07:37:49.423486Z",
     "iopub.status.busy": "2022-08-24T07:37:49.423274Z",
     "iopub.status.idle": "2022-08-24T07:37:49.427666Z",
     "shell.execute_reply": "2022-08-24T07:37:49.427265Z"
    },
    "papermill": {
     "duration": 0.009486,
     "end_time": "2022-08-24T07:37:49.428814",
     "exception": false,
     "start_time": "2022-08-24T07:37:49.419328",
     "status": "completed"
    },
    "tags": []
   },
   "outputs": [],
   "source": [
    "# Uncomment the next two lines to enable auto reloading for imported modules\n",
    "# %load_ext autoreload\n",
    "# %autoreload 2\n",
    "# For more info, see:\n",
    "# https://docs.ploomber.io/en/latest/user-guide/faq_index.html#auto-reloading-code-in-jupyter\n",
    "\n",
    "from datetime import timedelta"
   ]
  },
  {
   "cell_type": "code",
   "execution_count": 3,
   "id": "1189b283",
   "metadata": {
    "execution": {
     "iopub.execute_input": "2022-08-24T07:37:49.435756Z",
     "iopub.status.busy": "2022-08-24T07:37:49.435539Z",
     "iopub.status.idle": "2022-08-24T07:37:50.726561Z",
     "shell.execute_reply": "2022-08-24T07:37:50.725997Z"
    },
    "lines_to_next_cell": 2,
    "papermill": {
     "duration": 1.296427,
     "end_time": "2022-08-24T07:37:50.728323",
     "exception": false,
     "start_time": "2022-08-24T07:37:49.431896",
     "status": "completed"
    },
    "tags": [
     "parameters"
    ]
   },
   "outputs": [],
   "source": [
    "# If this task has dependencies, declare them in the YAML spec and leave this\n",
    "# as None\n",
    "from pathlib import Path\n",
    "\n",
    "import numpy as np\n",
    "import statsmodels.api as sm\n",
    "from sktime.forecasting.ets import AutoETS\n",
    "from sktime.forecasting.exp_smoothing import ExponentialSmoothing\n",
    "from sktime.forecasting.model_selection import ExpandingWindowSplitter\n",
    "from sktime.forecasting.trend import STLForecaster\n",
    "from sktime.transformations.series.detrend import STLTransformer\n",
    "\n",
    "from hydro_timeseries.plotting import get_windows, tsplot, trend_eval_plot\n",
    "from hydro_timeseries.util import load_timeseries_csv, add_mean_vars, generate_cyclical_features, cv_evaluate, smape, \\\n",
    "    rmse, mae\n",
    "from hydro_timeseries.variables import Variables\n",
    "\n",
    "upstream = None\n",
    "\n",
    "# This is a placeholder, leave it as None\n",
    "product = None\n",
    "arima_init_steps = None\n",
    "n_lags = None\n",
    "import warnings\n",
    "warnings.filterwarnings(\"ignore\")"
   ]
  },
  {
   "cell_type": "code",
   "execution_count": 4,
   "id": "b779f5ee",
   "metadata": {
    "execution": {
     "iopub.execute_input": "2022-08-24T07:37:50.736752Z",
     "iopub.status.busy": "2022-08-24T07:37:50.736350Z",
     "iopub.status.idle": "2022-08-24T07:37:50.739635Z",
     "shell.execute_reply": "2022-08-24T07:37:50.739194Z"
    },
    "papermill": {
     "duration": 0.008605,
     "end_time": "2022-08-24T07:37:50.740678",
     "exception": false,
     "start_time": "2022-08-24T07:37:50.732073",
     "status": "completed"
    },
    "tags": [
     "injected-parameters"
    ]
   },
   "outputs": [],
   "source": [
    "# Parameters\n",
    "random_seed = 1\n",
    "valid_from = \"2021-11-01\"\n",
    "n_lags = 7\n",
    "arima_init_steps = 7\n",
    "plots_path = \"/home/m/repo/hydro-power-prediction/plots\"\n",
    "upstream = {\"run-tests\": {\"nb\": \"/home/m/repo/hydro-power-prediction/reports/run_tests.ipynb\", \"data\": \"/home/m/repo/hydro-power-prediction/products/data/data_raw_tested.csv\"}}\n",
    "product = {\"nb\": \"/home/m/repo/hydro-power-prediction/reports/feature_manual.ipynb\", \"data\": \"/home/m/repo/hydro-power-prediction/products/data/feature_manual.csv\"}\n"
   ]
  },
  {
   "cell_type": "code",
   "execution_count": 5,
   "id": "2ddec025",
   "metadata": {
    "execution": {
     "iopub.execute_input": "2022-08-24T07:37:50.748942Z",
     "iopub.status.busy": "2022-08-24T07:37:50.748404Z",
     "iopub.status.idle": "2022-08-24T07:37:51.046650Z",
     "shell.execute_reply": "2022-08-24T07:37:51.043104Z"
    },
    "lines_to_next_cell": 0,
    "papermill": {
     "duration": 0.304484,
     "end_time": "2022-08-24T07:37:51.048546",
     "exception": false,
     "start_time": "2022-08-24T07:37:50.744062",
     "status": "completed"
    },
    "tags": []
   },
   "outputs": [],
   "source": [
    "data = load_timeseries_csv(upstream['run-tests']['data'])\n",
    "data = add_mean_vars(data)\n",
    "\n",
    "plots_path = Path(plots_path)"
   ]
  },
  {
   "cell_type": "code",
   "execution_count": 6,
   "id": "e0d3b305",
   "metadata": {
    "execution": {
     "iopub.execute_input": "2022-08-24T07:37:51.059547Z",
     "iopub.status.busy": "2022-08-24T07:37:51.059283Z",
     "iopub.status.idle": "2022-08-24T07:37:51.098651Z",
     "shell.execute_reply": "2022-08-24T07:37:51.097968Z"
    },
    "lines_to_next_cell": 0,
    "papermill": {
     "duration": 0.04638,
     "end_time": "2022-08-24T07:37:51.100227",
     "exception": false,
     "start_time": "2022-08-24T07:37:51.053847",
     "status": "completed"
    },
    "tags": []
   },
   "outputs": [],
   "source": [
    "'''\n",
    "Cyclical datetime features\n",
    "'''\n",
    "data = (\n",
    "        data\n",
    "        # .assign(hour = data.index.hour)\n",
    "        # .assign(day_of_month = data.index.day)\n",
    "        .assign(month = data.index.month)\n",
    "        # .assign(day_of_week = data.index.dayofweek)\n",
    "        .assign(day_of_year = data.index.day_of_year)\n",
    "        .assign(week_of_year = data.index.week)\n",
    "        )"
   ]
  },
  {
   "cell_type": "code",
   "execution_count": 7,
   "id": "b2a73f30",
   "metadata": {
    "execution": {
     "iopub.execute_input": "2022-08-24T07:37:51.109612Z",
     "iopub.status.busy": "2022-08-24T07:37:51.109398Z",
     "iopub.status.idle": "2022-08-24T07:37:51.156648Z",
     "shell.execute_reply": "2022-08-24T07:37:51.156040Z"
    },
    "papermill": {
     "duration": 0.054176,
     "end_time": "2022-08-24T07:37:51.158084",
     "exception": false,
     "start_time": "2022-08-24T07:37:51.103908",
     "status": "completed"
    },
    "tags": []
   },
   "outputs": [],
   "source": [
    "data = generate_cyclical_features(data, 'month', 12, 1)\n",
    "data = generate_cyclical_features(data, 'week_of_year', 53, 1)\n",
    "data = generate_cyclical_features(data, 'day_of_year', 366, 1)"
   ]
  },
  {
   "cell_type": "code",
   "execution_count": 8,
   "id": "288f6046",
   "metadata": {
    "execution": {
     "iopub.execute_input": "2022-08-24T07:37:51.167682Z",
     "iopub.status.busy": "2022-08-24T07:37:51.167432Z",
     "iopub.status.idle": "2022-08-24T07:37:51.181599Z",
     "shell.execute_reply": "2022-08-24T07:37:51.180959Z"
    },
    "papermill": {
     "duration": 0.021095,
     "end_time": "2022-08-24T07:37:51.182946",
     "exception": false,
     "start_time": "2022-08-24T07:37:51.161851",
     "status": "completed"
    },
    "tags": []
   },
   "outputs": [],
   "source": [
    "'''\n",
    "Get daily means \n",
    "'''\n",
    "data_daily = data.resample('D').mean()\n",
    "value_daily = data.Value.resample('D').mean()"
   ]
  },
  {
   "cell_type": "code",
   "execution_count": 9,
   "id": "8855a7fa",
   "metadata": {
    "execution": {
     "iopub.execute_input": "2022-08-24T07:37:51.190815Z",
     "iopub.status.busy": "2022-08-24T07:37:51.190604Z",
     "iopub.status.idle": "2022-08-24T07:37:51.195337Z",
     "shell.execute_reply": "2022-08-24T07:37:51.194755Z"
    },
    "lines_to_next_cell": 1,
    "papermill": {
     "duration": 0.010003,
     "end_time": "2022-08-24T07:37:51.196604",
     "exception": false,
     "start_time": "2022-08-24T07:37:51.186601",
     "status": "completed"
    },
    "tags": []
   },
   "outputs": [],
   "source": [
    "def generate_lagged_vars(df, n_lags, colname='Value', start_from=2):\n",
    "    # df_n = df.copy()\n",
    "    new_vars = []\n",
    "    for n in range(start_from, n_lags + 1):\n",
    "        new_var_name = f\"daily_mean_{colname}_lag{n}\"\n",
    "        df[new_var_name] = df[colname].shift(n)\n",
    "        new_vars.append(new_var_name)\n",
    "    return df, new_vars\n",
    "\n",
    "def generate_ewms(df, colname='Value', span_list=[3, 7, 14, 30], shift=2, var_suffix='daily'):\n",
    "    # df_n = df.copy()\n",
    "    new_vars = []\n",
    "    for span in span_list:\n",
    "        new_var_name = f\"{colname}_{var_suffix}_ewm{span}\"\n",
    "        df[new_var_name] = df[colname].ewm(span=span).mean().shift(shift)\n",
    "        new_vars.append(new_var_name)\n",
    "    return df, new_vars"
   ]
  },
  {
   "cell_type": "code",
   "execution_count": 10,
   "id": "7bd62dcf",
   "metadata": {
    "execution": {
     "iopub.execute_input": "2022-08-24T07:37:51.204470Z",
     "iopub.status.busy": "2022-08-24T07:37:51.204283Z",
     "iopub.status.idle": "2022-08-24T07:37:51.315513Z",
     "shell.execute_reply": "2022-08-24T07:37:51.315004Z"
    },
    "papermill": {
     "duration": 0.116581,
     "end_time": "2022-08-24T07:37:51.316671",
     "exception": false,
     "start_time": "2022-08-24T07:37:51.200090",
     "status": "completed"
    },
    "tags": []
   },
   "outputs": [
    {
     "name": "stdout",
     "output_type": "stream",
     "text": [
      "First two should be NaN, last two should be fine\n",
      "                  Value  daily_mean_Value_lag2\n",
      "Date_Time                                     \n",
      "2020-12-01  1161.843750                    NaN\n",
      "2020-12-02  1198.062500                    NaN\n",
      "2020-12-03  1238.145833            1161.843750\n",
      "2020-12-04  1157.833333            1198.062500\n",
      "2020-12-05  1310.260417            1238.145833\n",
      "                  Value  daily_mean_Value_lag2\n",
      "Date_Time                                     \n",
      "2021-12-30   682.031250             808.281250\n",
      "2021-12-31   943.135417             907.395833\n",
      "2022-01-01  1367.218750             682.031250\n",
      "2022-01-02          NaN             943.135417\n",
      "2022-01-03          NaN            1367.218750\n"
     ]
    }
   ],
   "source": [
    "'''\n",
    "Lagged Value means\n",
    "lag has to be at least 2, because only the prev day is known when day ahead is being predicted\n",
    "meteo can lag by 1. \n",
    "'''\n",
    "data_daily, value_lag_vars = generate_lagged_vars(data_daily, colname='Value', n_lags=n_lags, start_from=2)\n",
    "data_daily, precip_mean_vars = generate_lagged_vars(data_daily, colname='precip_mean', n_lags=n_lags, start_from=1)\n",
    "data_daily, soil_moisture_mean_vars = generate_lagged_vars(data_daily, colname='soil_moisture_mean', n_lags=n_lags, start_from=1)\n",
    "data_daily, snow_mean_vars = generate_lagged_vars(data_daily, colname='snow_mean', n_lags=n_lags, start_from=1)\n",
    "\n",
    "lagged_selector = []\n",
    "for var in Variables.meteo_i:\n",
    "    data_daily, meteo_lagged_vars = generate_lagged_vars(data_daily, colname=var, n_lags=n_lags, start_from=1)\n",
    "    lagged_selector = lagged_selector + meteo_lagged_vars\n",
    "\n",
    "print(\"First two should be NaN, last two should be fine\")\n",
    "print(data_daily[['Value', 'daily_mean_Value_lag2']].head())\n",
    "print(data_daily[['Value', 'daily_mean_Value_lag2']].tail())"
   ]
  },
  {
   "cell_type": "code",
   "execution_count": 11,
   "id": "45958bf5",
   "metadata": {
    "execution": {
     "iopub.execute_input": "2022-08-24T07:37:51.324703Z",
     "iopub.status.busy": "2022-08-24T07:37:51.324530Z",
     "iopub.status.idle": "2022-08-24T07:37:51.464329Z",
     "shell.execute_reply": "2022-08-24T07:37:51.463768Z"
    },
    "papermill": {
     "duration": 0.145123,
     "end_time": "2022-08-24T07:37:51.465621",
     "exception": false,
     "start_time": "2022-08-24T07:37:51.320498",
     "status": "completed"
    },
    "tags": []
   },
   "outputs": [],
   "source": [
    "selector = lagged_selector + value_lag_vars + precip_mean_vars + soil_moisture_mean_vars + snow_mean_vars\n",
    "data = data.join(data_daily[selector], how='left')\n",
    "# data_joined.loc[:, value_lag_vars] = data[value_lag_vars].ffill()\n",
    "data.loc[:, selector] = data[selector].ffill()"
   ]
  },
  {
   "cell_type": "code",
   "execution_count": 12,
   "id": "ccac4123",
   "metadata": {
    "execution": {
     "iopub.execute_input": "2022-08-24T07:37:51.473304Z",
     "iopub.status.busy": "2022-08-24T07:37:51.473142Z",
     "iopub.status.idle": "2022-08-24T07:37:51.481306Z",
     "shell.execute_reply": "2022-08-24T07:37:51.480729Z"
    },
    "papermill": {
     "duration": 0.013219,
     "end_time": "2022-08-24T07:37:51.482423",
     "exception": false,
     "start_time": "2022-08-24T07:37:51.469204",
     "status": "completed"
    },
    "tags": []
   },
   "outputs": [
    {
     "name": "stdout",
     "output_type": "stream",
     "text": [
      "Value lag2, Value and daily_mean_Value_lag2 should be equal\n",
      "1367.21875\n",
      "                     Value  daily_mean_Value_lag2\n",
      "Date_Time                                        \n",
      "2022-01-03 00:00:00    NaN             1367.21875\n",
      "2022-01-03 00:15:00    NaN             1367.21875\n",
      "2022-01-03 00:30:00    NaN             1367.21875\n",
      "2022-01-03 00:45:00    NaN             1367.21875\n",
      "2022-01-03 01:00:00    NaN             1367.21875\n"
     ]
    }
   ],
   "source": [
    "print(\"Value lag2, Value and daily_mean_Value_lag2 should be equal\")\n",
    "print(data_daily.loc['2022-01-01'].Value)\n",
    "print(data.loc['2022-01-03'][['Value', 'daily_mean_Value_lag2']].head())"
   ]
  },
  {
   "cell_type": "code",
   "execution_count": 13,
   "id": "6c13f012",
   "metadata": {
    "execution": {
     "iopub.execute_input": "2022-08-24T07:37:51.490439Z",
     "iopub.status.busy": "2022-08-24T07:37:51.490219Z",
     "iopub.status.idle": "2022-08-24T07:37:51.496683Z",
     "shell.execute_reply": "2022-08-24T07:37:51.496044Z"
    },
    "papermill": {
     "duration": 0.011834,
     "end_time": "2022-08-24T07:37:51.497878",
     "exception": false,
     "start_time": "2022-08-24T07:37:51.486044",
     "status": "completed"
    },
    "tags": []
   },
   "outputs": [
    {
     "name": "stdout",
     "output_type": "stream",
     "text": [
      "precip_mean lag1, precip_mean and daily_mean_precip_mean_lag1 should be equal\n",
      "0.004166666666666667\n",
      "                     precip_mean  daily_mean_precip_mean_lag1\n",
      "Date_Time                                                    \n",
      "2022-01-03 00:00:00          0.0                     0.004167\n",
      "2022-01-03 00:15:00          0.0                     0.004167\n",
      "2022-01-03 00:30:00          0.0                     0.004167\n",
      "2022-01-03 00:45:00          0.0                     0.004167\n",
      "2022-01-03 01:00:00          0.0                     0.004167\n"
     ]
    }
   ],
   "source": [
    "print(\"precip_mean lag1, precip_mean and daily_mean_precip_mean_lag1 should be equal\")\n",
    "print(data_daily.loc['2022-01-02'].precip_mean)\n",
    "print(data.loc['2022-01-03'][['precip_mean', 'daily_mean_precip_mean_lag1']].head())"
   ]
  },
  {
   "cell_type": "code",
   "execution_count": 14,
   "id": "766860f3",
   "metadata": {
    "execution": {
     "iopub.execute_input": "2022-08-24T07:37:51.505670Z",
     "iopub.status.busy": "2022-08-24T07:37:51.505491Z",
     "iopub.status.idle": "2022-08-24T07:37:51.571405Z",
     "shell.execute_reply": "2022-08-24T07:37:51.570821Z"
    },
    "lines_to_next_cell": 0,
    "papermill": {
     "duration": 0.071214,
     "end_time": "2022-08-24T07:37:51.572641",
     "exception": false,
     "start_time": "2022-08-24T07:37:51.501427",
     "status": "completed"
    },
    "tags": []
   },
   "outputs": [
    {
     "name": "stdout",
     "output_type": "stream",
     "text": [
      "                     Value_daily_ewm3  Value_daily_ewm7  Value_daily_ewm14  \\\n",
      "Date_Time                                                                    \n",
      "2020-12-01 00:00:00               NaN               NaN                NaN   \n",
      "2020-12-01 00:15:00               NaN               NaN                NaN   \n",
      "2020-12-01 00:30:00               NaN               NaN                NaN   \n",
      "2020-12-01 00:45:00               NaN               NaN                NaN   \n",
      "2020-12-01 01:00:00               NaN               NaN                NaN   \n",
      "\n",
      "                     Value_daily_ewm30  Value_daily_ewm60  \n",
      "Date_Time                                                  \n",
      "2020-12-01 00:00:00                NaN                NaN  \n",
      "2020-12-01 00:15:00                NaN                NaN  \n",
      "2020-12-01 00:30:00                NaN                NaN  \n",
      "2020-12-01 00:45:00                NaN                NaN  \n",
      "2020-12-01 01:00:00                NaN                NaN  \n",
      "                     Value_daily_ewm3  Value_daily_ewm7  Value_daily_ewm14  \\\n",
      "Date_Time                                                                    \n",
      "2022-01-03 22:45:00       1115.399561         968.24106          880.73272   \n",
      "2022-01-03 23:00:00       1115.399561         968.24106          880.73272   \n",
      "2022-01-03 23:15:00       1115.399561         968.24106          880.73272   \n",
      "2022-01-03 23:30:00       1115.399561         968.24106          880.73272   \n",
      "2022-01-03 23:45:00       1115.399561         968.24106          880.73272   \n",
      "\n",
      "                     Value_daily_ewm30  Value_daily_ewm60  \n",
      "Date_Time                                                  \n",
      "2022-01-03 22:45:00          828.92743         806.772234  \n",
      "2022-01-03 23:00:00          828.92743         806.772234  \n",
      "2022-01-03 23:15:00          828.92743         806.772234  \n",
      "2022-01-03 23:30:00          828.92743         806.772234  \n",
      "2022-01-03 23:45:00          828.92743         806.772234  \n"
     ]
    }
   ],
   "source": [
    "'''\n",
    "Exp Weighted averages - target + meteo\n",
    "'''\n",
    "'''\n",
    "Daily - long timeframe week, month, 3 days, well suited for target - target known only day backwards.\n",
    "#TODO - minute steps until something\n",
    "'''\n",
    "daily_spans = [3, 7, 14, 30, 60]\n",
    "data_daily, daily_value_ewms = generate_ewms(data_daily, span_list=daily_spans, colname='Value', shift=2)\n",
    "\n",
    "selector_ewm = daily_value_ewms\n",
    "\n",
    "data = data.join(data_daily[selector_ewm], how='left')\n",
    "data.loc[:, selector_ewm] = data[selector_ewm].ffill()\n",
    "print(data[daily_value_ewms].head())\n",
    "print(data[daily_value_ewms].tail())"
   ]
  },
  {
   "cell_type": "code",
   "execution_count": 15,
   "id": "35bcd030",
   "metadata": {
    "execution": {
     "iopub.execute_input": "2022-08-24T07:37:51.581519Z",
     "iopub.status.busy": "2022-08-24T07:37:51.581338Z",
     "iopub.status.idle": "2022-08-24T07:37:52.127414Z",
     "shell.execute_reply": "2022-08-24T07:37:52.126869Z"
    },
    "lines_to_next_cell": 0,
    "papermill": {
     "duration": 0.552071,
     "end_time": "2022-08-24T07:37:52.128707",
     "exception": false,
     "start_time": "2022-08-24T07:37:51.576636",
     "status": "completed"
    },
    "tags": []
   },
   "outputs": [
    {
     "name": "stdout",
     "output_type": "stream",
     "text": [
      "temperature_mean\n",
      "evapotranspiration_mean\n",
      "snow_mean\n",
      "soil_moisture_mean\n"
     ]
    },
    {
     "name": "stdout",
     "output_type": "stream",
     "text": [
      "pressure_mean\n",
      "precip_mean\n",
      "precip_20\n",
      "precip_40\n",
      "precip_75\n",
      "precip_81\n",
      "precip_104\n",
      "precip_134\n",
      "snow_depth_20\n",
      "snow_depth_40\n",
      "snow_depth_75\n",
      "snow_depth_81\n",
      "snow_depth_104\n",
      "snow_depth_134\n",
      "evapotranspiration_20\n",
      "evapotranspiration_40\n",
      "evapotranspiration_75\n",
      "evapotranspiration_81\n"
     ]
    },
    {
     "name": "stdout",
     "output_type": "stream",
     "text": [
      "evapotranspiration_104\n",
      "evapotranspiration_134\n",
      "soil_moisture_index_20\n",
      "soil_moisture_index_40\n",
      "soil_moisture_index_75\n",
      "soil_moisture_index_81\n",
      "soil_moisture_index_104\n",
      "soil_moisture_index_134\n",
      "temperature_20\n",
      "temperature_40\n",
      "temperature_75\n",
      "temperature_81\n",
      "temperature_104\n",
      "temperature_134\n",
      "pressure_hpa_20\n",
      "pressure_hpa_40\n",
      "pressure_hpa_75\n",
      "pressure_hpa_81\n",
      "pressure_hpa_104\n",
      "pressure_hpa_134\n"
     ]
    },
    {
     "name": "stdout",
     "output_type": "stream",
     "text": [
      "                     precip_mean_hourly_ewm6  precip_mean_hourly_ewm9  \\\n",
      "Date_Time                                                               \n",
      "2020-12-01 00:00:00                      0.0                      0.0   \n",
      "2020-12-01 00:15:00                      0.0                      0.0   \n",
      "2020-12-01 00:30:00                      0.0                      0.0   \n",
      "2020-12-01 00:45:00                      0.0                      0.0   \n",
      "2020-12-01 01:00:00                      0.0                      0.0   \n",
      "\n",
      "                     precip_mean_hourly_ewm16  precip_mean_hourly_ewm32  \\\n",
      "Date_Time                                                                 \n",
      "2020-12-01 00:00:00                       0.0                       0.0   \n",
      "2020-12-01 00:15:00                       0.0                       0.0   \n",
      "2020-12-01 00:30:00                       0.0                       0.0   \n",
      "2020-12-01 00:45:00                       0.0                       0.0   \n",
      "2020-12-01 01:00:00                       0.0                       0.0   \n",
      "\n",
      "                     precip_mean_hourly_ewm96  precip_mean_hourly_ewm192  \\\n",
      "Date_Time                                                                  \n",
      "2020-12-01 00:00:00                       0.0                        0.0   \n",
      "2020-12-01 00:15:00                       0.0                        0.0   \n",
      "2020-12-01 00:30:00                       0.0                        0.0   \n",
      "2020-12-01 00:45:00                       0.0                        0.0   \n",
      "2020-12-01 01:00:00                       0.0                        0.0   \n",
      "\n",
      "                     precip_mean_hourly_ewm768  precip_mean_hourly_ewm1536  \\\n",
      "Date_Time                                                                    \n",
      "2020-12-01 00:00:00                        0.0                         0.0   \n",
      "2020-12-01 00:15:00                        0.0                         0.0   \n",
      "2020-12-01 00:30:00                        0.0                         0.0   \n",
      "2020-12-01 00:45:00                        0.0                         0.0   \n",
      "2020-12-01 01:00:00                        0.0                         0.0   \n",
      "\n",
      "                     precip_20_hourly_ewm6  precip_20_hourly_ewm9  ...  \\\n",
      "Date_Time                                                          ...   \n",
      "2020-12-01 00:00:00                    0.0                    0.0  ...   \n",
      "2020-12-01 00:15:00                    0.0                    0.0  ...   \n",
      "2020-12-01 00:30:00                    0.0                    0.0  ...   \n",
      "2020-12-01 00:45:00                    0.0                    0.0  ...   \n",
      "2020-12-01 01:00:00                    0.0                    0.0  ...   \n",
      "\n",
      "                     precip_104_hourly_ewm768  precip_104_hourly_ewm1536  \\\n",
      "Date_Time                                                                  \n",
      "2020-12-01 00:00:00                       0.0                        0.0   \n",
      "2020-12-01 00:15:00                       0.0                        0.0   \n",
      "2020-12-01 00:30:00                       0.0                        0.0   \n",
      "2020-12-01 00:45:00                       0.0                        0.0   \n",
      "2020-12-01 01:00:00                       0.0                        0.0   \n",
      "\n",
      "                     precip_134_hourly_ewm6  precip_134_hourly_ewm9  \\\n",
      "Date_Time                                                             \n",
      "2020-12-01 00:00:00                     0.0                     0.0   \n",
      "2020-12-01 00:15:00                     0.0                     0.0   \n",
      "2020-12-01 00:30:00                     0.0                     0.0   \n",
      "2020-12-01 00:45:00                     0.0                     0.0   \n",
      "2020-12-01 01:00:00                     0.0                     0.0   \n",
      "\n",
      "                     precip_134_hourly_ewm16  precip_134_hourly_ewm32  \\\n",
      "Date_Time                                                               \n",
      "2020-12-01 00:00:00                      0.0                      0.0   \n",
      "2020-12-01 00:15:00                      0.0                      0.0   \n",
      "2020-12-01 00:30:00                      0.0                      0.0   \n",
      "2020-12-01 00:45:00                      0.0                      0.0   \n",
      "2020-12-01 01:00:00                      0.0                      0.0   \n",
      "\n",
      "                     precip_134_hourly_ewm96  precip_134_hourly_ewm192  \\\n",
      "Date_Time                                                                \n",
      "2020-12-01 00:00:00                      0.0                       0.0   \n",
      "2020-12-01 00:15:00                      0.0                       0.0   \n",
      "2020-12-01 00:30:00                      0.0                       0.0   \n",
      "2020-12-01 00:45:00                      0.0                       0.0   \n",
      "2020-12-01 01:00:00                      0.0                       0.0   \n",
      "\n",
      "                     precip_134_hourly_ewm768  precip_134_hourly_ewm1536  \n",
      "Date_Time                                                                 \n",
      "2020-12-01 00:00:00                       0.0                        0.0  \n",
      "2020-12-01 00:15:00                       0.0                        0.0  \n",
      "2020-12-01 00:30:00                       0.0                        0.0  \n",
      "2020-12-01 00:45:00                       0.0                        0.0  \n",
      "2020-12-01 01:00:00                       0.0                        0.0  \n",
      "\n",
      "[5 rows x 56 columns]\n",
      "                     precip_mean_hourly_ewm6  precip_mean_hourly_ewm9  \\\n",
      "Date_Time                                                               \n",
      "2022-01-03 22:45:00                 0.007023                 0.014417   \n",
      "2022-01-03 23:00:00                 0.005016                 0.011534   \n",
      "2022-01-03 23:15:00                 0.005016                 0.011534   \n",
      "2022-01-03 23:30:00                 0.005016                 0.011534   \n",
      "2022-01-03 23:45:00                 0.005016                 0.011534   \n",
      "\n",
      "                     precip_mean_hourly_ewm16  precip_mean_hourly_ewm32  \\\n",
      "Date_Time                                                                 \n",
      "2022-01-03 22:45:00                  0.031091                  0.041390   \n",
      "2022-01-03 23:00:00                  0.027433                  0.038881   \n",
      "2022-01-03 23:15:00                  0.027433                  0.038881   \n",
      "2022-01-03 23:30:00                  0.027433                  0.038881   \n",
      "2022-01-03 23:45:00                  0.027433                  0.038881   \n",
      "\n",
      "                     precip_mean_hourly_ewm96  precip_mean_hourly_ewm192  \\\n",
      "Date_Time                                                                  \n",
      "2022-01-03 22:45:00                  0.030836                   0.024471   \n",
      "2022-01-03 23:00:00                  0.030200                   0.024217   \n",
      "2022-01-03 23:15:00                  0.030200                   0.024217   \n",
      "2022-01-03 23:30:00                  0.030200                   0.024217   \n",
      "2022-01-03 23:45:00                  0.030200                   0.024217   \n",
      "\n",
      "                     precip_mean_hourly_ewm768  precip_mean_hourly_ewm1536  \\\n",
      "Date_Time                                                                    \n",
      "2022-01-03 22:45:00                   0.021916                    0.025430   \n",
      "2022-01-03 23:00:00                   0.021859                    0.025397   \n",
      "2022-01-03 23:15:00                   0.021859                    0.025397   \n",
      "2022-01-03 23:30:00                   0.021859                    0.025397   \n",
      "2022-01-03 23:45:00                   0.021859                    0.025397   \n",
      "\n",
      "                     precip_20_hourly_ewm6  precip_20_hourly_ewm9  ...  \\\n",
      "Date_Time                                                          ...   \n",
      "2022-01-03 22:45:00               0.015288               0.054962  ...   \n",
      "2022-01-03 23:00:00               0.010920               0.043970  ...   \n",
      "2022-01-03 23:15:00               0.010920               0.043970  ...   \n",
      "2022-01-03 23:30:00               0.010920               0.043970  ...   \n",
      "2022-01-03 23:45:00               0.010920               0.043970  ...   \n",
      "\n",
      "                     precip_104_hourly_ewm768  precip_104_hourly_ewm1536  \\\n",
      "Date_Time                                                                  \n",
      "2022-01-03 22:45:00                  0.019027                   0.023176   \n",
      "2022-01-03 23:00:00                  0.018977                   0.023146   \n",
      "2022-01-03 23:15:00                  0.018977                   0.023146   \n",
      "2022-01-03 23:30:00                  0.018977                   0.023146   \n",
      "2022-01-03 23:45:00                  0.018977                   0.023146   \n",
      "\n",
      "                     precip_134_hourly_ewm6  precip_134_hourly_ewm9  \\\n",
      "Date_Time                                                             \n",
      "2022-01-03 22:45:00            1.349491e-13            5.110811e-10   \n",
      "2022-01-03 23:00:00            9.639224e-14            4.088649e-10   \n",
      "2022-01-03 23:15:00            9.639224e-14            4.088649e-10   \n",
      "2022-01-03 23:30:00            9.639224e-14            4.088649e-10   \n",
      "2022-01-03 23:45:00            9.639224e-14            4.088649e-10   \n",
      "\n",
      "                     precip_134_hourly_ewm16  precip_134_hourly_ewm32  \\\n",
      "Date_Time                                                               \n",
      "2022-01-03 22:45:00             1.026784e-06                 0.000161   \n",
      "2022-01-03 23:00:00             9.059861e-07                 0.000152   \n",
      "2022-01-03 23:15:00             9.059861e-07                 0.000152   \n",
      "2022-01-03 23:30:00             9.059861e-07                 0.000152   \n",
      "2022-01-03 23:45:00             9.059861e-07                 0.000152   \n",
      "\n",
      "                     precip_134_hourly_ewm96  precip_134_hourly_ewm192  \\\n",
      "Date_Time                                                                \n",
      "2022-01-03 22:45:00                 0.003632                  0.006990   \n",
      "2022-01-03 23:00:00                 0.003557                  0.006918   \n",
      "2022-01-03 23:15:00                 0.003557                  0.006918   \n",
      "2022-01-03 23:30:00                 0.003557                  0.006918   \n",
      "2022-01-03 23:45:00                 0.003557                  0.006918   \n",
      "\n",
      "                     precip_134_hourly_ewm768  precip_134_hourly_ewm1536  \n",
      "Date_Time                                                                 \n",
      "2022-01-03 22:45:00                  0.015377                   0.021620  \n",
      "2022-01-03 23:00:00                  0.015337                   0.021592  \n",
      "2022-01-03 23:15:00                  0.015337                   0.021592  \n",
      "2022-01-03 23:30:00                  0.015337                   0.021592  \n",
      "2022-01-03 23:45:00                  0.015337                   0.021592  \n",
      "\n",
      "[5 rows x 56 columns]\n"
     ]
    }
   ],
   "source": [
    "'''\n",
    "Hourly\n",
    "'precip_mean',\n",
    " 'snow_mean',\n",
    " 'pressure_mean',\n",
    " 'temperature_mean',\n",
    " 'soil_moisture_mean',\n",
    " 'evapotranspiration_mean'\n",
    "'''\n",
    "spans_hourly = [6, 9, 16, 32, 96, 192, 768, 1536]\n",
    "data_hourly = data.resample('H').mean()\n",
    "\n",
    "hourly_var_names = []\n",
    "for var in Variables.meteo_means_i + Variables.meteo_i:\n",
    "    print(var)\n",
    "    data_hourly, hourly_var_ewms = generate_ewms(data_hourly, colname=var, span_list=spans_hourly, var_suffix='hourly', shift=0)\n",
    "    hourly_var_names += hourly_var_ewms\n",
    "\n",
    "data = data.join(data_hourly[hourly_var_names], how='left')\n",
    "data.loc[:, hourly_var_names] = data[hourly_var_names].ffill()\n",
    "print(data.filter(regex='precip.*hourly').head())\n",
    "print(data.filter(regex='precip.*hourly').tail())"
   ]
  },
  {
   "cell_type": "code",
   "execution_count": 16,
   "id": "a1f91197",
   "metadata": {
    "execution": {
     "iopub.execute_input": "2022-08-24T07:37:52.138194Z",
     "iopub.status.busy": "2022-08-24T07:37:52.138004Z",
     "iopub.status.idle": "2022-08-24T07:37:52.569570Z",
     "shell.execute_reply": "2022-08-24T07:37:52.569057Z"
    },
    "papermill": {
     "duration": 0.437565,
     "end_time": "2022-08-24T07:37:52.570761",
     "exception": false,
     "start_time": "2022-08-24T07:37:52.133196",
     "status": "completed"
    },
    "tags": []
   },
   "outputs": [
    {
     "name": "stdout",
     "output_type": "stream",
     "text": [
      "temperature_mean\n",
      "evapotranspiration_mean\n",
      "snow_mean\n",
      "soil_moisture_mean\n",
      "pressure_mean\n",
      "precip_mean\n",
      "precip_20\n",
      "precip_40\n",
      "precip_75\n",
      "precip_81\n",
      "precip_104\n",
      "precip_134\n",
      "snow_depth_20\n",
      "snow_depth_40\n",
      "snow_depth_75\n",
      "snow_depth_81\n",
      "snow_depth_104\n",
      "snow_depth_134\n",
      "evapotranspiration_20\n",
      "evapotranspiration_40\n",
      "evapotranspiration_75\n",
      "evapotranspiration_81\n",
      "evapotranspiration_104\n",
      "evapotranspiration_134\n",
      "soil_moisture_index_20\n",
      "soil_moisture_index_40\n",
      "soil_moisture_index_75\n",
      "soil_moisture_index_81\n",
      "soil_moisture_index_104\n"
     ]
    },
    {
     "name": "stdout",
     "output_type": "stream",
     "text": [
      "soil_moisture_index_134\n",
      "temperature_20\n"
     ]
    },
    {
     "name": "stdout",
     "output_type": "stream",
     "text": [
      "temperature_40\n",
      "temperature_75\n",
      "temperature_81\n",
      "temperature_104\n",
      "temperature_134\n",
      "pressure_hpa_20\n",
      "pressure_hpa_40\n",
      "pressure_hpa_75\n",
      "pressure_hpa_81\n",
      "pressure_hpa_104\n",
      "pressure_hpa_134\n"
     ]
    },
    {
     "name": "stdout",
     "output_type": "stream",
     "text": [
      "                     precip_mean_minute_ewm4  precip_mean_minute_ewm8  \\\n",
      "Date_Time                                                               \n",
      "2020-12-01 00:00:00                      0.0                      0.0   \n",
      "2020-12-01 00:15:00                      0.0                      0.0   \n",
      "2020-12-01 00:30:00                      0.0                      0.0   \n",
      "2020-12-01 00:45:00                      0.0                      0.0   \n",
      "2020-12-01 01:00:00                      0.0                      0.0   \n",
      "\n",
      "                     precip_mean_minute_ewm16  precip_mean_minute_ewm32  \\\n",
      "Date_Time                                                                 \n",
      "2020-12-01 00:00:00                       0.0                       0.0   \n",
      "2020-12-01 00:15:00                       0.0                       0.0   \n",
      "2020-12-01 00:30:00                       0.0                       0.0   \n",
      "2020-12-01 00:45:00                       0.0                       0.0   \n",
      "2020-12-01 01:00:00                       0.0                       0.0   \n",
      "\n",
      "                     precip_mean_minute_ewm64  precip_mean_minute_ewm128  \\\n",
      "Date_Time                                                                  \n",
      "2020-12-01 00:00:00                       0.0                        0.0   \n",
      "2020-12-01 00:15:00                       0.0                        0.0   \n",
      "2020-12-01 00:30:00                       0.0                        0.0   \n",
      "2020-12-01 00:45:00                       0.0                        0.0   \n",
      "2020-12-01 01:00:00                       0.0                        0.0   \n",
      "\n",
      "                     precip_mean_minute_ewm256  precip_20_minute_ewm4  \\\n",
      "Date_Time                                                               \n",
      "2020-12-01 00:00:00                        0.0                    0.0   \n",
      "2020-12-01 00:15:00                        0.0                    0.0   \n",
      "2020-12-01 00:30:00                        0.0                    0.0   \n",
      "2020-12-01 00:45:00                        0.0                    0.0   \n",
      "2020-12-01 01:00:00                        0.0                    0.0   \n",
      "\n",
      "                     precip_20_minute_ewm8  precip_20_minute_ewm16  ...  \\\n",
      "Date_Time                                                           ...   \n",
      "2020-12-01 00:00:00                    0.0                     0.0  ...   \n",
      "2020-12-01 00:15:00                    0.0                     0.0  ...   \n",
      "2020-12-01 00:30:00                    0.0                     0.0  ...   \n",
      "2020-12-01 00:45:00                    0.0                     0.0  ...   \n",
      "2020-12-01 01:00:00                    0.0                     0.0  ...   \n",
      "\n",
      "                     precip_104_minute_ewm64  precip_104_minute_ewm128  \\\n",
      "Date_Time                                                                \n",
      "2020-12-01 00:00:00                      0.0                       0.0   \n",
      "2020-12-01 00:15:00                      0.0                       0.0   \n",
      "2020-12-01 00:30:00                      0.0                       0.0   \n",
      "2020-12-01 00:45:00                      0.0                       0.0   \n",
      "2020-12-01 01:00:00                      0.0                       0.0   \n",
      "\n",
      "                     precip_104_minute_ewm256  precip_134_minute_ewm4  \\\n",
      "Date_Time                                                               \n",
      "2020-12-01 00:00:00                       0.0                     0.0   \n",
      "2020-12-01 00:15:00                       0.0                     0.0   \n",
      "2020-12-01 00:30:00                       0.0                     0.0   \n",
      "2020-12-01 00:45:00                       0.0                     0.0   \n",
      "2020-12-01 01:00:00                       0.0                     0.0   \n",
      "\n",
      "                     precip_134_minute_ewm8  precip_134_minute_ewm16  \\\n",
      "Date_Time                                                              \n",
      "2020-12-01 00:00:00                     0.0                      0.0   \n",
      "2020-12-01 00:15:00                     0.0                      0.0   \n",
      "2020-12-01 00:30:00                     0.0                      0.0   \n",
      "2020-12-01 00:45:00                     0.0                      0.0   \n",
      "2020-12-01 01:00:00                     0.0                      0.0   \n",
      "\n",
      "                     precip_134_minute_ewm32  precip_134_minute_ewm64  \\\n",
      "Date_Time                                                               \n",
      "2020-12-01 00:00:00                      0.0                      0.0   \n",
      "2020-12-01 00:15:00                      0.0                      0.0   \n",
      "2020-12-01 00:30:00                      0.0                      0.0   \n",
      "2020-12-01 00:45:00                      0.0                      0.0   \n",
      "2020-12-01 01:00:00                      0.0                      0.0   \n",
      "\n",
      "                     precip_134_minute_ewm128  precip_134_minute_ewm256  \n",
      "Date_Time                                                                \n",
      "2020-12-01 00:00:00                       0.0                       0.0  \n",
      "2020-12-01 00:15:00                       0.0                       0.0  \n",
      "2020-12-01 00:30:00                       0.0                       0.0  \n",
      "2020-12-01 00:45:00                       0.0                       0.0  \n",
      "2020-12-01 01:00:00                       0.0                       0.0  \n",
      "\n",
      "[5 rows x 49 columns]\n",
      "                     precip_mean_minute_ewm4  precip_mean_minute_ewm8  \\\n",
      "Date_Time                                                               \n",
      "2022-01-03 22:45:00                 0.001135                 0.003202   \n",
      "2022-01-03 23:00:00                 0.000681                 0.002491   \n",
      "2022-01-03 23:15:00                 0.000409                 0.001937   \n",
      "2022-01-03 23:30:00                 0.000245                 0.001507   \n",
      "2022-01-03 23:45:00                 0.000147                 0.001172   \n",
      "\n",
      "                     precip_mean_minute_ewm16  precip_mean_minute_ewm32  \\\n",
      "Date_Time                                                                 \n",
      "2022-01-03 22:45:00                  0.004634                  0.011759   \n",
      "2022-01-03 23:00:00                  0.004089                  0.011047   \n",
      "2022-01-03 23:15:00                  0.003608                  0.010377   \n",
      "2022-01-03 23:30:00                  0.003183                  0.009748   \n",
      "2022-01-03 23:45:00                  0.002809                  0.009157   \n",
      "\n",
      "                     precip_mean_minute_ewm64  precip_mean_minute_ewm128  \\\n",
      "Date_Time                                                                  \n",
      "2022-01-03 22:45:00                  0.031096                   0.041380   \n",
      "2022-01-03 23:00:00                  0.030140                   0.040738   \n",
      "2022-01-03 23:15:00                  0.029212                   0.040107   \n",
      "2022-01-03 23:30:00                  0.028313                   0.039485   \n",
      "2022-01-03 23:45:00                  0.027442                   0.038873   \n",
      "\n",
      "                     precip_mean_minute_ewm256  precip_20_minute_ewm4  \\\n",
      "Date_Time                                                               \n",
      "2022-01-03 22:45:00                   0.036018           7.098876e-11   \n",
      "2022-01-03 23:00:00                   0.035738           4.259326e-11   \n",
      "2022-01-03 23:15:00                   0.035460           2.555596e-11   \n",
      "2022-01-03 23:30:00                   0.035184           1.533357e-11   \n",
      "2022-01-03 23:45:00                   0.034910           9.200144e-12   \n",
      "\n",
      "                     precip_20_minute_ewm8  precip_20_minute_ewm16  ...  \\\n",
      "Date_Time                                                           ...   \n",
      "2022-01-03 22:45:00               0.000008                0.002299  ...   \n",
      "2022-01-03 23:00:00               0.000006                0.002028  ...   \n",
      "2022-01-03 23:15:00               0.000005                0.001790  ...   \n",
      "2022-01-03 23:30:00               0.000004                0.001579  ...   \n",
      "2022-01-03 23:45:00               0.000003                0.001393  ...   \n",
      "\n",
      "                     precip_104_minute_ewm64  precip_104_minute_ewm128  \\\n",
      "Date_Time                                                                \n",
      "2022-01-03 22:45:00                 0.001369                  0.002013   \n",
      "2022-01-03 23:00:00                 0.001327                  0.001982   \n",
      "2022-01-03 23:15:00                 0.001286                  0.001951   \n",
      "2022-01-03 23:30:00                 0.001247                  0.001921   \n",
      "2022-01-03 23:45:00                 0.001208                  0.001891   \n",
      "\n",
      "                     precip_104_minute_ewm256  precip_134_minute_ewm4  \\\n",
      "Date_Time                                                               \n",
      "2022-01-03 22:45:00                  0.003079            8.262307e-68   \n",
      "2022-01-03 23:00:00                  0.003055            4.957384e-68   \n",
      "2022-01-03 23:15:00                  0.003032            2.974431e-68   \n",
      "2022-01-03 23:30:00                  0.003008            1.784658e-68   \n",
      "2022-01-03 23:45:00                  0.002985            1.070795e-68   \n",
      "\n",
      "                     precip_134_minute_ewm8  precip_134_minute_ewm16  \\\n",
      "Date_Time                                                              \n",
      "2022-01-03 22:45:00            1.169643e-34             1.081120e-18   \n",
      "2022-01-03 23:00:00            9.097222e-35             9.539295e-19   \n",
      "2022-01-03 23:15:00            7.075617e-35             8.417025e-19   \n",
      "2022-01-03 23:30:00            5.503258e-35             7.426787e-19   \n",
      "2022-01-03 23:45:00            4.280312e-35             6.553047e-19   \n",
      "\n",
      "                     precip_134_minute_ewm32  precip_134_minute_ewm64  \\\n",
      "Date_Time                                                               \n",
      "2022-01-03 22:45:00             7.385107e-11             1.048212e-06   \n",
      "2022-01-03 23:00:00             6.937525e-11             1.015960e-06   \n",
      "2022-01-03 23:15:00             6.517069e-11             9.846994e-07   \n",
      "2022-01-03 23:30:00             6.122095e-11             9.544010e-07   \n",
      "2022-01-03 23:45:00             5.751059e-11             9.250348e-07   \n",
      "\n",
      "                     precip_134_minute_ewm128  precip_134_minute_ewm256  \n",
      "Date_Time                                                                \n",
      "2022-01-03 22:45:00                  0.000162                  0.001767  \n",
      "2022-01-03 23:00:00                  0.000159                  0.001754  \n",
      "2022-01-03 23:15:00                  0.000157                  0.001740  \n",
      "2022-01-03 23:30:00                  0.000154                  0.001727  \n",
      "2022-01-03 23:45:00                  0.000152                  0.001713  \n",
      "\n",
      "[5 rows x 49 columns]\n"
     ]
    }
   ],
   "source": [
    "'''\n",
    "Minute steps - short timeframes\n",
    "well suited for weather, weather covariates are known all the way to the specific time step\n",
    "'''\n",
    "spans_minute = [4, 8, 16, 32, 64, 128, 256]\n",
    "\n",
    "minute_var_names = []\n",
    "for var in Variables.meteo_means_i + Variables.meteo_i:\n",
    "    print(var)\n",
    "    data, minute_var_ewms = generate_ewms(data, colname=var, span_list=spans_minute, var_suffix='minute', shift=0)\n",
    "    minute_var_names += minute_var_ewms\n",
    "\n",
    "print(data.filter(regex='precip.*minute').head())\n",
    "print(data.filter(regex='precip.*minute').tail())"
   ]
  },
  {
   "cell_type": "code",
   "execution_count": 17,
   "id": "3374d8a1",
   "metadata": {
    "execution": {
     "iopub.execute_input": "2022-08-24T07:37:52.580622Z",
     "iopub.status.busy": "2022-08-24T07:37:52.580326Z",
     "iopub.status.idle": "2022-08-24T07:37:52.765555Z",
     "shell.execute_reply": "2022-08-24T07:37:52.764990Z"
    },
    "lines_to_next_cell": 2,
    "papermill": {
     "duration": 0.191684,
     "end_time": "2022-08-24T07:37:52.766728",
     "exception": false,
     "start_time": "2022-08-24T07:37:52.575044",
     "status": "completed"
    },
    "tags": []
   },
   "outputs": [
    {
     "name": "stdout",
     "output_type": "stream",
     "text": [
      "Number of Folds = 388\n",
      "DatetimeIndex(['2022-01-01 00:00:00', '2022-01-01 00:15:00',\n",
      "               '2022-01-01 00:30:00', '2022-01-01 00:45:00',\n",
      "               '2022-01-01 01:00:00', '2022-01-01 01:15:00',\n",
      "               '2022-01-01 01:30:00', '2022-01-01 01:45:00',\n",
      "               '2022-01-01 02:00:00', '2022-01-01 02:15:00',\n",
      "               '2022-01-01 02:30:00', '2022-01-01 02:45:00',\n",
      "               '2022-01-01 03:00:00', '2022-01-01 03:15:00',\n",
      "               '2022-01-01 03:30:00', '2022-01-01 03:45:00',\n",
      "               '2022-01-01 04:00:00', '2022-01-01 04:15:00',\n",
      "               '2022-01-01 04:30:00', '2022-01-01 04:45:00',\n",
      "               '2022-01-01 05:00:00', '2022-01-01 05:15:00',\n",
      "               '2022-01-01 05:30:00', '2022-01-01 05:45:00',\n",
      "               '2022-01-01 06:00:00', '2022-01-01 06:15:00',\n",
      "               '2022-01-01 06:30:00', '2022-01-01 06:45:00',\n",
      "               '2022-01-01 07:00:00', '2022-01-01 07:15:00',\n",
      "               '2022-01-01 07:30:00', '2022-01-01 07:45:00',\n",
      "               '2022-01-01 08:00:00', '2022-01-01 08:15:00',\n",
      "               '2022-01-01 08:30:00', '2022-01-01 08:45:00',\n",
      "               '2022-01-01 09:00:00', '2022-01-01 09:15:00',\n",
      "               '2022-01-01 09:30:00', '2022-01-01 09:45:00',\n",
      "               '2022-01-01 10:00:00', '2022-01-01 10:15:00',\n",
      "               '2022-01-01 10:30:00', '2022-01-01 10:45:00',\n",
      "               '2022-01-01 11:00:00', '2022-01-01 11:15:00',\n",
      "               '2022-01-01 11:30:00', '2022-01-01 11:45:00',\n",
      "               '2022-01-01 12:00:00', '2022-01-01 12:15:00',\n",
      "               '2022-01-01 12:30:00', '2022-01-01 12:45:00',\n",
      "               '2022-01-01 13:00:00', '2022-01-01 13:15:00',\n",
      "               '2022-01-01 13:30:00', '2022-01-01 13:45:00',\n",
      "               '2022-01-01 14:00:00', '2022-01-01 14:15:00',\n",
      "               '2022-01-01 14:30:00', '2022-01-01 14:45:00',\n",
      "               '2022-01-01 15:00:00', '2022-01-01 15:15:00',\n",
      "               '2022-01-01 15:30:00', '2022-01-01 15:45:00',\n",
      "               '2022-01-01 16:00:00', '2022-01-01 16:15:00',\n",
      "               '2022-01-01 16:30:00', '2022-01-01 16:45:00',\n",
      "               '2022-01-01 17:00:00', '2022-01-01 17:15:00',\n",
      "               '2022-01-01 17:30:00', '2022-01-01 17:45:00',\n",
      "               '2022-01-01 18:00:00', '2022-01-01 18:15:00',\n",
      "               '2022-01-01 18:30:00', '2022-01-01 18:45:00',\n",
      "               '2022-01-01 19:00:00', '2022-01-01 19:15:00',\n",
      "               '2022-01-01 19:30:00', '2022-01-01 19:45:00',\n",
      "               '2022-01-01 20:00:00', '2022-01-01 20:15:00',\n",
      "               '2022-01-01 20:30:00', '2022-01-01 20:45:00',\n",
      "               '2022-01-01 21:00:00', '2022-01-01 21:15:00',\n",
      "               '2022-01-01 21:30:00', '2022-01-01 21:45:00',\n",
      "               '2022-01-01 22:00:00', '2022-01-01 22:15:00',\n",
      "               '2022-01-01 22:30:00', '2022-01-01 22:45:00',\n",
      "               '2022-01-01 23:00:00', '2022-01-01 23:15:00',\n",
      "               '2022-01-01 23:30:00', '2022-01-01 23:45:00'],\n",
      "              dtype='datetime64[ns]', name='Date_Time', freq='15T')\n"
     ]
    }
   ],
   "source": [
    "y = data.Value.asfreq('15min').dropna()\n",
    "step = 96\n",
    "fh = np.arange(97, 193)\n",
    "cv = ExpandingWindowSplitter(initial_window=step*(arima_init_steps+1), fh=fh, step_length=step)\n",
    "\n",
    "n_splits = cv.get_n_splits(y)\n",
    "print(f\"Number of Folds = {n_splits}\")\n",
    "\n",
    "train_windows, test_windows = get_windows(y, cv)\n",
    "# plot_windows(y, train_windows, test_windows)\n",
    "\n",
    "print(y[test_windows[-1]].index)"
   ]
  },
  {
   "cell_type": "code",
   "execution_count": 18,
   "id": "64d56c62",
   "metadata": {
    "execution": {
     "iopub.execute_input": "2022-08-24T07:37:52.776425Z",
     "iopub.status.busy": "2022-08-24T07:37:52.776253Z",
     "iopub.status.idle": "2022-08-24T07:38:38.729116Z",
     "shell.execute_reply": "2022-08-24T07:38:38.728488Z"
    },
    "lines_to_next_cell": 0,
    "papermill": {
     "duration": 45.967001,
     "end_time": "2022-08-24T07:38:38.738386",
     "exception": false,
     "start_time": "2022-08-24T07:37:52.771385",
     "status": "completed"
    },
    "tags": []
   },
   "outputs": [
    {
     "name": "stdout",
     "output_type": "stream",
     "text": [
      "AutoETS as detrender n_val=37248 SMAPE=0.3322 RMSE=480.52 MAE=333.20\n"
     ]
    }
   ],
   "source": [
    "y_pred, y_test, smape_test, rmse_test, mae_test, df = cv_evaluate(forecaster=AutoETS(trend='add', damped_trend=True), y=y, cv=cv, X=None)\n",
    "\n",
    "print(f\"AutoETS as detrender n_val={len(y_pred)} SMAPE={smape_test:.4f} RMSE={rmse_test:.2f} MAE={mae_test:.2f}\")"
   ]
  },
  {
   "cell_type": "code",
   "execution_count": 19,
   "id": "f6b21f1c",
   "metadata": {
    "execution": {
     "iopub.execute_input": "2022-08-24T07:38:38.748195Z",
     "iopub.status.busy": "2022-08-24T07:38:38.748008Z",
     "iopub.status.idle": "2022-08-24T07:38:39.020207Z",
     "shell.execute_reply": "2022-08-24T07:38:39.019640Z"
    },
    "papermill": {
     "duration": 0.27878,
     "end_time": "2022-08-24T07:38:39.021521",
     "exception": false,
     "start_time": "2022-08-24T07:38:38.742741",
     "status": "completed"
    },
    "tags": []
   },
   "outputs": [],
   "source": [
    "fh_2days = np.arange(1, 193)\n",
    "ets_trend = AutoETS(trend='add', damped_trend=True)\n",
    "ets_trend.fit(y, fh = fh_2days)\n",
    "y_pred_2days = ets_trend.predict(fh = fh_2days)\n",
    "data = data.assign(ets=y_pred)\n",
    "data.loc[y_pred_2days.index, 'ets'] = y_pred_2days"
   ]
  },
  {
   "cell_type": "code",
   "execution_count": 20,
   "id": "b7b15eb8",
   "metadata": {
    "execution": {
     "iopub.execute_input": "2022-08-24T07:38:39.032536Z",
     "iopub.status.busy": "2022-08-24T07:38:39.032348Z",
     "iopub.status.idle": "2022-08-24T07:49:43.540913Z",
     "shell.execute_reply": "2022-08-24T07:49:43.540039Z"
    },
    "lines_to_next_cell": 0,
    "papermill": {
     "duration": 664.516346,
     "end_time": "2022-08-24T07:49:43.542859",
     "exception": false,
     "start_time": "2022-08-24T07:38:39.026513",
     "status": "completed"
    },
    "tags": []
   },
   "outputs": [
    {
     "name": "stdout",
     "output_type": "stream",
     "text": [
      "ExponentialSmoothing as detrender n_val=37248 SMAPE=0.3349 RMSE=481.14 MAE=333.68\n"
     ]
    }
   ],
   "source": [
    "\n",
    "# ExponentialSmoothing(trend=\"add\", damped_trend=True, remove_bias=True)\n",
    "y_pred, y_test, smape_test, rmse_test, mae_test, df = cv_evaluate(forecaster=ExponentialSmoothing(trend=\"add\", damped_trend=True, remove_bias=True), y=y, cv=cv, X=None)\n",
    "print(f\"ExponentialSmoothing as detrender n_val={len(y_pred)} SMAPE={smape_test:.4f} RMSE={rmse_test:.2f} MAE={mae_test:.2f}\")\n",
    "\n",
    "data = data.assign(exp=y_pred)"
   ]
  },
  {
   "cell_type": "code",
   "execution_count": 21,
   "id": "454331b2",
   "metadata": {
    "execution": {
     "iopub.execute_input": "2022-08-24T07:49:43.558270Z",
     "iopub.status.busy": "2022-08-24T07:49:43.557991Z",
     "iopub.status.idle": "2022-08-24T07:49:46.498431Z",
     "shell.execute_reply": "2022-08-24T07:49:46.497053Z"
    },
    "lines_to_next_cell": 2,
    "papermill": {
     "duration": 2.951956,
     "end_time": "2022-08-24T07:49:46.502034",
     "exception": false,
     "start_time": "2022-08-24T07:49:43.550078",
     "status": "completed"
    },
    "tags": []
   },
   "outputs": [],
   "source": [
    "fh_2days = np.arange(1, 193)\n",
    "exp_trend = ExponentialSmoothing(trend=\"add\", damped_trend=True, remove_bias=True)\n",
    "exp_trend.fit(y, fh = fh_2days)\n",
    "y_pred_2days = exp_trend.predict(fh = fh_2days)\n",
    "data.loc[y_pred_2days.index, 'exp'] = y_pred_2days"
   ]
  },
  {
   "cell_type": "code",
   "execution_count": 22,
   "id": "f1357fef",
   "metadata": {
    "execution": {
     "iopub.execute_input": "2022-08-24T07:49:46.556082Z",
     "iopub.status.busy": "2022-08-24T07:49:46.555335Z",
     "iopub.status.idle": "2022-08-24T07:49:46.672986Z",
     "shell.execute_reply": "2022-08-24T07:49:46.672131Z"
    },
    "papermill": {
     "duration": 0.14913,
     "end_time": "2022-08-24T07:49:46.674782",
     "exception": false,
     "start_time": "2022-08-24T07:49:46.525652",
     "status": "completed"
    },
    "tags": []
   },
   "outputs": [
    {
     "name": "stdout",
     "output_type": "stream",
     "text": [
      "Number of Folds = 388\n",
      "DatetimeIndex(['2022-01-01'], dtype='datetime64[ns]', name='Date_Time', freq='D')\n"
     ]
    }
   ],
   "source": [
    "'''\n",
    "STL daily forecaster\n",
    "'''\n",
    "y = data.Value.resample('D').mean().dropna()\n",
    "step = 1\n",
    "fh = [2]\n",
    "cv = ExpandingWindowSplitter(initial_window=step*(arima_init_steps+1), fh=fh, step_length=step)\n",
    "\n",
    "n_splits = cv.get_n_splits(y)\n",
    "print(f\"Number of Folds = {n_splits}\")\n",
    "\n",
    "train_windows, test_windows = get_windows(y, cv)\n",
    "# plot_windows(y, train_windows, test_windows)\n",
    "\n",
    "print(y[test_windows[-1]].index)"
   ]
  },
  {
   "cell_type": "code",
   "execution_count": 23,
   "id": "98d386c1",
   "metadata": {
    "execution": {
     "iopub.execute_input": "2022-08-24T07:49:46.691643Z",
     "iopub.status.busy": "2022-08-24T07:49:46.691334Z",
     "iopub.status.idle": "2022-08-24T07:49:57.971856Z",
     "shell.execute_reply": "2022-08-24T07:49:57.969834Z"
    },
    "papermill": {
     "duration": 11.294447,
     "end_time": "2022-08-24T07:49:57.977165",
     "exception": false,
     "start_time": "2022-08-24T07:49:46.682718",
     "status": "completed"
    },
    "tags": []
   },
   "outputs": [],
   "source": [
    "y_pred, y_test, smape_test, rmse_test, mae_test, df = cv_evaluate(forecaster=STLForecaster(sp = 7, robust=True), y=y, cv=cv, X=None)"
   ]
  },
  {
   "cell_type": "code",
   "execution_count": 24,
   "id": "97299e00",
   "metadata": {
    "execution": {
     "iopub.execute_input": "2022-08-24T07:49:58.018473Z",
     "iopub.status.busy": "2022-08-24T07:49:58.018233Z",
     "iopub.status.idle": "2022-08-24T07:49:58.232355Z",
     "shell.execute_reply": "2022-08-24T07:49:58.231627Z"
    },
    "lines_to_next_cell": 0,
    "papermill": {
     "duration": 0.24434,
     "end_time": "2022-08-24T07:49:58.233930",
     "exception": false,
     "start_time": "2022-08-24T07:49:57.989590",
     "status": "completed"
    },
    "tags": []
   },
   "outputs": [],
   "source": [
    "fh_2days = [1,2]\n",
    "stl_trend = STLForecaster(sp = 7, robust=True)\n",
    "stl_trend.fit(y, fh = fh_2days)\n",
    "y_pred_2days = stl_trend.predict(fh = fh_2days)\n",
    "\n",
    "data = data.assign(stl=y_pred)\n",
    "data.loc[y_pred_2days.index, 'stl'] = y_pred_2days\n",
    "data['stl'] = data['stl'].ffill()"
   ]
  },
  {
   "cell_type": "code",
   "execution_count": 25,
   "id": "8eb38647",
   "metadata": {
    "execution": {
     "iopub.execute_input": "2022-08-24T07:49:58.247603Z",
     "iopub.status.busy": "2022-08-24T07:49:58.247276Z",
     "iopub.status.idle": "2022-08-24T07:49:58.368353Z",
     "shell.execute_reply": "2022-08-24T07:49:58.367632Z"
    },
    "lines_to_next_cell": 0,
    "papermill": {
     "duration": 0.12968,
     "end_time": "2022-08-24T07:49:58.369963",
     "exception": false,
     "start_time": "2022-08-24T07:49:58.240283",
     "status": "completed"
    },
    "tags": []
   },
   "outputs": [],
   "source": [
    "eval_df = data[['stl', 'Value']].dropna()\n",
    "y_true = eval_df['Value']\n",
    "y_pred = eval_df['stl']"
   ]
  },
  {
   "cell_type": "code",
   "execution_count": 26,
   "id": "7dabfd87",
   "metadata": {
    "execution": {
     "iopub.execute_input": "2022-08-24T07:49:58.383939Z",
     "iopub.status.busy": "2022-08-24T07:49:58.383703Z",
     "iopub.status.idle": "2022-08-24T07:49:58.403522Z",
     "shell.execute_reply": "2022-08-24T07:49:58.402744Z"
    },
    "papermill": {
     "duration": 0.02849,
     "end_time": "2022-08-24T07:49:58.405046",
     "exception": false,
     "start_time": "2022-08-24T07:49:58.376556",
     "status": "completed"
    },
    "tags": []
   },
   "outputs": [
    {
     "name": "stdout",
     "output_type": "stream",
     "text": [
      "STL(daily, period=7) as a detrender n_val=37248 SMAPE=0.3421 RMSE=574.79 MAE=417.06\n"
     ]
    }
   ],
   "source": [
    "smape_stl = smape(y_true, y_pred)\n",
    "rmse_stl = rmse(y_true, y_pred)\n",
    "mae_stl = mae(y_true, y_pred)\n",
    "\n",
    "print(f\"STL(daily, period=7) as a detrender n_val={len(y_pred)} SMAPE={smape_stl:.4f} RMSE={rmse_stl:.2f} MAE={mae_stl:.2f}\")"
   ]
  },
  {
   "cell_type": "code",
   "execution_count": 27,
   "id": "fbff72d6",
   "metadata": {
    "execution": {
     "iopub.execute_input": "2022-08-24T07:49:58.420038Z",
     "iopub.status.busy": "2022-08-24T07:49:58.419358Z",
     "iopub.status.idle": "2022-08-24T07:51:07.870338Z",
     "shell.execute_reply": "2022-08-24T07:51:07.869605Z"
    },
    "lines_to_next_cell": 0,
    "papermill": {
     "duration": 69.460055,
     "end_time": "2022-08-24T07:51:07.871834",
     "exception": false,
     "start_time": "2022-08-24T07:49:58.411779",
     "status": "completed"
    },
    "tags": []
   },
   "outputs": [
    {
     "name": "stdout",
     "output_type": "stream",
     "text": [
      "Current day=2020-12-09 predicting day=2020-12-10 with last training date=2020-12-08\n",
      "- STL lag2 trend=1324.5212941296984 seasonal=22.634955870301702\n",
      "-inserting arima forecasts, stl components, into 2020-12-10 trained on data until 2020-12-08\n",
      "\n",
      "Current day=2020-12-10 predicting day=2020-12-11 with last training date=2020-12-09\n"
     ]
    },
    {
     "name": "stdout",
     "output_type": "stream",
     "text": [
      "- STL lag2 trend=1389.522620461038 seasonal=102.98779620562858\n",
      "-inserting arima forecasts, stl components, into 2020-12-11 trained on data until 2020-12-09\n",
      "\n",
      "Current day=2020-12-11 predicting day=2020-12-12 with last training date=2020-12-10\n"
     ]
    },
    {
     "name": "stdout",
     "output_type": "stream",
     "text": [
      "- STL lag2 trend=1402.731290225478 seasonal=-4.095873558811396\n",
      "-inserting arima forecasts, stl components, into 2020-12-12 trained on data until 2020-12-10\n",
      "\n",
      "Current day=2020-12-12 predicting day=2020-12-13 with last training date=2020-12-11\n",
      "- STL lag2 trend=1447.0956632650327 seasonal=-12.595663265032188\n",
      "-inserting arima forecasts, stl components, into 2020-12-13 trained on data until 2020-12-11\n",
      "\n",
      "Current day=2020-12-13 predicting day=2020-12-14 with last training date=2020-12-12\n"
     ]
    },
    {
     "name": "stdout",
     "output_type": "stream",
     "text": [
      "- STL lag2 trend=1518.1099043495556 seasonal=176.608845650444\n",
      "-inserting arima forecasts, stl components, into 2020-12-14 trained on data until 2020-12-12\n",
      "\n",
      "Current day=2020-12-14 predicting day=2020-12-15 with last training date=2020-12-13\n"
     ]
    },
    {
     "name": "stdout",
     "output_type": "stream",
     "text": [
      "- STL lag2 trend=1554.0807823129248 seasonal=5.252551020408785\n",
      "-inserting arima forecasts, stl components, into 2020-12-15 trained on data until 2020-12-13\n",
      "\n",
      "Current day=2020-12-15 predicting day=2020-12-16 with last training date=2020-12-14\n"
     ]
    },
    {
     "name": "stdout",
     "output_type": "stream",
     "text": [
      "- STL lag2 trend=1581.2370323129257 seasonal=-172.8203656462587\n",
      "-inserting arima forecasts, stl components, into 2020-12-16 trained on data until 2020-12-14\n",
      "\n",
      "Current day=2020-12-16 predicting day=2020-12-17 with last training date=2020-12-15\n"
     ]
    },
    {
     "name": "stdout",
     "output_type": "stream",
     "text": [
      "- STL lag2 trend=1591.816705675931 seasonal=-235.21209473465552\n",
      "-inserting arima forecasts, stl components, into 2020-12-17 trained on data until 2020-12-15\n",
      "\n",
      "Current day=2020-12-17 predicting day=2020-12-18 with last training date=2020-12-16\n",
      "- STL lag2 trend=1530.766543436359 seasonal=-311.29724265534577\n",
      "-inserting arima forecasts, stl components, into 2020-12-18 trained on data until 2020-12-16\n",
      "\n",
      "Current day=2020-12-18 predicting day=2020-12-19 with last training date=2020-12-17\n"
     ]
    },
    {
     "name": "stdout",
     "output_type": "stream",
     "text": [
      "- STL lag2 trend=1531.8508686231821 seasonal=-254.49665612124105\n",
      "-inserting arima forecasts, stl components, into 2020-12-19 trained on data until 2020-12-17\n",
      "\n",
      "Current day=2020-12-19 predicting day=2020-12-20 with last training date=2020-12-18\n",
      "- STL lag2 trend=1483.1010767000462 seasonal=-295.3924221001823\n",
      "-inserting arima forecasts, stl components, into 2020-12-20 trained on data until 2020-12-18\n",
      "\n",
      "Current day=2020-12-20 predicting day=2020-12-21 with last training date=2020-12-19\n"
     ]
    },
    {
     "name": "stdout",
     "output_type": "stream",
     "text": [
      "- STL lag2 trend=1377.3984307962369 seasonal=-181.46106589434038\n",
      "-inserting arima forecasts, stl components, into 2020-12-21 trained on data until 2020-12-19\n",
      "\n",
      "Current day=2020-12-21 predicting day=2020-12-22 with last training date=2020-12-20\n",
      "- STL lag2 trend=1260.2346523846359 seasonal=-191.34616574396028\n",
      "-inserting arima forecasts, stl components, into 2020-12-22 trained on data until 2020-12-20\n",
      "\n",
      "Current day=2020-12-22 predicting day=2020-12-23 with last training date=2020-12-21\n",
      "- STL lag2 trend=1158.6552444692197 seasonal=-55.24745914347354\n",
      "-inserting arima forecasts, stl components, into 2020-12-23 trained on data until 2020-12-21\n",
      "\n",
      "Current day=2020-12-23 predicting day=2020-12-24 with last training date=2020-12-22\n"
     ]
    },
    {
     "name": "stdout",
     "output_type": "stream",
     "text": [
      "- STL lag2 trend=1070.333995531547 seasonal=64.31183780178823\n",
      "-inserting arima forecasts, stl components, into 2020-12-24 trained on data until 2020-12-22\n",
      "\n",
      "Current day=2020-12-24 predicting day=2020-12-25 with last training date=2020-12-23\n",
      "- STL lag2 trend=1074.219803323585 seasonal=152.9676966764123\n",
      "-inserting arima forecasts, stl components, into 2020-12-25 trained on data until 2020-12-23\n",
      "\n",
      "Current day=2020-12-25 predicting day=2020-12-26 with last training date=2020-12-24\n"
     ]
    },
    {
     "name": "stdout",
     "output_type": "stream",
     "text": [
      "- STL lag2 trend=1111.1573892720394 seasonal=426.8729209049929\n",
      "-inserting arima forecasts, stl components, into 2020-12-26 trained on data until 2020-12-24\n",
      "\n",
      "Current day=2020-12-26 predicting day=2020-12-27 with last training date=2020-12-25\n",
      "- STL lag2 trend=1290.4833229468925 seasonal=582.9846726109574\n",
      "-inserting arima forecasts, stl components, into 2020-12-27 trained on data until 2020-12-25\n",
      "\n",
      "Current day=2020-12-27 predicting day=2020-12-28 with last training date=2020-12-26\n"
     ]
    },
    {
     "name": "stdout",
     "output_type": "stream",
     "text": [
      "- STL lag2 trend=1385.1372305282453 seasonal=576.2802635897676\n",
      "-inserting arima forecasts, stl components, into 2020-12-28 trained on data until 2020-12-26\n",
      "\n",
      "Current day=2020-12-28 predicting day=2020-12-29 with last training date=2020-12-27\n",
      "- STL lag2 trend=1541.1963849173212 seasonal=338.6844433505896\n",
      "-inserting arima forecasts, stl components, into 2020-12-29 trained on data until 2020-12-27\n",
      "\n",
      "Current day=2020-12-29 predicting day=2020-12-30 with last training date=2020-12-28\n"
     ]
    },
    {
     "name": "stdout",
     "output_type": "stream",
     "text": [
      "- STL lag2 trend=1652.4269217592741 seasonal=19.184877835825553\n",
      "-inserting arima forecasts, stl components, into 2020-12-30 trained on data until 2020-12-28\n",
      "\n",
      "Current day=2020-12-30 predicting day=2020-12-31 with last training date=2020-12-29\n",
      "- STL lag2 trend=1843.9479570443773 seasonal=-26.34392891614752\n",
      "-inserting arima forecasts, stl components, into 2020-12-31 trained on data until 2020-12-29\n",
      "\n",
      "Current day=2020-12-31 predicting day=2021-01-01 with last training date=2020-12-30\n"
     ]
    },
    {
     "name": "stdout",
     "output_type": "stream",
     "text": [
      "- STL lag2 trend=1987.3662968932897 seasonal=-374.3045432211743\n",
      "-inserting arima forecasts, stl components, into 2021-01-01 trained on data until 2020-12-30\n",
      "\n",
      "Current day=2021-01-01 predicting day=2021-01-02 with last training date=2020-12-31\n",
      "- STL lag2 trend=1753.0393020925844 seasonal=-997.8024750995922\n",
      "-inserting arima forecasts, stl components, into 2021-01-02 trained on data until 2020-12-31\n",
      "\n",
      "Current day=2021-01-02 predicting day=2021-01-03 with last training date=2021-01-01\n"
     ]
    },
    {
     "name": "stdout",
     "output_type": "stream",
     "text": [
      "- STL lag2 trend=1484.7126282357226 seasonal=-345.57476650203006\n",
      "-inserting arima forecasts, stl components, into 2021-01-03 trained on data until 2021-01-01\n",
      "\n",
      "Current day=2021-01-03 predicting day=2021-01-04 with last training date=2021-01-02\n",
      "- STL lag2 trend=1216.3940072118749 seasonal=549.2472407412316\n",
      "-inserting arima forecasts, stl components, into 2021-01-04 trained on data until 2021-01-02\n",
      "\n",
      "Current day=2021-01-04 predicting day=2021-01-05 with last training date=2021-01-03\n"
     ]
    },
    {
     "name": "stdout",
     "output_type": "stream",
     "text": [
      "- STL lag2 trend=1264.822535047176 seasonal=866.5283040479094\n",
      "-inserting arima forecasts, stl components, into 2021-01-05 trained on data until 2021-01-03\n",
      "\n",
      "Current day=2021-01-05 predicting day=2021-01-06 with last training date=2021-01-04\n",
      "- STL lag2 trend=1541.6535321081408 seasonal=780.4661402411599\n",
      "-inserting arima forecasts, stl components, into 2021-01-06 trained on data until 2021-01-04\n",
      "\n",
      "Current day=2021-01-06 predicting day=2021-01-07 with last training date=2021-01-05\n"
     ]
    },
    {
     "name": "stdout",
     "output_type": "stream",
     "text": [
      "- STL lag2 trend=1706.9126718012517 seasonal=741.022663141144\n",
      "-inserting arima forecasts, stl components, into 2021-01-07 trained on data until 2021-01-05\n",
      "\n",
      "Current day=2021-01-07 predicting day=2021-01-08 with last training date=2021-01-06\n",
      "- STL lag2 trend=1964.640406036027 seasonal=87.04702857470856\n",
      "-inserting arima forecasts, stl components, into 2021-01-08 trained on data until 2021-01-06\n",
      "\n",
      "Current day=2021-01-08 predicting day=2021-01-09 with last training date=2021-01-07\n"
     ]
    },
    {
     "name": "stdout",
     "output_type": "stream",
     "text": [
      "- STL lag2 trend=2323.5340489729456 seasonal=227.08244311486376\n",
      "-inserting arima forecasts, stl components, into 2021-01-09 trained on data until 2021-01-07\n",
      "\n",
      "Current day=2021-01-09 predicting day=2021-01-10 with last training date=2021-01-08\n",
      "- STL lag2 trend=2546.0555200806875 seasonal=-91.21158714686882\n",
      "-inserting arima forecasts, stl components, into 2021-01-10 trained on data until 2021-01-08\n",
      "\n",
      "Current day=2021-01-10 predicting day=2021-01-11 with last training date=2021-01-09\n"
     ]
    },
    {
     "name": "stdout",
     "output_type": "stream",
     "text": [
      "- STL lag2 trend=2693.7874285674293 seasonal=-330.57116334393544\n",
      "-inserting arima forecasts, stl components, into 2021-01-11 trained on data until 2021-01-09\n",
      "\n",
      "Current day=2021-01-11 predicting day=2021-01-12 with last training date=2021-01-10\n",
      "- STL lag2 trend=2660.774027462219 seasonal=54.58882697952873\n",
      "-inserting arima forecasts, stl components, into 2021-01-12 trained on data until 2021-01-10\n",
      "\n",
      "Current day=2021-01-12 predicting day=2021-01-13 with last training date=2021-01-11\n"
     ]
    },
    {
     "name": "stdout",
     "output_type": "stream",
     "text": [
      "- STL lag2 trend=2431.6126356044524 seasonal=-433.49040323805104\n",
      "-inserting arima forecasts, stl components, into 2021-01-13 trained on data until 2021-01-11\n",
      "\n",
      "Current day=2021-01-13 predicting day=2021-01-14 with last training date=2021-01-12\n",
      "- STL lag2 trend=2335.479086775283 seasonal=-466.0004172022771\n",
      "-inserting arima forecasts, stl components, into 2021-01-14 trained on data until 2021-01-12\n",
      "\n",
      "Current day=2021-01-14 predicting day=2021-01-15 with last training date=2021-01-13\n"
     ]
    },
    {
     "name": "stdout",
     "output_type": "stream",
     "text": [
      "- STL lag2 trend=2234.64406594297 seasonal=-513.416941572519\n",
      "-inserting arima forecasts, stl components, into 2021-01-15 trained on data until 2021-01-13\n",
      "\n",
      "Current day=2021-01-15 predicting day=2021-01-16 with last training date=2021-01-14\n",
      "- STL lag2 trend=2108.942252759159 seasonal=-300.1923449837822\n",
      "-inserting arima forecasts, stl components, into 2021-01-16 trained on data until 2021-01-14\n",
      "\n",
      "Current day=2021-01-16 predicting day=2021-01-17 with last training date=2021-01-15\n"
     ]
    },
    {
     "name": "stdout",
     "output_type": "stream",
     "text": [
      "- STL lag2 trend=2000.190541852931 seasonal=-153.09440452553432\n",
      "-inserting arima forecasts, stl components, into 2021-01-17 trained on data until 2021-01-15\n",
      "\n",
      "Current day=2021-01-17 predicting day=2021-01-18 with last training date=2021-01-16\n",
      "- STL lag2 trend=1701.9106118329905 seasonal=72.22047006010513\n",
      "-inserting arima forecasts, stl components, into 2021-01-18 trained on data until 2021-01-16\n",
      "\n",
      "Current day=2021-01-18 predicting day=2021-01-19 with last training date=2021-01-17\n"
     ]
    },
    {
     "name": "stdout",
     "output_type": "stream",
     "text": [
      "- STL lag2 trend=1546.9610926529413 seasonal=66.74983065949415\n",
      "-inserting arima forecasts, stl components, into 2021-01-19 trained on data until 2021-01-17\n",
      "\n",
      "Current day=2021-01-19 predicting day=2021-01-20 with last training date=2021-01-18\n",
      "- STL lag2 trend=1439.085421820023 seasonal=-128.41630235286436\n",
      "-inserting arima forecasts, stl components, into 2021-01-20 trained on data until 2021-01-18\n",
      "\n",
      "Current day=2021-01-20 predicting day=2021-01-21 with last training date=2021-01-19\n"
     ]
    },
    {
     "name": "stdout",
     "output_type": "stream",
     "text": [
      "- STL lag2 trend=1366.5695150673162 seasonal=-96.03067419006685\n",
      "-inserting arima forecasts, stl components, into 2021-01-21 trained on data until 2021-01-19\n",
      "\n",
      "Current day=2021-01-21 predicting day=2021-01-22 with last training date=2021-01-20\n",
      "- STL lag2 trend=1336.438777827162 seasonal=40.05298716253731\n",
      "-inserting arima forecasts, stl components, into 2021-01-22 trained on data until 2021-01-20\n",
      "\n",
      "Current day=2021-01-22 predicting day=2021-01-23 with last training date=2021-01-21\n"
     ]
    },
    {
     "name": "stdout",
     "output_type": "stream",
     "text": [
      "- STL lag2 trend=1324.401533360022 seasonal=319.0716666209015\n",
      "-inserting arima forecasts, stl components, into 2021-01-23 trained on data until 2021-01-21\n",
      "\n",
      "Current day=2021-01-23 predicting day=2021-01-24 with last training date=2021-01-22\n",
      "- STL lag2 trend=1313.6508636185256 seasonal=304.6837550111577\n",
      "-inserting arima forecasts, stl components, into 2021-01-24 trained on data until 2021-01-22\n",
      "\n",
      "Current day=2021-01-24 predicting day=2021-01-25 with last training date=2021-01-23\n"
     ]
    },
    {
     "name": "stdout",
     "output_type": "stream",
     "text": [
      "- STL lag2 trend=1437.9093897723626 seasonal=477.74506259324943\n",
      "-inserting arima forecasts, stl components, into 2021-01-25 trained on data until 2021-01-23\n",
      "\n",
      "Current day=2021-01-25 predicting day=2021-01-26 with last training date=2021-01-24\n",
      "- STL lag2 trend=1451.2398648048988 seasonal=-19.514381965574245\n",
      "-inserting arima forecasts, stl components, into 2021-01-26 trained on data until 2021-01-24\n",
      "\n",
      "Current day=2021-01-26 predicting day=2021-01-27 with last training date=2021-01-25\n"
     ]
    },
    {
     "name": "stdout",
     "output_type": "stream",
     "text": [
      "- STL lag2 trend=1324.2981539232355 seasonal=-397.2728306498428\n",
      "-inserting arima forecasts, stl components, into 2021-01-27 trained on data until 2021-01-25\n",
      "\n",
      "Current day=2021-01-27 predicting day=2021-01-28 with last training date=2021-01-26\n",
      "- STL lag2 trend=1407.2110971936174 seasonal=-82.1317717176486\n",
      "-inserting arima forecasts, stl components, into 2021-01-28 trained on data until 2021-01-26\n",
      "\n",
      "Current day=2021-01-28 predicting day=2021-01-29 with last training date=2021-01-27\n"
     ]
    },
    {
     "name": "stdout",
     "output_type": "stream",
     "text": [
      "- STL lag2 trend=1516.5213885682174 seasonal=22.789760399839004\n",
      "-inserting arima forecasts, stl components, into 2021-01-29 trained on data until 2021-01-27\n",
      "\n",
      "Current day=2021-01-29 predicting day=2021-01-30 with last training date=2021-01-28\n",
      "- STL lag2 trend=1634.2826264387859 seasonal=276.28981422213496\n",
      "-inserting arima forecasts, stl components, into 2021-01-30 trained on data until 2021-01-28\n",
      "\n",
      "Current day=2021-01-30 predicting day=2021-01-31 with last training date=2021-01-29\n"
     ]
    },
    {
     "name": "stdout",
     "output_type": "stream",
     "text": [
      "- STL lag2 trend=1795.630143097192 seasonal=159.52918422634178\n",
      "-inserting arima forecasts, stl components, into 2021-01-31 trained on data until 2021-01-29\n",
      "\n",
      "Current day=2021-01-31 predicting day=2021-02-01 with last training date=2021-01-30\n",
      "- STL lag2 trend=1796.6373159850646 seasonal=229.4965739596625\n",
      "-inserting arima forecasts, stl components, into 2021-02-01 trained on data until 2021-01-30\n",
      "\n",
      "Current day=2021-02-01 predicting day=2021-02-02 with last training date=2021-01-31\n"
     ]
    },
    {
     "name": "stdout",
     "output_type": "stream",
     "text": [
      "- STL lag2 trend=1798.6830069796565 seasonal=-62.07771124313469\n",
      "-inserting arima forecasts, stl components, into 2021-02-02 trained on data until 2021-01-31\n",
      "\n",
      "Current day=2021-02-02 predicting day=2021-02-03 with last training date=2021-02-01\n",
      "- STL lag2 trend=1858.1756700452338 seasonal=-146.3410287837138\n",
      "-inserting arima forecasts, stl components, into 2021-02-03 trained on data until 2021-02-01\n",
      "\n",
      "Current day=2021-02-03 predicting day=2021-02-04 with last training date=2021-02-02\n"
     ]
    },
    {
     "name": "stdout",
     "output_type": "stream",
     "text": [
      "- STL lag2 trend=2023.9789426188725 seasonal=-177.58951225285816\n",
      "-inserting arima forecasts, stl components, into 2021-02-04 trained on data until 2021-02-02\n",
      "\n",
      "Current day=2021-02-04 predicting day=2021-02-05 with last training date=2021-02-03\n",
      "- STL lag2 trend=2037.710328082599 seasonal=-64.22713412685725\n",
      "-inserting arima forecasts, stl components, into 2021-02-05 trained on data until 2021-02-03\n",
      "\n",
      "Current day=2021-02-05 predicting day=2021-02-06 with last training date=2021-02-04\n"
     ]
    },
    {
     "name": "stdout",
     "output_type": "stream",
     "text": [
      "- STL lag2 trend=1977.1072975983236 seasonal=166.1350505762329\n",
      "-inserting arima forecasts, stl components, into 2021-02-06 trained on data until 2021-02-04\n",
      "\n",
      "Current day=2021-02-06 predicting day=2021-02-07 with last training date=2021-02-05\n",
      "- STL lag2 trend=1940.5600277856015 seasonal=-69.12445834310694\n",
      "-inserting arima forecasts, stl components, into 2021-02-07 trained on data until 2021-02-05\n",
      "\n",
      "Current day=2021-02-07 predicting day=2021-02-08 with last training date=2021-02-06\n"
     ]
    },
    {
     "name": "stdout",
     "output_type": "stream",
     "text": [
      "- STL lag2 trend=1867.222793953486 seasonal=170.76697362912697\n",
      "-inserting arima forecasts, stl components, into 2021-02-08 trained on data until 2021-02-06\n",
      "\n",
      "Current day=2021-02-08 predicting day=2021-02-09 with last training date=2021-02-07\n",
      "- STL lag2 trend=2013.0093394410846 seasonal=-33.71567705343679\n",
      "-inserting arima forecasts, stl components, into 2021-02-09 trained on data until 2021-02-07\n",
      "\n",
      "Current day=2021-02-09 predicting day=2021-02-10 with last training date=2021-02-08\n"
     ]
    },
    {
     "name": "stdout",
     "output_type": "stream",
     "text": [
      "- STL lag2 trend=1953.0118745541445 seasonal=-685.1989677530835\n",
      "-inserting arima forecasts, stl components, into 2021-02-10 trained on data until 2021-02-08\n",
      "\n",
      "Current day=2021-02-10 predicting day=2021-02-11 with last training date=2021-02-09\n",
      "- STL lag2 trend=1784.9194318924774 seasonal=-415.1377483337351\n",
      "-inserting arima forecasts, stl components, into 2021-02-11 trained on data until 2021-02-09\n",
      "\n",
      "Current day=2021-02-11 predicting day=2021-02-12 with last training date=2021-02-10\n"
     ]
    },
    {
     "name": "stdout",
     "output_type": "stream",
     "text": [
      "- STL lag2 trend=1258.097553408095 seasonal=-309.72028489590576\n",
      "-inserting arima forecasts, stl components, into 2021-02-12 trained on data until 2021-02-10\n",
      "\n",
      "Current day=2021-02-12 predicting day=2021-02-13 with last training date=2021-02-11\n",
      "- STL lag2 trend=1079.2841108498938 seasonal=221.74531420204193\n",
      "-inserting arima forecasts, stl components, into 2021-02-13 trained on data until 2021-02-11\n",
      "\n",
      "Current day=2021-02-13 predicting day=2021-02-14 with last training date=2021-02-12\n"
     ]
    },
    {
     "name": "stdout",
     "output_type": "stream",
     "text": [
      "- STL lag2 trend=984.226755736729 seasonal=450.2792618009627\n",
      "-inserting arima forecasts, stl components, into 2021-02-14 trained on data until 2021-02-12\n",
      "\n",
      "Current day=2021-02-14 predicting day=2021-02-15 with last training date=2021-02-13\n",
      "- STL lag2 trend=930.1523281255688 seasonal=617.7521511560506\n",
      "-inserting arima forecasts, stl components, into 2021-02-15 trained on data until 2021-02-13\n",
      "\n",
      "Current day=2021-02-15 predicting day=2021-02-16 with last training date=2021-02-14\n"
     ]
    },
    {
     "name": "stdout",
     "output_type": "stream",
     "text": [
      "- STL lag2 trend=994.7207231747105 seasonal=705.1122168257625\n",
      "-inserting arima forecasts, stl components, into 2021-02-16 trained on data until 2021-02-14\n",
      "\n",
      "Current day=2021-02-16 predicting day=2021-02-17 with last training date=2021-02-15\n",
      "- STL lag2 trend=930.1535413012462 seasonal=-112.64745017250699\n",
      "-inserting arima forecasts, stl components, into 2021-02-17 trained on data until 2021-02-15\n",
      "\n",
      "Current day=2021-02-17 predicting day=2021-02-18 with last training date=2021-02-16\n"
     ]
    },
    {
     "name": "stdout",
     "output_type": "stream",
     "text": [
      "- STL lag2 trend=1374.2144542132598 seasonal=283.2950241225156\n",
      "-inserting arima forecasts, stl components, into 2021-02-18 trained on data until 2021-02-16\n",
      "\n",
      "Current day=2021-02-18 predicting day=2021-02-19 with last training date=2021-02-17\n",
      "- STL lag2 trend=1579.1829032705916 seasonal=43.8922908562127\n",
      "-inserting arima forecasts, stl components, into 2021-02-19 trained on data until 2021-02-17\n",
      "\n",
      "Current day=2021-02-19 predicting day=2021-02-20 with last training date=2021-02-18\n"
     ]
    },
    {
     "name": "stdout",
     "output_type": "stream",
     "text": [
      "- STL lag2 trend=1643.4038211158797 seasonal=410.568743539413\n",
      "-inserting arima forecasts, stl components, into 2021-02-20 trained on data until 2021-02-18\n",
      "\n",
      "Current day=2021-02-20 predicting day=2021-02-21 with last training date=2021-02-19\n"
     ]
    },
    {
     "name": "stdout",
     "output_type": "stream",
     "text": [
      "- STL lag2 trend=2190.260756731129 seasonal=193.07049339678787\n",
      "-inserting arima forecasts, stl components, into 2021-02-21 trained on data until 2021-02-19\n",
      "\n",
      "Current day=2021-02-21 predicting day=2021-02-22 with last training date=2021-02-20\n"
     ]
    },
    {
     "name": "stdout",
     "output_type": "stream",
     "text": [
      "- STL lag2 trend=2338.0378776103344 seasonal=105.20747928891583\n",
      "-inserting arima forecasts, stl components, into 2021-02-22 trained on data until 2021-02-20\n",
      "\n",
      "Current day=2021-02-22 predicting day=2021-02-23 with last training date=2021-02-21\n"
     ]
    },
    {
     "name": "stdout",
     "output_type": "stream",
     "text": [
      "- STL lag2 trend=2384.4534903646345 seasonal=78.54426061978265\n",
      "-inserting arima forecasts, stl components, into 2021-02-23 trained on data until 2021-02-21\n",
      "\n",
      "Current day=2021-02-23 predicting day=2021-02-24 with last training date=2021-02-22\n",
      "- STL lag2 trend=2466.4228049383014 seasonal=34.684431429559865\n",
      "-inserting arima forecasts, stl components, into 2021-02-24 trained on data until 2021-02-22\n",
      "\n",
      "Current day=2021-02-24 predicting day=2021-02-25 with last training date=2021-02-23\n"
     ]
    },
    {
     "name": "stdout",
     "output_type": "stream",
     "text": [
      "- STL lag2 trend=2496.572723372242 seasonal=-202.4606328966416\n",
      "-inserting arima forecasts, stl components, into 2021-02-25 trained on data until 2021-02-23\n",
      "\n",
      "Current day=2021-02-25 predicting day=2021-02-26 with last training date=2021-02-24\n",
      "- STL lag2 trend=2636.4401052439216 seasonal=-282.69323250892796\n",
      "-inserting arima forecasts, stl components, into 2021-02-26 trained on data until 2021-02-24\n",
      "\n",
      "Current day=2021-02-26 predicting day=2021-02-27 with last training date=2021-02-25\n"
     ]
    },
    {
     "name": "stdout",
     "output_type": "stream",
     "text": [
      "- STL lag2 trend=2596.251546654232 seasonal=-387.57054209943243\n",
      "-inserting arima forecasts, stl components, into 2021-02-27 trained on data until 2021-02-25\n",
      "\n",
      "Current day=2021-02-27 predicting day=2021-02-28 with last training date=2021-02-26\n",
      "- STL lag2 trend=2523.244703182477 seasonal=-399.9716197474928\n",
      "-inserting arima forecasts, stl components, into 2021-02-28 trained on data until 2021-02-26\n",
      "\n",
      "Current day=2021-02-28 predicting day=2021-03-01 with last training date=2021-02-27\n"
     ]
    },
    {
     "name": "stdout",
     "output_type": "stream",
     "text": [
      "- STL lag2 trend=2469.5225698415043 seasonal=-168.24670051767154\n",
      "-inserting arima forecasts, stl components, into 2021-03-01 trained on data until 2021-02-27\n",
      "\n",
      "Current day=2021-03-01 predicting day=2021-03-02 with last training date=2021-02-28\n",
      "- STL lag2 trend=2325.1618667645425 seasonal=89.44023586617328\n",
      "-inserting arima forecasts, stl components, into 2021-03-02 trained on data until 2021-02-28\n",
      "\n",
      "Current day=2021-03-02 predicting day=2021-03-03 with last training date=2021-03-01\n"
     ]
    },
    {
     "name": "stdout",
     "output_type": "stream",
     "text": [
      "- STL lag2 trend=2230.3626416202615 seasonal=206.80235380955014\n",
      "-inserting arima forecasts, stl components, into 2021-03-03 trained on data until 2021-03-01\n",
      "\n",
      "Current day=2021-03-03 predicting day=2021-03-04 with last training date=2021-03-02\n",
      "- STL lag2 trend=2269.1846301626333 seasonal=34.408081115346604\n",
      "-inserting arima forecasts, stl components, into 2021-03-04 trained on data until 2021-03-02\n",
      "\n",
      "Current day=2021-03-04 predicting day=2021-03-05 with last training date=2021-03-03\n"
     ]
    },
    {
     "name": "stdout",
     "output_type": "stream",
     "text": [
      "- STL lag2 trend=2329.441797004547 seasonal=222.35908962044857\n",
      "-inserting arima forecasts, stl components, into 2021-03-05 trained on data until 2021-03-03\n",
      "\n",
      "Current day=2021-03-05 predicting day=2021-03-06 with last training date=2021-03-04\n",
      "- STL lag2 trend=2467.7282317350464 seasonal=131.7276973142303\n",
      "-inserting arima forecasts, stl components, into 2021-03-06 trained on data until 2021-03-04\n",
      "\n",
      "Current day=2021-03-06 predicting day=2021-03-07 with last training date=2021-03-05\n"
     ]
    },
    {
     "name": "stdout",
     "output_type": "stream",
     "text": [
      "- STL lag2 trend=2650.6517903331032 seasonal=-9.700975686574461\n",
      "-inserting arima forecasts, stl components, into 2021-03-07 trained on data until 2021-03-05\n",
      "\n",
      "Current day=2021-03-07 predicting day=2021-03-08 with last training date=2021-03-06\n",
      "- STL lag2 trend=2741.3621467901735 seasonal=-62.323110896787185\n",
      "-inserting arima forecasts, stl components, into 2021-03-08 trained on data until 2021-03-06\n",
      "\n",
      "Current day=2021-03-08 predicting day=2021-03-09 with last training date=2021-03-07\n"
     ]
    },
    {
     "name": "stdout",
     "output_type": "stream",
     "text": [
      "- STL lag2 trend=2772.1962747309594 seasonal=-100.90600514139447\n",
      "-inserting arima forecasts, stl components, into 2021-03-09 trained on data until 2021-03-07\n",
      "\n",
      "Current day=2021-03-09 predicting day=2021-03-10 with last training date=2021-03-08\n",
      "- STL lag2 trend=2718.915191026588 seasonal=-72.6812302716865\n",
      "-inserting arima forecasts, stl components, into 2021-03-10 trained on data until 2021-03-08\n",
      "\n",
      "Current day=2021-03-10 predicting day=2021-03-11 with last training date=2021-03-09\n"
     ]
    },
    {
     "name": "stdout",
     "output_type": "stream",
     "text": [
      "- STL lag2 trend=2677.471349599531 seasonal=-182.2277263246594\n",
      "-inserting arima forecasts, stl components, into 2021-03-11 trained on data until 2021-03-09\n",
      "\n",
      "Current day=2021-03-11 predicting day=2021-03-12 with last training date=2021-03-10\n",
      "- STL lag2 trend=2554.2978453718843 seasonal=-101.7980587608967\n",
      "-inserting arima forecasts, stl components, into 2021-03-12 trained on data until 2021-03-10\n",
      "\n",
      "Current day=2021-03-12 predicting day=2021-03-13 with last training date=2021-03-11\n"
     ]
    },
    {
     "name": "stdout",
     "output_type": "stream",
     "text": [
      "- STL lag2 trend=2434.9239820727116 seasonal=-193.8959527804973\n",
      "-inserting arima forecasts, stl components, into 2021-03-13 trained on data until 2021-03-11\n",
      "\n",
      "Current day=2021-03-13 predicting day=2021-03-14 with last training date=2021-03-12\n",
      "- STL lag2 trend=2297.664081190451 seasonal=-77.08730397350382\n",
      "-inserting arima forecasts, stl components, into 2021-03-14 trained on data until 2021-03-12\n",
      "\n",
      "Current day=2021-03-14 predicting day=2021-03-15 with last training date=2021-03-13\n"
     ]
    },
    {
     "name": "stdout",
     "output_type": "stream",
     "text": [
      "- STL lag2 trend=2223.821761665241 seasonal=42.92705576294719\n",
      "-inserting arima forecasts, stl components, into 2021-03-15 trained on data until 2021-03-13\n",
      "\n",
      "Current day=2021-03-15 predicting day=2021-03-16 with last training date=2021-03-14\n",
      "- STL lag2 trend=2182.410799326416 seasonal=64.92754692134733\n",
      "-inserting arima forecasts, stl components, into 2021-03-16 trained on data until 2021-03-14\n",
      "\n",
      "Current day=2021-03-16 predicting day=2021-03-17 with last training date=2021-03-15\n"
     ]
    },
    {
     "name": "stdout",
     "output_type": "stream",
     "text": [
      "- STL lag2 trend=2134.71037155622 seasonal=34.76724217664609\n",
      "-inserting arima forecasts, stl components, into 2021-03-17 trained on data until 2021-03-15\n",
      "\n",
      "Current day=2021-03-17 predicting day=2021-03-18 with last training date=2021-03-16\n",
      "- STL lag2 trend=2064.2825741477927 seasonal=-32.70274833280532\n",
      "-inserting arima forecasts, stl components, into 2021-03-18 trained on data until 2021-03-16\n",
      "\n",
      "Current day=2021-03-18 predicting day=2021-03-19 with last training date=2021-03-17\n"
     ]
    },
    {
     "name": "stdout",
     "output_type": "stream",
     "text": [
      "- STL lag2 trend=1989.5247939769988 seasonal=-84.54455316481197\n",
      "-inserting arima forecasts, stl components, into 2021-03-19 trained on data until 2021-03-17\n",
      "\n",
      "Current day=2021-03-19 predicting day=2021-03-20 with last training date=2021-03-18\n",
      "- STL lag2 trend=1968.2785244922175 seasonal=-87.8315505300728\n",
      "-inserting arima forecasts, stl components, into 2021-03-20 trained on data until 2021-03-18\n",
      "\n",
      "Current day=2021-03-20 predicting day=2021-03-21 with last training date=2021-03-19\n"
     ]
    },
    {
     "name": "stdout",
     "output_type": "stream",
     "text": [
      "- STL lag2 trend=1917.3388146692305 seasonal=-32.1978296463508\n",
      "-inserting arima forecasts, stl components, into 2021-03-21 trained on data until 2021-03-19\n",
      "\n",
      "Current day=2021-03-21 predicting day=2021-03-22 with last training date=2021-03-20\n",
      "- STL lag2 trend=1808.2614472350429 seasonal=-37.585366609797155\n",
      "-inserting arima forecasts, stl components, into 2021-03-22 trained on data until 2021-03-20\n",
      "\n",
      "Current day=2021-03-22 predicting day=2021-03-23 with last training date=2021-03-21\n"
     ]
    },
    {
     "name": "stdout",
     "output_type": "stream",
     "text": [
      "- STL lag2 trend=1704.9367370675482 seasonal=56.6630968500938\n",
      "-inserting arima forecasts, stl components, into 2021-03-23 trained on data until 2021-03-21\n",
      "\n",
      "Current day=2021-03-23 predicting day=2021-03-24 with last training date=2021-03-22\n",
      "- STL lag2 trend=1597.695842274326 seasonal=12.513472784427828\n",
      "-inserting arima forecasts, stl components, into 2021-03-24 trained on data until 2021-03-22\n",
      "\n",
      "Current day=2021-03-24 predicting day=2021-03-25 with last training date=2021-03-23\n"
     ]
    },
    {
     "name": "stdout",
     "output_type": "stream",
     "text": [
      "- STL lag2 trend=1540.530276522801 seasonal=61.87725107883369\n",
      "-inserting arima forecasts, stl components, into 2021-03-25 trained on data until 2021-03-23\n",
      "\n",
      "Current day=2021-03-25 predicting day=2021-03-26 with last training date=2021-03-24\n",
      "- STL lag2 trend=1522.7318026068895 seasonal=-33.99561312622855\n",
      "-inserting arima forecasts, stl components, into 2021-03-26 trained on data until 2021-03-24\n",
      "\n",
      "Current day=2021-03-26 predicting day=2021-03-27 with last training date=2021-03-25\n"
     ]
    },
    {
     "name": "stdout",
     "output_type": "stream",
     "text": [
      "- STL lag2 trend=1502.4686070794487 seasonal=36.31645424439583\n",
      "-inserting arima forecasts, stl components, into 2021-03-27 trained on data until 2021-03-25\n",
      "\n",
      "Current day=2021-03-27 predicting day=2021-03-28 with last training date=2021-03-26\n",
      "- STL lag2 trend=1459.9270419877375 seasonal=49.967207066457625\n",
      "-inserting arima forecasts, stl components, into 2021-03-28 trained on data until 2021-03-26\n",
      "\n",
      "Current day=2021-03-28 predicting day=2021-03-29 with last training date=2021-03-27\n"
     ]
    },
    {
     "name": "stdout",
     "output_type": "stream",
     "text": [
      "- STL lag2 trend=1454.0300244172 seasonal=14.965568965685613\n",
      "-inserting arima forecasts, stl components, into 2021-03-29 trained on data until 2021-03-27\n",
      "\n",
      "Current day=2021-03-29 predicting day=2021-03-30 with last training date=2021-03-28\n",
      "- STL lag2 trend=1404.0973489948321 seasonal=16.63447580413976\n",
      "-inserting arima forecasts, stl components, into 2021-03-30 trained on data until 2021-03-28\n",
      "\n",
      "Current day=2021-03-30 predicting day=2021-03-31 with last training date=2021-03-29\n"
     ]
    },
    {
     "name": "stdout",
     "output_type": "stream",
     "text": [
      "- STL lag2 trend=1416.122187884508 seasonal=56.66237890594238\n",
      "-inserting arima forecasts, stl components, into 2021-03-31 trained on data until 2021-03-29\n",
      "\n",
      "Current day=2021-03-31 predicting day=2021-04-01 with last training date=2021-03-30\n",
      "- STL lag2 trend=1408.2686013293833 seasonal=79.39076305753505\n",
      "-inserting arima forecasts, stl components, into 2021-04-01 trained on data until 2021-03-30\n",
      "\n",
      "Current day=2021-04-01 predicting day=2021-04-02 with last training date=2021-03-31\n"
     ]
    },
    {
     "name": "stdout",
     "output_type": "stream",
     "text": [
      "- STL lag2 trend=1423.2353653050027 seasonal=-21.873138276677935\n",
      "-inserting arima forecasts, stl components, into 2021-04-02 trained on data until 2021-03-31\n",
      "\n",
      "Current day=2021-04-02 predicting day=2021-04-03 with last training date=2021-04-01\n",
      "- STL lag2 trend=1474.046656829728 seasonal=182.25307397678182\n",
      "-inserting arima forecasts, stl components, into 2021-04-03 trained on data until 2021-04-01\n",
      "\n",
      "Current day=2021-04-03 predicting day=2021-04-04 with last training date=2021-04-02\n"
     ]
    },
    {
     "name": "stdout",
     "output_type": "stream",
     "text": [
      "- STL lag2 trend=1601.0394262458783 seasonal=332.01719890778156\n",
      "-inserting arima forecasts, stl components, into 2021-04-04 trained on data until 2021-04-02\n",
      "\n",
      "Current day=2021-04-04 predicting day=2021-04-05 with last training date=2021-04-03\n",
      "- STL lag2 trend=1802.6451739701151 seasonal=227.15476921987587\n",
      "-inserting arima forecasts, stl components, into 2021-04-05 trained on data until 2021-04-03\n",
      "\n",
      "Current day=2021-04-05 predicting day=2021-04-06 with last training date=2021-04-04\n"
     ]
    },
    {
     "name": "stdout",
     "output_type": "stream",
     "text": [
      "- STL lag2 trend=2018.1685309528448 seasonal=160.05008461730768\n",
      "-inserting arima forecasts, stl components, into 2021-04-06 trained on data until 2021-04-04\n",
      "\n",
      "Current day=2021-04-06 predicting day=2021-04-07 with last training date=2021-04-05\n"
     ]
    },
    {
     "name": "stdout",
     "output_type": "stream",
     "text": [
      "- STL lag2 trend=2112.538491776813 seasonal=-113.08183088200552\n",
      "-inserting arima forecasts, stl components, into 2021-04-07 trained on data until 2021-04-05\n",
      "\n",
      "Current day=2021-04-07 predicting day=2021-04-08 with last training date=2021-04-06\n"
     ]
    },
    {
     "name": "stdout",
     "output_type": "stream",
     "text": [
      "- STL lag2 trend=2173.382927899356 seasonal=-140.92564396580255\n",
      "-inserting arima forecasts, stl components, into 2021-04-08 trained on data until 2021-04-06\n",
      "\n",
      "Current day=2021-04-08 predicting day=2021-04-09 with last training date=2021-04-07\n",
      "- STL lag2 trend=2249.8098767586016 seasonal=-244.2395953571392\n",
      "-inserting arima forecasts, stl components, into 2021-04-09 trained on data until 2021-04-07\n",
      "\n",
      "Current day=2021-04-09 predicting day=2021-04-10 with last training date=2021-04-08\n"
     ]
    },
    {
     "name": "stdout",
     "output_type": "stream",
     "text": [
      "- STL lag2 trend=2200.5322902762946 seasonal=-209.43544585834206\n",
      "-inserting arima forecasts, stl components, into 2021-04-10 trained on data until 2021-04-08\n",
      "\n",
      "Current day=2021-04-10 predicting day=2021-04-11 with last training date=2021-04-09\n",
      "- STL lag2 trend=2085.3947836834836 seasonal=-133.77039745820417\n",
      "-inserting arima forecasts, stl components, into 2021-04-11 trained on data until 2021-04-09\n",
      "\n",
      "Current day=2021-04-11 predicting day=2021-04-12 with last training date=2021-04-10\n"
     ]
    },
    {
     "name": "stdout",
     "output_type": "stream",
     "text": [
      "- STL lag2 trend=2017.9433554267634 seasonal=-287.664873906738\n",
      "-inserting arima forecasts, stl components, into 2021-04-12 trained on data until 2021-04-10\n",
      "\n",
      "Current day=2021-04-12 predicting day=2021-04-13 with last training date=2021-04-11\n"
     ]
    },
    {
     "name": "stdout",
     "output_type": "stream",
     "text": [
      "- STL lag2 trend=1902.5372158335206 seasonal=-297.53948297219455\n",
      "-inserting arima forecasts, stl components, into 2021-04-13 trained on data until 2021-04-11\n",
      "\n",
      "Current day=2021-04-13 predicting day=2021-04-14 with last training date=2021-04-12\n"
     ]
    },
    {
     "name": "stdout",
     "output_type": "stream",
     "text": [
      "- STL lag2 trend=1688.2807512568725 seasonal=-67.98598620498882\n",
      "-inserting arima forecasts, stl components, into 2021-04-14 trained on data until 2021-04-12\n",
      "\n",
      "Current day=2021-04-14 predicting day=2021-04-15 with last training date=2021-04-13\n"
     ]
    },
    {
     "name": "stdout",
     "output_type": "stream",
     "text": [
      "- STL lag2 trend=1654.0010682274124 seasonal=127.81822541326778\n",
      "-inserting arima forecasts, stl components, into 2021-04-15 trained on data until 2021-04-13\n",
      "\n",
      "Current day=2021-04-15 predicting day=2021-04-16 with last training date=2021-04-14\n",
      "- STL lag2 trend=1802.5040114610651 seasonal=428.4379751000557\n",
      "-inserting arima forecasts, stl components, into 2021-04-16 trained on data until 2021-04-14\n",
      "\n",
      "Current day=2021-04-16 predicting day=2021-04-17 with last training date=2021-04-15\n"
     ]
    },
    {
     "name": "stdout",
     "output_type": "stream",
     "text": [
      "- STL lag2 trend=1996.1252376400544 seasonal=306.27194066170705\n",
      "-inserting arima forecasts, stl components, into 2021-04-17 trained on data until 2021-04-15\n",
      "\n",
      "Current day=2021-04-17 predicting day=2021-04-18 with last training date=2021-04-16\n",
      "- STL lag2 trend=2100.2248993057 seasonal=191.50060312762017\n",
      "-inserting arima forecasts, stl components, into 2021-04-18 trained on data until 2021-04-16\n",
      "\n",
      "Current day=2021-04-18 predicting day=2021-04-19 with last training date=2021-04-17\n"
     ]
    },
    {
     "name": "stdout",
     "output_type": "stream",
     "text": [
      "- STL lag2 trend=2191.872406764164 seasonal=-115.12630161133663\n",
      "-inserting arima forecasts, stl components, into 2021-04-19 trained on data until 2021-04-17\n",
      "\n",
      "Current day=2021-04-19 predicting day=2021-04-20 with last training date=2021-04-18\n",
      "- STL lag2 trend=2291.323470207969 seasonal=-312.9172736322342\n",
      "-inserting arima forecasts, stl components, into 2021-04-20 trained on data until 2021-04-18\n",
      "\n",
      "Current day=2021-04-20 predicting day=2021-04-21 with last training date=2021-04-19\n"
     ]
    },
    {
     "name": "stdout",
     "output_type": "stream",
     "text": [
      "- STL lag2 trend=2374.9891933625095 seasonal=-304.8956958262346\n",
      "-inserting arima forecasts, stl components, into 2021-04-21 trained on data until 2021-04-19\n",
      "\n",
      "Current day=2021-04-21 predicting day=2021-04-22 with last training date=2021-04-20\n"
     ]
    },
    {
     "name": "stdout",
     "output_type": "stream",
     "text": [
      "- STL lag2 trend=2414.3830847906393 seasonal=-144.35225147201797\n",
      "-inserting arima forecasts, stl components, into 2021-04-22 trained on data until 2021-04-20\n",
      "\n",
      "Current day=2021-04-22 predicting day=2021-04-23 with last training date=2021-04-21\n"
     ]
    },
    {
     "name": "stdout",
     "output_type": "stream",
     "text": [
      "- STL lag2 trend=2357.9866494773228 seasonal=40.745646422761936\n",
      "-inserting arima forecasts, stl components, into 2021-04-23 trained on data until 2021-04-21\n",
      "\n",
      "Current day=2021-04-23 predicting day=2021-04-24 with last training date=2021-04-22\n",
      "- STL lag2 trend=2273.948511141609 seasonal=52.47654126579345\n",
      "-inserting arima forecasts, stl components, into 2021-04-24 trained on data until 2021-04-22\n",
      "\n",
      "Current day=2021-04-24 predicting day=2021-04-25 with last training date=2021-04-23\n"
     ]
    },
    {
     "name": "stdout",
     "output_type": "stream",
     "text": [
      "- STL lag2 trend=2190.0779707648576 seasonal=139.39400772214253\n",
      "-inserting arima forecasts, stl components, into 2021-04-25 trained on data until 2021-04-23\n",
      "\n",
      "Current day=2021-04-25 predicting day=2021-04-26 with last training date=2021-04-24\n",
      "- STL lag2 trend=2168.980795903132 seasonal=-108.03717675175902\n",
      "-inserting arima forecasts, stl components, into 2021-04-26 trained on data until 2021-04-24\n",
      "\n",
      "Current day=2021-04-26 predicting day=2021-04-27 with last training date=2021-04-25\n"
     ]
    },
    {
     "name": "stdout",
     "output_type": "stream",
     "text": [
      "- STL lag2 trend=2199.131669655202 seasonal=-208.26269739405006\n",
      "-inserting arima forecasts, stl components, into 2021-04-27 trained on data until 2021-04-25\n",
      "\n",
      "Current day=2021-04-27 predicting day=2021-04-28 with last training date=2021-04-26\n",
      "- STL lag2 trend=2166.947773079141 seasonal=-310.1411895155621\n",
      "-inserting arima forecasts, stl components, into 2021-04-28 trained on data until 2021-04-26\n",
      "\n",
      "Current day=2021-04-28 predicting day=2021-04-29 with last training date=2021-04-27\n"
     ]
    },
    {
     "name": "stdout",
     "output_type": "stream",
     "text": [
      "- STL lag2 trend=2099.0473342831906 seasonal=-149.35680038737016\n",
      "-inserting arima forecasts, stl components, into 2021-04-29 trained on data until 2021-04-27\n",
      "\n",
      "Current day=2021-04-29 predicting day=2021-04-30 with last training date=2021-04-28\n",
      "- STL lag2 trend=1954.4818039420743 seasonal=5.394275557879041\n",
      "-inserting arima forecasts, stl components, into 2021-04-30 trained on data until 2021-04-28\n",
      "\n",
      "Current day=2021-04-30 predicting day=2021-05-01 with last training date=2021-04-29\n"
     ]
    },
    {
     "name": "stdout",
     "output_type": "stream",
     "text": [
      "- STL lag2 trend=1831.227930671555 seasonal=-6.917653860954527\n",
      "-inserting arima forecasts, stl components, into 2021-05-01 trained on data until 2021-04-29\n",
      "\n",
      "Current day=2021-05-01 predicting day=2021-05-02 with last training date=2021-04-30\n",
      "- STL lag2 trend=1716.6474221412795 seasonal=137.22479156831938\n",
      "-inserting arima forecasts, stl components, into 2021-05-02 trained on data until 2021-04-30\n",
      "\n",
      "Current day=2021-05-02 predicting day=2021-05-03 with last training date=2021-05-01\n"
     ]
    },
    {
     "name": "stdout",
     "output_type": "stream",
     "text": [
      "- STL lag2 trend=1709.9171047662014 seasonal=117.07222075455311\n",
      "-inserting arima forecasts, stl components, into 2021-05-03 trained on data until 2021-05-01\n",
      "\n",
      "Current day=2021-05-03 predicting day=2021-05-04 with last training date=2021-05-02\n",
      "- STL lag2 trend=1755.2321126442348 seasonal=167.09614642925527\n",
      "-inserting arima forecasts, stl components, into 2021-05-04 trained on data until 2021-05-02\n",
      "\n",
      "Current day=2021-05-04 predicting day=2021-05-05 with last training date=2021-05-03\n"
     ]
    },
    {
     "name": "stdout",
     "output_type": "stream",
     "text": [
      "- STL lag2 trend=1734.421042703938 seasonal=-213.68188391701293\n",
      "-inserting arima forecasts, stl components, into 2021-05-05 trained on data until 2021-05-03\n",
      "\n",
      "Current day=2021-05-05 predicting day=2021-05-06 with last training date=2021-05-04\n",
      "- STL lag2 trend=1974.0104347290562 seasonal=333.2902654791006\n",
      "-inserting arima forecasts, stl components, into 2021-05-06 trained on data until 2021-05-04\n",
      "\n",
      "Current day=2021-05-06 predicting day=2021-05-07 with last training date=2021-05-05\n"
     ]
    },
    {
     "name": "stdout",
     "output_type": "stream",
     "text": [
      "- STL lag2 trend=2422.9736261705602 seasonal=92.74368308262731\n",
      "-inserting arima forecasts, stl components, into 2021-05-07 trained on data until 2021-05-05\n",
      "\n",
      "Current day=2021-05-07 predicting day=2021-05-08 with last training date=2021-05-06\n",
      "- STL lag2 trend=2614.727741722046 seasonal=-33.57046282105744\n",
      "-inserting arima forecasts, stl components, into 2021-05-08 trained on data until 2021-05-06\n",
      "\n",
      "Current day=2021-05-08 predicting day=2021-05-09 with last training date=2021-05-07\n"
     ]
    },
    {
     "name": "stdout",
     "output_type": "stream",
     "text": [
      "- STL lag2 trend=2744.5033061329405 seasonal=-144.8631634322267\n",
      "-inserting arima forecasts, stl components, into 2021-05-09 trained on data until 2021-05-07\n",
      "\n",
      "Current day=2021-05-09 predicting day=2021-05-10 with last training date=2021-05-08\n",
      "- STL lag2 trend=2846.9570867700936 seasonal=-173.1887883179431\n",
      "-inserting arima forecasts, stl components, into 2021-05-10 trained on data until 2021-05-08\n",
      "\n",
      "Current day=2021-05-10 predicting day=2021-05-11 with last training date=2021-05-09\n"
     ]
    },
    {
     "name": "stdout",
     "output_type": "stream",
     "text": [
      "- STL lag2 trend=2845.7628367173265 seasonal=-222.78326854093268\n",
      "-inserting arima forecasts, stl components, into 2021-05-11 trained on data until 2021-05-09\n",
      "\n",
      "Current day=2021-05-11 predicting day=2021-05-12 with last training date=2021-05-10\n",
      "- STL lag2 trend=2765.138992575973 seasonal=-402.00617760085225\n",
      "-inserting arima forecasts, stl components, into 2021-05-12 trained on data until 2021-05-10\n",
      "\n",
      "Current day=2021-05-12 predicting day=2021-05-13 with last training date=2021-05-11\n"
     ]
    },
    {
     "name": "stdout",
     "output_type": "stream",
     "text": [
      "- STL lag2 trend=2690.6447857478033 seasonal=-372.4763733454893\n",
      "-inserting arima forecasts, stl components, into 2021-05-13 trained on data until 2021-05-11\n",
      "\n",
      "Current day=2021-05-13 predicting day=2021-05-14 with last training date=2021-05-12\n",
      "- STL lag2 trend=2619.8881937651677 seasonal=-390.56635539867284\n",
      "-inserting arima forecasts, stl components, into 2021-05-14 trained on data until 2021-05-12\n",
      "\n",
      "Current day=2021-05-14 predicting day=2021-05-15 with last training date=2021-05-13\n"
     ]
    },
    {
     "name": "stdout",
     "output_type": "stream",
     "text": [
      "- STL lag2 trend=2454.273959279919 seasonal=33.10788898153954\n",
      "-inserting arima forecasts, stl components, into 2021-05-15 trained on data until 2021-05-13\n",
      "\n",
      "Current day=2021-05-15 predicting day=2021-05-16 with last training date=2021-05-14\n",
      "- STL lag2 trend=2442.826222750422 seasonal=168.24757247164183\n",
      "-inserting arima forecasts, stl components, into 2021-05-16 trained on data until 2021-05-14\n",
      "\n",
      "Current day=2021-05-16 predicting day=2021-05-17 with last training date=2021-05-15\n"
     ]
    },
    {
     "name": "stdout",
     "output_type": "stream",
     "text": [
      "- STL lag2 trend=2363.0199101108146 seasonal=132.2956598803277\n",
      "-inserting arima forecasts, stl components, into 2021-05-17 trained on data until 2021-05-15\n",
      "\n",
      "Current day=2021-05-17 predicting day=2021-05-18 with last training date=2021-05-16\n",
      "- STL lag2 trend=2273.7237717753133 seasonal=1.2296817209986806\n",
      "-inserting arima forecasts, stl components, into 2021-05-18 trained on data until 2021-05-16\n",
      "\n",
      "Current day=2021-05-18 predicting day=2021-05-19 with last training date=2021-05-17\n"
     ]
    },
    {
     "name": "stdout",
     "output_type": "stream",
     "text": [
      "- STL lag2 trend=2135.9734702230844 seasonal=-654.3554562255905\n",
      "-inserting arima forecasts, stl components, into 2021-05-19 trained on data until 2021-05-17\n",
      "\n",
      "Current day=2021-05-19 predicting day=2021-05-20 with last training date=2021-05-18\n",
      "- STL lag2 trend=2054.6669168675708 seasonal=-132.3730150057031\n",
      "-inserting arima forecasts, stl components, into 2021-05-20 trained on data until 2021-05-18\n",
      "\n",
      "Current day=2021-05-20 predicting day=2021-05-21 with last training date=2021-05-19\n"
     ]
    },
    {
     "name": "stdout",
     "output_type": "stream",
     "text": [
      "- STL lag2 trend=1679.1722275894713 seasonal=-1659.003910130047\n",
      "-inserting arima forecasts, stl components, into 2021-05-21 trained on data until 2021-05-19\n",
      "\n",
      "Current day=2021-05-21 predicting day=2021-05-22 with last training date=2021-05-20\n",
      "- STL lag2 trend=860.6013127206213 seasonal=-851.086206986679\n",
      "-inserting arima forecasts, stl components, into 2021-05-22 trained on data until 2021-05-20\n",
      "\n",
      "Current day=2021-05-22 predicting day=2021-05-23 with last training date=2021-05-21\n"
     ]
    },
    {
     "name": "stdout",
     "output_type": "stream",
     "text": [
      "- STL lag2 trend=288.3099689677705 seasonal=268.3517266045005\n",
      "-inserting arima forecasts, stl components, into 2021-05-23 trained on data until 2021-05-21\n",
      "\n",
      "Current day=2021-05-23 predicting day=2021-05-24 with last training date=2021-05-22\n",
      "- STL lag2 trend=236.06861950589752 seasonal=1167.576086388397\n",
      "-inserting arima forecasts, stl components, into 2021-05-24 trained on data until 2021-05-22\n",
      "\n",
      "Current day=2021-05-24 predicting day=2021-05-25 with last training date=2021-05-23\n"
     ]
    },
    {
     "name": "stdout",
     "output_type": "stream",
     "text": [
      "- STL lag2 trend=316.6514409608707 seasonal=861.2352473576725\n",
      "-inserting arima forecasts, stl components, into 2021-05-25 trained on data until 2021-05-23\n",
      "\n",
      "Current day=2021-05-25 predicting day=2021-05-26 with last training date=2021-05-24\n",
      "- STL lag2 trend=943.5017809439926 seasonal=89.09739699856819\n",
      "-inserting arima forecasts, stl components, into 2021-05-26 trained on data until 2021-05-24\n",
      "\n",
      "Current day=2021-05-26 predicting day=2021-05-27 with last training date=2021-05-25\n"
     ]
    },
    {
     "name": "stdout",
     "output_type": "stream",
     "text": [
      "- STL lag2 trend=1499.327957872224 seasonal=281.3940783905435\n",
      "-inserting arima forecasts, stl components, into 2021-05-27 trained on data until 2021-05-25\n",
      "\n",
      "Current day=2021-05-27 predicting day=2021-05-28 with last training date=2021-05-26\n",
      "- STL lag2 trend=1907.6055811787994 seasonal=303.7855965863484\n",
      "-inserting arima forecasts, stl components, into 2021-05-28 trained on data until 2021-05-26\n",
      "\n",
      "Current day=2021-05-28 predicting day=2021-05-29 with last training date=2021-05-27\n"
     ]
    },
    {
     "name": "stdout",
     "output_type": "stream",
     "text": [
      "- STL lag2 trend=2279.1272133572666 seasonal=266.8413207675571\n",
      "-inserting arima forecasts, stl components, into 2021-05-29 trained on data until 2021-05-27\n",
      "\n",
      "Current day=2021-05-29 predicting day=2021-05-30 with last training date=2021-05-28\n",
      "- STL lag2 trend=2249.951286407887 seasonal=414.2316859704169\n",
      "-inserting arima forecasts, stl components, into 2021-05-30 trained on data until 2021-05-28\n",
      "\n",
      "Current day=2021-05-30 predicting day=2021-05-31 with last training date=2021-05-29\n"
     ]
    },
    {
     "name": "stdout",
     "output_type": "stream",
     "text": [
      "- STL lag2 trend=2519.251111849133 seasonal=-396.19813812609556\n",
      "-inserting arima forecasts, stl components, into 2021-05-31 trained on data until 2021-05-29\n",
      "\n",
      "Current day=2021-05-31 predicting day=2021-06-01 with last training date=2021-05-30\n",
      "- STL lag2 trend=2614.8718584849676 seasonal=88.99213997311675\n",
      "-inserting arima forecasts, stl components, into 2021-06-01 trained on data until 2021-05-30\n",
      "\n",
      "Current day=2021-06-01 predicting day=2021-06-02 with last training date=2021-05-31\n"
     ]
    },
    {
     "name": "stdout",
     "output_type": "stream",
     "text": [
      "- STL lag2 trend=2730.948930144924 seasonal=-45.02420367062088\n",
      "-inserting arima forecasts, stl components, into 2021-06-02 trained on data until 2021-05-31\n",
      "\n",
      "Current day=2021-06-02 predicting day=2021-06-03 with last training date=2021-06-01\n",
      "- STL lag2 trend=2856.799671605737 seasonal=-286.5888585169972\n",
      "-inserting arima forecasts, stl components, into 2021-06-03 trained on data until 2021-06-01\n",
      "\n",
      "Current day=2021-06-03 predicting day=2021-06-04 with last training date=2021-06-02\n"
     ]
    },
    {
     "name": "stdout",
     "output_type": "stream",
     "text": [
      "- STL lag2 trend=2887.4201401175264 seasonal=-394.59433450953645\n",
      "-inserting arima forecasts, stl components, into 2021-06-04 trained on data until 2021-06-02\n",
      "\n",
      "Current day=2021-06-04 predicting day=2021-06-05 with last training date=2021-06-03\n",
      "- STL lag2 trend=2810.751661686168 seasonal=-415.79904732033145\n",
      "-inserting arima forecasts, stl components, into 2021-06-05 trained on data until 2021-06-03\n",
      "\n",
      "Current day=2021-06-05 predicting day=2021-06-06 with last training date=2021-06-04\n"
     ]
    },
    {
     "name": "stdout",
     "output_type": "stream",
     "text": [
      "- STL lag2 trend=2677.698235573212 seasonal=-421.9523908223173\n",
      "-inserting arima forecasts, stl components, into 2021-06-06 trained on data until 2021-06-04\n",
      "\n",
      "Current day=2021-06-06 predicting day=2021-06-07 with last training date=2021-06-05\n"
     ]
    },
    {
     "name": "stdout",
     "output_type": "stream",
     "text": [
      "- STL lag2 trend=2604.4061412192054 seasonal=-378.94951799541235\n",
      "-inserting arima forecasts, stl components, into 2021-06-07 trained on data until 2021-06-05\n",
      "\n",
      "Current day=2021-06-07 predicting day=2021-06-08 with last training date=2021-06-06\n"
     ]
    },
    {
     "name": "stdout",
     "output_type": "stream",
     "text": [
      "- STL lag2 trend=2280.1283079303425 seasonal=-129.2906248848671\n",
      "-inserting arima forecasts, stl components, into 2021-06-08 trained on data until 2021-06-06\n",
      "\n",
      "Current day=2021-06-08 predicting day=2021-06-09 with last training date=2021-06-07\n",
      "- STL lag2 trend=2087.4140014912527 seasonal=7.325032151950332\n",
      "-inserting arima forecasts, stl components, into 2021-06-09 trained on data until 2021-06-07\n",
      "\n",
      "Current day=2021-06-09 predicting day=2021-06-10 with last training date=2021-06-08\n"
     ]
    },
    {
     "name": "stdout",
     "output_type": "stream",
     "text": [
      "- STL lag2 trend=1967.1749806574417 seasonal=-73.4665457266394\n",
      "-inserting arima forecasts, stl components, into 2021-06-10 trained on data until 2021-06-08\n",
      "\n",
      "Current day=2021-06-10 predicting day=2021-06-11 with last training date=2021-06-09\n"
     ]
    },
    {
     "name": "stdout",
     "output_type": "stream",
     "text": [
      "- STL lag2 trend=1772.1489202027813 seasonal=-57.320625192497374\n",
      "-inserting arima forecasts, stl components, into 2021-06-11 trained on data until 2021-06-09\n",
      "\n",
      "Current day=2021-06-11 predicting day=2021-06-12 with last training date=2021-06-10\n"
     ]
    },
    {
     "name": "stdout",
     "output_type": "stream",
     "text": [
      "- STL lag2 trend=1656.7420744118617 seasonal=32.34289460524383\n",
      "-inserting arima forecasts, stl components, into 2021-06-12 trained on data until 2021-06-10\n",
      "\n",
      "Current day=2021-06-12 predicting day=2021-06-13 with last training date=2021-06-11\n"
     ]
    },
    {
     "name": "stdout",
     "output_type": "stream",
     "text": [
      "- STL lag2 trend=1589.0512363815515 seasonal=-21.172817697244426\n",
      "-inserting arima forecasts, stl components, into 2021-06-13 trained on data until 2021-06-11\n",
      "\n",
      "Current day=2021-06-13 predicting day=2021-06-14 with last training date=2021-06-12\n",
      "- STL lag2 trend=1554.9706033640994 seasonal=-35.95707161689387\n",
      "-inserting arima forecasts, stl components, into 2021-06-14 trained on data until 2021-06-12\n",
      "\n",
      "Current day=2021-06-14 predicting day=2021-06-15 with last training date=2021-06-13\n"
     ]
    },
    {
     "name": "stdout",
     "output_type": "stream",
     "text": [
      "- STL lag2 trend=1515.2058212462925 seasonal=31.950658878891396\n",
      "-inserting arima forecasts, stl components, into 2021-06-15 trained on data until 2021-06-13\n",
      "\n",
      "Current day=2021-06-15 predicting day=2021-06-16 with last training date=2021-06-14\n",
      "- STL lag2 trend=1436.7134369779938 seasonal=112.42438872417776\n",
      "-inserting arima forecasts, stl components, into 2021-06-16 trained on data until 2021-06-14\n",
      "\n",
      "Current day=2021-06-16 predicting day=2021-06-17 with last training date=2021-06-15\n"
     ]
    },
    {
     "name": "stdout",
     "output_type": "stream",
     "text": [
      "- STL lag2 trend=1377.4044461141243 seasonal=104.96632662114791\n",
      "-inserting arima forecasts, stl components, into 2021-06-17 trained on data until 2021-06-15\n",
      "\n",
      "Current day=2021-06-17 predicting day=2021-06-18 with last training date=2021-06-16\n",
      "- STL lag2 trend=1370.1634492825947 seasonal=-1.5429715113499873\n",
      "-inserting arima forecasts, stl components, into 2021-06-18 trained on data until 2021-06-16\n",
      "\n",
      "Current day=2021-06-18 predicting day=2021-06-19 with last training date=2021-06-17\n"
     ]
    },
    {
     "name": "stdout",
     "output_type": "stream",
     "text": [
      "- STL lag2 trend=1315.1092541457997 seasonal=-84.30617617943759\n",
      "-inserting arima forecasts, stl components, into 2021-06-19 trained on data until 2021-06-17\n",
      "\n",
      "Current day=2021-06-19 predicting day=2021-06-20 with last training date=2021-06-18\n",
      "- STL lag2 trend=1314.5889273963771 seasonal=-46.14229176619918\n",
      "-inserting arima forecasts, stl components, into 2021-06-20 trained on data until 2021-06-18\n",
      "\n",
      "Current day=2021-06-20 predicting day=2021-06-21 with last training date=2021-06-19\n"
     ]
    },
    {
     "name": "stdout",
     "output_type": "stream",
     "text": [
      "- STL lag2 trend=1216.5945248817275 seasonal=-37.45334582687424\n",
      "-inserting arima forecasts, stl components, into 2021-06-21 trained on data until 2021-06-19\n",
      "\n",
      "Current day=2021-06-21 predicting day=2021-06-22 with last training date=2021-06-20\n",
      "- STL lag2 trend=1180.7979558484144 seasonal=26.34372908927748\n",
      "-inserting arima forecasts, stl components, into 2021-06-22 trained on data until 2021-06-20\n",
      "\n",
      "Current day=2021-06-22 predicting day=2021-06-23 with last training date=2021-06-21\n"
     ]
    },
    {
     "name": "stdout",
     "output_type": "stream",
     "text": [
      "- STL lag2 trend=1113.0722005266014 seasonal=67.54911252801443\n",
      "-inserting arima forecasts, stl components, into 2021-06-23 trained on data until 2021-06-21\n",
      "\n",
      "Current day=2021-06-23 predicting day=2021-06-24 with last training date=2021-06-22\n",
      "- STL lag2 trend=1110.0594667089733 seasonal=260.58083936489436\n",
      "-inserting arima forecasts, stl components, into 2021-06-24 trained on data until 2021-06-22\n",
      "\n",
      "Current day=2021-06-24 predicting day=2021-06-25 with last training date=2021-06-23\n"
     ]
    },
    {
     "name": "stdout",
     "output_type": "stream",
     "text": [
      "- STL lag2 trend=1180.302650268265 seasonal=213.27421117536562\n",
      "-inserting arima forecasts, stl components, into 2021-06-25 trained on data until 2021-06-23\n",
      "\n",
      "Current day=2021-06-25 predicting day=2021-06-26 with last training date=2021-06-24\n",
      "- STL lag2 trend=1230.4615409752328 seasonal=-76.85280834748848\n",
      "-inserting arima forecasts, stl components, into 2021-06-26 trained on data until 2021-06-24\n",
      "\n",
      "Current day=2021-06-26 predicting day=2021-06-27 with last training date=2021-06-25\n"
     ]
    },
    {
     "name": "stdout",
     "output_type": "stream",
     "text": [
      "- STL lag2 trend=1266.4906894237588 seasonal=-10.405666126529447\n",
      "-inserting arima forecasts, stl components, into 2021-06-27 trained on data until 2021-06-25\n",
      "\n",
      "Current day=2021-06-27 predicting day=2021-06-28 with last training date=2021-06-26\n",
      "- STL lag2 trend=1209.962832218551 seasonal=-195.51714133571517\n",
      "-inserting arima forecasts, stl components, into 2021-06-28 trained on data until 2021-06-26\n",
      "\n",
      "Current day=2021-06-28 predicting day=2021-06-29 with last training date=2021-06-27\n"
     ]
    },
    {
     "name": "stdout",
     "output_type": "stream",
     "text": [
      "- STL lag2 trend=1208.3426558149993 seasonal=-42.94472798106225\n",
      "-inserting arima forecasts, stl components, into 2021-06-29 trained on data until 2021-06-27\n",
      "\n",
      "Current day=2021-06-29 predicting day=2021-06-30 with last training date=2021-06-28\n",
      "- STL lag2 trend=1161.9567324869092 seasonal=-148.76582709674406\n",
      "-inserting arima forecasts, stl components, into 2021-06-30 trained on data until 2021-06-28\n",
      "\n",
      "Current day=2021-06-30 predicting day=2021-07-01 with last training date=2021-06-29\n"
     ]
    },
    {
     "name": "stdout",
     "output_type": "stream",
     "text": [
      "- STL lag2 trend=1079.2431055033821 seasonal=139.70108935383982\n",
      "-inserting arima forecasts, stl components, into 2021-07-01 trained on data until 2021-06-29\n",
      "\n",
      "Current day=2021-07-01 predicting day=2021-07-02 with last training date=2021-06-30\n",
      "- STL lag2 trend=973.5880522016914 seasonal=151.8260533433136\n",
      "-inserting arima forecasts, stl components, into 2021-07-02 trained on data until 2021-06-30\n",
      "\n",
      "Current day=2021-07-02 predicting day=2021-07-03 with last training date=2021-07-01\n",
      "- STL lag2 trend=937.0568758929032 seasonal=-37.82266134149879\n",
      "-inserting arima forecasts, stl components, into 2021-07-03 trained on data until 2021-07-01\n",
      "\n",
      "Current day=2021-07-03 predicting day=2021-07-04 with last training date=2021-07-02\n",
      "- STL lag2 trend=866.4519774926052 seasonal=40.19560364461266\n",
      "-inserting arima forecasts, stl components, into 2021-07-04 trained on data until 2021-07-02\n",
      "\n",
      "Current day=2021-07-04 predicting day=2021-07-05 with last training date=2021-07-03\n"
     ]
    },
    {
     "name": "stdout",
     "output_type": "stream",
     "text": [
      "- STL lag2 trend=931.1509337900237 seasonal=5.733355218158163\n",
      "-inserting arima forecasts, stl components, into 2021-07-05 trained on data until 2021-07-03\n",
      "\n",
      "Current day=2021-07-05 predicting day=2021-07-06 with last training date=2021-07-04\n",
      "- STL lag2 trend=964.6384080265912 seasonal=99.7314911264218\n",
      "-inserting arima forecasts, stl components, into 2021-07-06 trained on data until 2021-07-04\n",
      "\n",
      "Current day=2021-07-06 predicting day=2021-07-07 with last training date=2021-07-05\n"
     ]
    },
    {
     "name": "stdout",
     "output_type": "stream",
     "text": [
      "- STL lag2 trend=1048.7570062149437 seasonal=-40.80206377222032\n",
      "-inserting arima forecasts, stl components, into 2021-07-07 trained on data until 2021-07-05\n",
      "\n",
      "Current day=2021-07-07 predicting day=2021-07-08 with last training date=2021-07-06\n",
      "- STL lag2 trend=966.345774755808 seasonal=-17.349731366076686\n",
      "-inserting arima forecasts, stl components, into 2021-07-08 trained on data until 2021-07-06\n",
      "\n",
      "Current day=2021-07-08 predicting day=2021-07-09 with last training date=2021-07-07\n"
     ]
    },
    {
     "name": "stdout",
     "output_type": "stream",
     "text": [
      "- STL lag2 trend=913.6077635218169 seasonal=50.700561176539665\n",
      "-inserting arima forecasts, stl components, into 2021-07-09 trained on data until 2021-07-07\n",
      "\n",
      "Current day=2021-07-09 predicting day=2021-07-10 with last training date=2021-07-08\n",
      "- STL lag2 trend=895.5311778315742 seasonal=-90.13988768184244\n",
      "-inserting arima forecasts, stl components, into 2021-07-10 trained on data until 2021-07-08\n",
      "\n",
      "Current day=2021-07-10 predicting day=2021-07-11 with last training date=2021-07-09\n"
     ]
    },
    {
     "name": "stdout",
     "output_type": "stream",
     "text": [
      "- STL lag2 trend=850.5809259478036 seasonal=-106.27087668513782\n",
      "-inserting arima forecasts, stl components, into 2021-07-11 trained on data until 2021-07-09\n",
      "\n",
      "Current day=2021-07-11 predicting day=2021-07-12 with last training date=2021-07-10\n",
      "- STL lag2 trend=867.0832588213314 seasonal=134.61111081676978\n",
      "-inserting arima forecasts, stl components, into 2021-07-12 trained on data until 2021-07-10\n",
      "\n",
      "Current day=2021-07-12 predicting day=2021-07-13 with last training date=2021-07-11\n"
     ]
    },
    {
     "name": "stdout",
     "output_type": "stream",
     "text": [
      "- STL lag2 trend=806.0447774322206 seasonal=60.31653570088483\n",
      "-inserting arima forecasts, stl components, into 2021-07-13 trained on data until 2021-07-11\n",
      "\n",
      "Current day=2021-07-13 predicting day=2021-07-14 with last training date=2021-07-12\n",
      "- STL lag2 trend=897.3995462631397 seasonal=269.2360459405091\n",
      "-inserting arima forecasts, stl components, into 2021-07-14 trained on data until 2021-07-12\n",
      "\n",
      "Current day=2021-07-14 predicting day=2021-07-15 with last training date=2021-07-13\n",
      "- STL lag2 trend=971.6248365857534 seasonal=37.597209462693336\n",
      "-inserting arima forecasts, stl components, into 2021-07-15 trained on data until 2021-07-13\n",
      "\n",
      "Current day=2021-07-15 predicting day=2021-07-16 with last training date=2021-07-14\n"
     ]
    },
    {
     "name": "stdout",
     "output_type": "stream",
     "text": [
      "- STL lag2 trend=989.6060831940077 seasonal=-38.64929692325385\n",
      "-inserting arima forecasts, stl components, into 2021-07-16 trained on data until 2021-07-14\n",
      "\n",
      "Current day=2021-07-16 predicting day=2021-07-17 with last training date=2021-07-15\n",
      "- STL lag2 trend=1006.8582529753693 seasonal=-156.6805004118587\n",
      "-inserting arima forecasts, stl components, into 2021-07-17 trained on data until 2021-07-15\n",
      "\n",
      "Current day=2021-07-17 predicting day=2021-07-18 with last training date=2021-07-16\n",
      "- STL lag2 trend=1068.5733676770762 seasonal=-173.88690583384926\n",
      "-inserting arima forecasts, stl components, into 2021-07-18 trained on data until 2021-07-16\n",
      "\n",
      "Current day=2021-07-18 predicting day=2021-07-19 with last training date=2021-07-17\n"
     ]
    },
    {
     "name": "stdout",
     "output_type": "stream",
     "text": [
      "- STL lag2 trend=1073.2260479822062 seasonal=164.38735600531407\n",
      "-inserting arima forecasts, stl components, into 2021-07-19 trained on data until 2021-07-17\n",
      "\n",
      "Current day=2021-07-19 predicting day=2021-07-20 with last training date=2021-07-18\n",
      "- STL lag2 trend=1102.2318587299792 seasonal=-44.84418382966163\n",
      "-inserting arima forecasts, stl components, into 2021-07-20 trained on data until 2021-07-18\n",
      "\n",
      "Current day=2021-07-20 predicting day=2021-07-21 with last training date=2021-07-19\n",
      "- STL lag2 trend=1054.658780854595 seasonal=257.9910800109605\n",
      "-inserting arima forecasts, stl components, into 2021-07-21 trained on data until 2021-07-19\n",
      "\n",
      "Current day=2021-07-21 predicting day=2021-07-22 with last training date=2021-07-20\n"
     ]
    },
    {
     "name": "stdout",
     "output_type": "stream",
     "text": [
      "- STL lag2 trend=1097.360967099854 seasonal=77.21591567895693\n",
      "-inserting arima forecasts, stl components, into 2021-07-22 trained on data until 2021-07-20\n",
      "\n",
      "Current day=2021-07-22 predicting day=2021-07-23 with last training date=2021-07-21\n",
      "- STL lag2 trend=1160.55697751908 seasonal=-33.88667952266361\n",
      "-inserting arima forecasts, stl components, into 2021-07-23 trained on data until 2021-07-21\n",
      "\n",
      "Current day=2021-07-23 predicting day=2021-07-24 with last training date=2021-07-22\n",
      "- STL lag2 trend=1153.3780435418896 seasonal=-278.29550681472773\n",
      "-inserting arima forecasts, stl components, into 2021-07-24 trained on data until 2021-07-22\n",
      "\n",
      "Current day=2021-07-24 predicting day=2021-07-25 with last training date=2021-07-23\n"
     ]
    },
    {
     "name": "stdout",
     "output_type": "stream",
     "text": [
      "- STL lag2 trend=1159.0838765818733 seasonal=-231.7439340506334\n",
      "-inserting arima forecasts, stl components, into 2021-07-25 trained on data until 2021-07-23\n",
      "\n",
      "Current day=2021-07-25 predicting day=2021-07-26 with last training date=2021-07-24\n",
      "- STL lag2 trend=1024.4857570155011 seasonal=-37.50868174843827\n",
      "-inserting arima forecasts, stl components, into 2021-07-26 trained on data until 2021-07-24\n",
      "\n",
      "Current day=2021-07-26 predicting day=2021-07-27 with last training date=2021-07-25\n",
      "- STL lag2 trend=913.0130706868633 seasonal=-185.4412619560755\n",
      "-inserting arima forecasts, stl components, into 2021-07-27 trained on data until 2021-07-25\n",
      "\n",
      "Current day=2021-07-27 predicting day=2021-07-28 with last training date=2021-07-26\n"
     ]
    },
    {
     "name": "stdout",
     "output_type": "stream",
     "text": [
      "- STL lag2 trend=804.0707702649286 seasonal=223.18929661995838\n",
      "-inserting arima forecasts, stl components, into 2021-07-28 trained on data until 2021-07-26\n",
      "\n",
      "Current day=2021-07-28 predicting day=2021-07-29 with last training date=2021-07-27\n",
      "- STL lag2 trend=827.8500201062429 seasonal=309.3796277893193\n",
      "-inserting arima forecasts, stl components, into 2021-07-29 trained on data until 2021-07-27\n",
      "\n",
      "Current day=2021-07-29 predicting day=2021-07-30 with last training date=2021-07-28\n",
      "- STL lag2 trend=805.1953498388259 seasonal=110.46864980504745\n",
      "-inserting arima forecasts, stl components, into 2021-07-30 trained on data until 2021-07-28\n",
      "\n",
      "Current day=2021-07-30 predicting day=2021-07-31 with last training date=2021-07-29\n"
     ]
    },
    {
     "name": "stdout",
     "output_type": "stream",
     "text": [
      "- STL lag2 trend=810.2074226665118 seasonal=-165.20232198203902\n",
      "-inserting arima forecasts, stl components, into 2021-07-31 trained on data until 2021-07-29\n",
      "\n",
      "Current day=2021-07-31 predicting day=2021-08-01 with last training date=2021-07-30\n",
      "- STL lag2 trend=791.3079589713135 seasonal=-105.88494660082972\n",
      "-inserting arima forecasts, stl components, into 2021-08-01 trained on data until 2021-07-30\n",
      "\n",
      "Current day=2021-08-01 predicting day=2021-08-02 with last training date=2021-07-31\n"
     ]
    },
    {
     "name": "stdout",
     "output_type": "stream",
     "text": [
      "- STL lag2 trend=804.7901208549124 seasonal=-73.56360997371533\n",
      "-inserting arima forecasts, stl components, into 2021-08-02 trained on data until 2021-07-31\n",
      "\n",
      "Current day=2021-08-02 predicting day=2021-08-03 with last training date=2021-08-01\n",
      "- STL lag2 trend=899.0475361324247 seasonal=-79.63014778557101\n",
      "-inserting arima forecasts, stl components, into 2021-08-03 trained on data until 2021-08-01\n",
      "\n",
      "Current day=2021-08-03 predicting day=2021-08-04 with last training date=2021-08-02\n"
     ]
    },
    {
     "name": "stdout",
     "output_type": "stream",
     "text": [
      "- STL lag2 trend=1053.0521985155299 seasonal=448.2608222764622\n",
      "-inserting arima forecasts, stl components, into 2021-08-04 trained on data until 2021-08-02\n",
      "\n",
      "Current day=2021-08-04 predicting day=2021-08-05 with last training date=2021-08-03\n",
      "- STL lag2 trend=1100.0802819750372 seasonal=394.1221471316016\n",
      "-inserting arima forecasts, stl components, into 2021-08-05 trained on data until 2021-08-03\n",
      "\n",
      "Current day=2021-08-05 predicting day=2021-08-06 with last training date=2021-08-04\n",
      "- STL lag2 trend=1119.9882033486306 seasonal=37.77153562655745\n",
      "-inserting arima forecasts, stl components, into 2021-08-06 trained on data until 2021-08-04\n",
      "\n",
      "Current day=2021-08-06 predicting day=2021-08-07 with last training date=2021-08-05\n"
     ]
    },
    {
     "name": "stdout",
     "output_type": "stream",
     "text": [
      "- STL lag2 trend=1230.19723517471 seasonal=-123.12561585737714\n",
      "-inserting arima forecasts, stl components, into 2021-08-07 trained on data until 2021-08-05\n",
      "\n",
      "Current day=2021-08-07 predicting day=2021-08-08 with last training date=2021-08-06\n",
      "- STL lag2 trend=1384.2198811475178 seasonal=130.06219566138188\n",
      "-inserting arima forecasts, stl components, into 2021-08-08 trained on data until 2021-08-06\n",
      "\n",
      "Current day=2021-08-08 predicting day=2021-08-09 with last training date=2021-08-07\n"
     ]
    },
    {
     "name": "stdout",
     "output_type": "stream",
     "text": [
      "- STL lag2 trend=1594.8699826552238 seasonal=466.4171319583903\n",
      "-inserting arima forecasts, stl components, into 2021-08-09 trained on data until 2021-08-07\n",
      "\n",
      "Current day=2021-08-09 predicting day=2021-08-10 with last training date=2021-08-08\n",
      "- STL lag2 trend=1816.4265865787684 seasonal=-198.64626409857055\n",
      "-inserting arima forecasts, stl components, into 2021-08-10 trained on data until 2021-08-08\n",
      "\n",
      "Current day=2021-08-10 predicting day=2021-08-11 with last training date=2021-08-09\n"
     ]
    },
    {
     "name": "stdout",
     "output_type": "stream",
     "text": [
      "- STL lag2 trend=1786.4251536127747 seasonal=-389.44792829868214\n",
      "-inserting arima forecasts, stl components, into 2021-08-11 trained on data until 2021-08-09\n",
      "\n",
      "Current day=2021-08-11 predicting day=2021-08-12 with last training date=2021-08-10\n",
      "- STL lag2 trend=1744.5356511415712 seasonal=496.3497117497492\n",
      "-inserting arima forecasts, stl components, into 2021-08-12 trained on data until 2021-08-10\n",
      "\n",
      "Current day=2021-08-12 predicting day=2021-08-13 with last training date=2021-08-11\n"
     ]
    },
    {
     "name": "stdout",
     "output_type": "stream",
     "text": [
      "- STL lag2 trend=1038.5869634353915 seasonal=-33.680658669118344\n",
      "-inserting arima forecasts, stl components, into 2021-08-13 trained on data until 2021-08-11\n",
      "\n",
      "Current day=2021-08-13 predicting day=2021-08-14 with last training date=2021-08-12\n",
      "- STL lag2 trend=974.2032198311708 seasonal=-126.72230093599109\n",
      "-inserting arima forecasts, stl components, into 2021-08-14 trained on data until 2021-08-12\n",
      "\n",
      "Current day=2021-08-14 predicting day=2021-08-15 with last training date=2021-08-13\n"
     ]
    },
    {
     "name": "stdout",
     "output_type": "stream",
     "text": [
      "- STL lag2 trend=842.2320395425393 seasonal=-162.78257673090542\n",
      "-inserting arima forecasts, stl components, into 2021-08-15 trained on data until 2021-08-13\n",
      "\n",
      "Current day=2021-08-15 predicting day=2021-08-16 with last training date=2021-08-14\n",
      "- STL lag2 trend=915.8142098524565 seasonal=-187.70576154451948\n",
      "-inserting arima forecasts, stl components, into 2021-08-16 trained on data until 2021-08-14\n",
      "\n",
      "Current day=2021-08-16 predicting day=2021-08-17 with last training date=2021-08-15\n"
     ]
    },
    {
     "name": "stdout",
     "output_type": "stream",
     "text": [
      "- STL lag2 trend=935.4227994481022 seasonal=-161.3064499708988\n",
      "-inserting arima forecasts, stl components, into 2021-08-17 trained on data until 2021-08-15\n",
      "\n",
      "Current day=2021-08-17 predicting day=2021-08-18 with last training date=2021-08-16\n",
      "- STL lag2 trend=930.9381592131881 seasonal=403.0783572941132\n",
      "-inserting arima forecasts, stl components, into 2021-08-18 trained on data until 2021-08-16\n",
      "\n",
      "Current day=2021-08-18 predicting day=2021-08-19 with last training date=2021-08-17\n"
     ]
    },
    {
     "name": "stdout",
     "output_type": "stream",
     "text": [
      "- STL lag2 trend=823.4400916051516 seasonal=125.42148902873764\n",
      "-inserting arima forecasts, stl components, into 2021-08-19 trained on data until 2021-08-17\n",
      "\n",
      "Current day=2021-08-19 predicting day=2021-08-20 with last training date=2021-08-18\n",
      "- STL lag2 trend=894.0500307169824 seasonal=175.41726708217814\n",
      "-inserting arima forecasts, stl components, into 2021-08-20 trained on data until 2021-08-18\n",
      "\n",
      "Current day=2021-08-20 predicting day=2021-08-21 with last training date=2021-08-19\n"
     ]
    },
    {
     "name": "stdout",
     "output_type": "stream",
     "text": [
      "- STL lag2 trend=886.1721224394589 seasonal=-45.953542085468676\n",
      "-inserting arima forecasts, stl components, into 2021-08-21 trained on data until 2021-08-19\n",
      "\n",
      "Current day=2021-08-21 predicting day=2021-08-22 with last training date=2021-08-20\n",
      "- STL lag2 trend=927.8047342236042 seasonal=-178.05215311603223\n",
      "-inserting arima forecasts, stl components, into 2021-08-22 trained on data until 2021-08-20\n",
      "\n",
      "Current day=2021-08-22 predicting day=2021-08-23 with last training date=2021-08-21\n"
     ]
    },
    {
     "name": "stdout",
     "output_type": "stream",
     "text": [
      "- STL lag2 trend=951.7972627309962 seasonal=-150.23923407495002\n",
      "-inserting arima forecasts, stl components, into 2021-08-23 trained on data until 2021-08-21\n",
      "\n",
      "Current day=2021-08-23 predicting day=2021-08-24 with last training date=2021-08-22\n",
      "- STL lag2 trend=947.8073183024226 seasonal=-187.7013071661019\n",
      "-inserting arima forecasts, stl components, into 2021-08-24 trained on data until 2021-08-22\n",
      "\n",
      "Current day=2021-08-24 predicting day=2021-08-25 with last training date=2021-08-23\n"
     ]
    },
    {
     "name": "stdout",
     "output_type": "stream",
     "text": [
      "- STL lag2 trend=843.2814043960886 seasonal=229.32104124832168\n",
      "-inserting arima forecasts, stl components, into 2021-08-25 trained on data until 2021-08-23\n",
      "\n",
      "Current day=2021-08-25 predicting day=2021-08-26 with last training date=2021-08-24\n",
      "- STL lag2 trend=940.418604304745 seasonal=491.0414017792675\n",
      "-inserting arima forecasts, stl components, into 2021-08-26 trained on data until 2021-08-24\n",
      "\n",
      "Current day=2021-08-26 predicting day=2021-08-27 with last training date=2021-08-25\n"
     ]
    },
    {
     "name": "stdout",
     "output_type": "stream",
     "text": [
      "- STL lag2 trend=959.2896248108289 seasonal=217.86334791505996\n",
      "-inserting arima forecasts, stl components, into 2021-08-27 trained on data until 2021-08-25\n",
      "\n",
      "Current day=2021-08-27 predicting day=2021-08-28 with last training date=2021-08-26\n",
      "- STL lag2 trend=968.6552985129879 seasonal=-117.82583390423284\n",
      "-inserting arima forecasts, stl components, into 2021-08-28 trained on data until 2021-08-26\n",
      "\n",
      "Current day=2021-08-28 predicting day=2021-08-29 with last training date=2021-08-27\n"
     ]
    },
    {
     "name": "stdout",
     "output_type": "stream",
     "text": [
      "- STL lag2 trend=1008.8607516795837 seasonal=-160.3408007281664\n",
      "-inserting arima forecasts, stl components, into 2021-08-29 trained on data until 2021-08-27\n",
      "\n",
      "Current day=2021-08-29 predicting day=2021-08-30 with last training date=2021-08-28\n",
      "- STL lag2 trend=1058.7279137017053 seasonal=-119.91536611087811\n",
      "-inserting arima forecasts, stl components, into 2021-08-30 trained on data until 2021-08-28\n",
      "\n",
      "Current day=2021-08-30 predicting day=2021-08-31 with last training date=2021-08-29\n"
     ]
    },
    {
     "name": "stdout",
     "output_type": "stream",
     "text": [
      "- STL lag2 trend=1087.707587575091 seasonal=-259.870305922843\n",
      "-inserting arima forecasts, stl components, into 2021-08-31 trained on data until 2021-08-29\n",
      "\n",
      "Current day=2021-08-31 predicting day=2021-09-01 with last training date=2021-08-30\n",
      "- STL lag2 trend=1051.9711862419176 seasonal=-156.43743095349265\n",
      "-inserting arima forecasts, stl components, into 2021-09-01 trained on data until 2021-08-30\n",
      "\n",
      "Current day=2021-09-01 predicting day=2021-09-02 with last training date=2021-08-31\n"
     ]
    },
    {
     "name": "stdout",
     "output_type": "stream",
     "text": [
      "- STL lag2 trend=1016.3252984313526 seasonal=50.44428725617557\n",
      "-inserting arima forecasts, stl components, into 2021-09-02 trained on data until 2021-08-31\n",
      "\n",
      "Current day=2021-09-02 predicting day=2021-09-03 with last training date=2021-09-01\n",
      "- STL lag2 trend=1025.7932455694586 seasonal=363.15607934389635\n",
      "-inserting arima forecasts, stl components, into 2021-09-03 trained on data until 2021-09-01\n",
      "\n",
      "Current day=2021-09-03 predicting day=2021-09-04 with last training date=2021-09-02\n"
     ]
    },
    {
     "name": "stdout",
     "output_type": "stream",
     "text": [
      "- STL lag2 trend=1036.822559460507 seasonal=-74.87597847518053\n",
      "-inserting arima forecasts, stl components, into 2021-09-04 trained on data until 2021-09-02\n",
      "\n",
      "Current day=2021-09-04 predicting day=2021-09-05 with last training date=2021-09-03\n",
      "- STL lag2 trend=1378.376464261136 seasonal=67.9905966822877\n",
      "-inserting arima forecasts, stl components, into 2021-09-05 trained on data until 2021-09-03\n",
      "\n",
      "Current day=2021-09-05 predicting day=2021-09-06 with last training date=2021-09-04\n"
     ]
    },
    {
     "name": "stdout",
     "output_type": "stream",
     "text": [
      "- STL lag2 trend=1381.1379561689755 seasonal=-46.938402207776605\n",
      "-inserting arima forecasts, stl components, into 2021-09-06 trained on data until 2021-09-04\n",
      "\n",
      "Current day=2021-09-06 predicting day=2021-09-07 with last training date=2021-09-05\n",
      "- STL lag2 trend=1434.5372054465242 seasonal=-273.67432505919527\n",
      "-inserting arima forecasts, stl components, into 2021-09-07 trained on data until 2021-09-05\n",
      "\n",
      "Current day=2021-09-07 predicting day=2021-09-08 with last training date=2021-09-06\n"
     ]
    },
    {
     "name": "stdout",
     "output_type": "stream",
     "text": [
      "- STL lag2 trend=1472.9679353282586 seasonal=-471.3343884092908\n",
      "-inserting arima forecasts, stl components, into 2021-09-08 trained on data until 2021-09-06\n",
      "\n",
      "Current day=2021-09-08 predicting day=2021-09-09 with last training date=2021-09-07\n",
      "- STL lag2 trend=1305.2137789337326 seasonal=-225.17487289958171\n",
      "-inserting arima forecasts, stl components, into 2021-09-09 trained on data until 2021-09-07\n",
      "\n",
      "Current day=2021-09-09 predicting day=2021-09-10 with last training date=2021-09-08\n"
     ]
    },
    {
     "name": "stdout",
     "output_type": "stream",
     "text": [
      "- STL lag2 trend=1321.0064968235552 seasonal=348.56394914132943\n",
      "-inserting arima forecasts, stl components, into 2021-09-10 trained on data until 2021-09-08\n",
      "\n",
      "Current day=2021-09-10 predicting day=2021-09-11 with last training date=2021-09-09\n",
      "- STL lag2 trend=1244.27858263623 seasonal=-283.29126152028346\n",
      "-inserting arima forecasts, stl components, into 2021-09-11 trained on data until 2021-09-09\n",
      "\n",
      "Current day=2021-09-11 predicting day=2021-09-12 with last training date=2021-09-10\n"
     ]
    },
    {
     "name": "stdout",
     "output_type": "stream",
     "text": [
      "- STL lag2 trend=910.9951666450424 seasonal=-141.00091744129796\n",
      "-inserting arima forecasts, stl components, into 2021-09-12 trained on data until 2021-09-10\n",
      "\n",
      "Current day=2021-09-12 predicting day=2021-09-13 with last training date=2021-09-11\n",
      "- STL lag2 trend=695.220673392757 seasonal=100.5608744369624\n",
      "-inserting arima forecasts, stl components, into 2021-09-13 trained on data until 2021-09-11\n",
      "\n",
      "Current day=2021-09-13 predicting day=2021-09-14 with last training date=2021-09-12\n"
     ]
    },
    {
     "name": "stdout",
     "output_type": "stream",
     "text": [
      "- STL lag2 trend=638.1491655090475 seasonal=91.45700304223594\n",
      "-inserting arima forecasts, stl components, into 2021-09-14 trained on data until 2021-09-12\n",
      "\n",
      "Current day=2021-09-14 predicting day=2021-09-15 with last training date=2021-09-13\n",
      "- STL lag2 trend=694.6225902166263 seasonal=-109.40608201247731\n",
      "-inserting arima forecasts, stl components, into 2021-09-15 trained on data until 2021-09-13\n",
      "\n",
      "Current day=2021-09-15 predicting day=2021-09-16 with last training date=2021-09-14\n"
     ]
    },
    {
     "name": "stdout",
     "output_type": "stream",
     "text": [
      "- STL lag2 trend=704.1244633360989 seasonal=48.06919895167792\n",
      "-inserting arima forecasts, stl components, into 2021-09-16 trained on data until 2021-09-14\n",
      "\n",
      "Current day=2021-09-16 predicting day=2021-09-17 with last training date=2021-09-15\n",
      "- STL lag2 trend=677.153730485187 seasonal=-17.259847953824945\n",
      "-inserting arima forecasts, stl components, into 2021-09-17 trained on data until 2021-09-15\n",
      "\n",
      "Current day=2021-09-17 predicting day=2021-09-18 with last training date=2021-09-16\n"
     ]
    },
    {
     "name": "stdout",
     "output_type": "stream",
     "text": [
      "- STL lag2 trend=643.064044534271 seasonal=37.134967103923216\n",
      "-inserting arima forecasts, stl components, into 2021-09-18 trained on data until 2021-09-16\n",
      "\n",
      "Current day=2021-09-18 predicting day=2021-09-19 with last training date=2021-09-17\n",
      "- STL lag2 trend=708.015590564499 seasonal=283.0191993659781\n",
      "-inserting arima forecasts, stl components, into 2021-09-19 trained on data until 2021-09-17\n",
      "\n",
      "Current day=2021-09-19 predicting day=2021-09-20 with last training date=2021-09-18\n"
     ]
    },
    {
     "name": "stdout",
     "output_type": "stream",
     "text": [
      "- STL lag2 trend=854.7962704979175 seasonal=632.5104217214576\n",
      "-inserting arima forecasts, stl components, into 2021-09-20 trained on data until 2021-09-18\n",
      "\n",
      "Current day=2021-09-20 predicting day=2021-09-21 with last training date=2021-09-19\n",
      "- STL lag2 trend=899.6026753491672 seasonal=44.92823621938084\n",
      "-inserting arima forecasts, stl components, into 2021-09-21 trained on data until 2021-09-19\n",
      "\n",
      "Current day=2021-09-21 predicting day=2021-09-22 with last training date=2021-09-20\n"
     ]
    },
    {
     "name": "stdout",
     "output_type": "stream",
     "text": [
      "- STL lag2 trend=993.4925958776469 seasonal=-131.10113782542925\n",
      "-inserting arima forecasts, stl components, into 2021-09-22 trained on data until 2021-09-20\n",
      "\n",
      "Current day=2021-09-22 predicting day=2021-09-23 with last training date=2021-09-21\n",
      "- STL lag2 trend=1008.8615808005843 seasonal=-141.229151977734\n",
      "-inserting arima forecasts, stl components, into 2021-09-23 trained on data until 2021-09-21\n",
      "\n",
      "Current day=2021-09-23 predicting day=2021-09-24 with last training date=2021-09-22\n"
     ]
    },
    {
     "name": "stdout",
     "output_type": "stream",
     "text": [
      "- STL lag2 trend=1075.2099349187038 seasonal=-267.80291493187553\n",
      "-inserting arima forecasts, stl components, into 2021-09-24 trained on data until 2021-09-22\n",
      "\n",
      "Current day=2021-09-24 predicting day=2021-09-25 with last training date=2021-09-23\n",
      "- STL lag2 trend=1064.664098325 seasonal=-267.8712960199398\n",
      "-inserting arima forecasts, stl components, into 2021-09-25 trained on data until 2021-09-23\n",
      "\n",
      "Current day=2021-09-25 predicting day=2021-09-26 with last training date=2021-09-24\n"
     ]
    },
    {
     "name": "stdout",
     "output_type": "stream",
     "text": [
      "- STL lag2 trend=984.3555937702097 seasonal=-180.0178072956203\n",
      "-inserting arima forecasts, stl components, into 2021-09-26 trained on data until 2021-09-24\n",
      "\n",
      "Current day=2021-09-26 predicting day=2021-09-27 with last training date=2021-09-25\n",
      "- STL lag2 trend=812.1590266663545 seasonal=-106.89372839951201\n",
      "-inserting arima forecasts, stl components, into 2021-09-27 trained on data until 2021-09-25\n",
      "\n",
      "Current day=2021-09-27 predicting day=2021-09-28 with last training date=2021-09-26\n"
     ]
    },
    {
     "name": "stdout",
     "output_type": "stream",
     "text": [
      "- STL lag2 trend=697.4934682413682 seasonal=81.93426556940737\n",
      "-inserting arima forecasts, stl components, into 2021-09-28 trained on data until 2021-09-26\n",
      "\n",
      "Current day=2021-09-28 predicting day=2021-09-29 with last training date=2021-09-27\n",
      "- STL lag2 trend=627.6017510789854 seasonal=46.40931966040726\n",
      "-inserting arima forecasts, stl components, into 2021-09-29 trained on data until 2021-09-27\n",
      "\n",
      "Current day=2021-09-29 predicting day=2021-09-30 with last training date=2021-09-28\n"
     ]
    },
    {
     "name": "stdout",
     "output_type": "stream",
     "text": [
      "- STL lag2 trend=611.0214243746098 seasonal=65.10235274858132\n",
      "-inserting arima forecasts, stl components, into 2021-09-30 trained on data until 2021-09-28\n",
      "\n",
      "Current day=2021-09-30 predicting day=2021-10-01 with last training date=2021-09-29\n",
      "- STL lag2 trend=630.0835591859783 seasonal=-25.644591386472566\n",
      "-inserting arima forecasts, stl components, into 2021-10-01 trained on data until 2021-09-29\n",
      "\n",
      "Current day=2021-10-01 predicting day=2021-10-02 with last training date=2021-09-30\n"
     ]
    },
    {
     "name": "stdout",
     "output_type": "stream",
     "text": [
      "- STL lag2 trend=653.7860885011673 seasonal=-3.2747719319915793\n",
      "-inserting arima forecasts, stl components, into 2021-10-02 trained on data until 2021-09-30\n",
      "\n",
      "Current day=2021-10-02 predicting day=2021-10-03 with last training date=2021-10-01\n",
      "- STL lag2 trend=738.2890631702194 seasonal=298.6891054225943\n",
      "-inserting arima forecasts, stl components, into 2021-10-03 trained on data until 2021-10-01\n",
      "\n",
      "Current day=2021-10-03 predicting day=2021-10-04 with last training date=2021-10-02\n"
     ]
    },
    {
     "name": "stdout",
     "output_type": "stream",
     "text": [
      "- STL lag2 trend=901.7370041690817 seasonal=186.43283981609068\n",
      "-inserting arima forecasts, stl components, into 2021-10-04 trained on data until 2021-10-02\n",
      "\n",
      "Current day=2021-10-04 predicting day=2021-10-05 with last training date=2021-10-03\n",
      "- STL lag2 trend=937.5347429177252 seasonal=-10.013213672831066\n",
      "-inserting arima forecasts, stl components, into 2021-10-05 trained on data until 2021-10-03\n",
      "\n",
      "Current day=2021-10-05 predicting day=2021-10-06 with last training date=2021-10-04\n"
     ]
    },
    {
     "name": "stdout",
     "output_type": "stream",
     "text": [
      "- STL lag2 trend=938.9053164833679 seasonal=-113.01147166323258\n",
      "-inserting arima forecasts, stl components, into 2021-10-06 trained on data until 2021-10-04\n",
      "\n",
      "Current day=2021-10-06 predicting day=2021-10-07 with last training date=2021-10-05\n",
      "- STL lag2 trend=927.0516178304146 seasonal=-127.23457865728582\n",
      "-inserting arima forecasts, stl components, into 2021-10-07 trained on data until 2021-10-05\n",
      "\n",
      "Current day=2021-10-07 predicting day=2021-10-08 with last training date=2021-10-06\n"
     ]
    },
    {
     "name": "stdout",
     "output_type": "stream",
     "text": [
      "- STL lag2 trend=964.663953368299 seasonal=-109.58054159961175\n",
      "-inserting arima forecasts, stl components, into 2021-10-08 trained on data until 2021-10-06\n",
      "\n",
      "Current day=2021-10-08 predicting day=2021-10-09 with last training date=2021-10-07\n",
      "- STL lag2 trend=1013.8396385702065 seasonal=-79.78446964101506\n",
      "-inserting arima forecasts, stl components, into 2021-10-09 trained on data until 2021-10-07\n",
      "\n",
      "Current day=2021-10-09 predicting day=2021-10-10 with last training date=2021-10-08\n"
     ]
    },
    {
     "name": "stdout",
     "output_type": "stream",
     "text": [
      "- STL lag2 trend=956.6356279198349 seasonal=87.86675442847573\n",
      "-inserting arima forecasts, stl components, into 2021-10-10 trained on data until 2021-10-08\n",
      "\n",
      "Current day=2021-10-10 predicting day=2021-10-11 with last training date=2021-10-09\n",
      "- STL lag2 trend=905.1032432433597 seasonal=-96.38796097783003\n",
      "-inserting arima forecasts, stl components, into 2021-10-11 trained on data until 2021-10-09\n",
      "\n",
      "Current day=2021-10-11 predicting day=2021-10-12 with last training date=2021-10-10\n"
     ]
    },
    {
     "name": "stdout",
     "output_type": "stream",
     "text": [
      "- STL lag2 trend=821.8401299394018 seasonal=-71.19853579921015\n",
      "-inserting arima forecasts, stl components, into 2021-10-12 trained on data until 2021-10-10\n",
      "\n",
      "Current day=2021-10-12 predicting day=2021-10-13 with last training date=2021-10-11\n",
      "- STL lag2 trend=804.7212218273484 seasonal=-82.72579486455774\n",
      "-inserting arima forecasts, stl components, into 2021-10-13 trained on data until 2021-10-11\n",
      "\n",
      "Current day=2021-10-13 predicting day=2021-10-14 with last training date=2021-10-12\n"
     ]
    },
    {
     "name": "stdout",
     "output_type": "stream",
     "text": [
      "- STL lag2 trend=820.3927737237166 seasonal=-68.71217489578278\n",
      "-inserting arima forecasts, stl components, into 2021-10-14 trained on data until 2021-10-12\n",
      "\n",
      "Current day=2021-10-14 predicting day=2021-10-15 with last training date=2021-10-13\n",
      "- STL lag2 trend=782.0958228055651 seasonal=-62.56210919435908\n",
      "-inserting arima forecasts, stl components, into 2021-10-15 trained on data until 2021-10-13\n",
      "\n",
      "Current day=2021-10-15 predicting day=2021-10-16 with last training date=2021-10-14\n"
     ]
    },
    {
     "name": "stdout",
     "output_type": "stream",
     "text": [
      "- STL lag2 trend=752.7054954054372 seasonal=73.64988921365187\n",
      "-inserting arima forecasts, stl components, into 2021-10-16 trained on data until 2021-10-14\n",
      "\n",
      "Current day=2021-10-16 predicting day=2021-10-17 with last training date=2021-10-15\n",
      "- STL lag2 trend=669.6922151152341 seasonal=85.41715898174772\n",
      "-inserting arima forecasts, stl components, into 2021-10-17 trained on data until 2021-10-15\n",
      "\n",
      "Current day=2021-10-17 predicting day=2021-10-18 with last training date=2021-10-16\n"
     ]
    },
    {
     "name": "stdout",
     "output_type": "stream",
     "text": [
      "- STL lag2 trend=653.8692672535819 seasonal=26.693717024063346\n",
      "-inserting arima forecasts, stl components, into 2021-10-18 trained on data until 2021-10-16\n",
      "\n",
      "Current day=2021-10-18 predicting day=2021-10-19 with last training date=2021-10-17\n",
      "- STL lag2 trend=656.3305164717522 seasonal=-59.01312596645049\n",
      "-inserting arima forecasts, stl components, into 2021-10-19 trained on data until 2021-10-17\n",
      "\n",
      "Current day=2021-10-19 predicting day=2021-10-20 with last training date=2021-10-18\n"
     ]
    },
    {
     "name": "stdout",
     "output_type": "stream",
     "text": [
      "- STL lag2 trend=681.0563299239016 seasonal=-8.690234689723955\n",
      "-inserting arima forecasts, stl components, into 2021-10-20 trained on data until 2021-10-18\n",
      "\n",
      "Current day=2021-10-20 predicting day=2021-10-21 with last training date=2021-10-19\n",
      "- STL lag2 trend=677.3265265037928 seasonal=-29.486632597078486\n",
      "-inserting arima forecasts, stl components, into 2021-10-21 trained on data until 2021-10-19\n",
      "\n",
      "Current day=2021-10-21 predicting day=2021-10-22 with last training date=2021-10-20\n"
     ]
    },
    {
     "name": "stdout",
     "output_type": "stream",
     "text": [
      "- STL lag2 trend=685.9000528425839 seasonal=-20.96227626979389\n",
      "-inserting arima forecasts, stl components, into 2021-10-22 trained on data until 2021-10-20\n",
      "\n",
      "Current day=2021-10-22 predicting day=2021-10-23 with last training date=2021-10-21\n",
      "- STL lag2 trend=630.1405507992757 seasonal=48.999896835607075\n",
      "-inserting arima forecasts, stl components, into 2021-10-23 trained on data until 2021-10-21\n",
      "\n",
      "Current day=2021-10-23 predicting day=2021-10-24 with last training date=2021-10-22\n"
     ]
    },
    {
     "name": "stdout",
     "output_type": "stream",
     "text": [
      "- STL lag2 trend=612.2261709441871 seasonal=-1.9825504469689208\n",
      "-inserting arima forecasts, stl components, into 2021-10-24 trained on data until 2021-10-22\n",
      "\n",
      "Current day=2021-10-24 predicting day=2021-10-25 with last training date=2021-10-23\n",
      "- STL lag2 trend=602.7058219111473 seasonal=38.05533757008487\n",
      "-inserting arima forecasts, stl components, into 2021-10-25 trained on data until 2021-10-23\n",
      "\n",
      "Current day=2021-10-25 predicting day=2021-10-26 with last training date=2021-10-24\n"
     ]
    },
    {
     "name": "stdout",
     "output_type": "stream",
     "text": [
      "- STL lag2 trend=621.9426370001472 seasonal=-43.682169308757466\n",
      "-inserting arima forecasts, stl components, into 2021-10-26 trained on data until 2021-10-24\n",
      "\n",
      "Current day=2021-10-26 predicting day=2021-10-27 with last training date=2021-10-25\n",
      "- STL lag2 trend=601.2855909157062 seasonal=11.971851800572587\n",
      "-inserting arima forecasts, stl components, into 2021-10-27 trained on data until 2021-10-25\n",
      "\n",
      "Current day=2021-10-27 predicting day=2021-10-28 with last training date=2021-10-26\n"
     ]
    },
    {
     "name": "stdout",
     "output_type": "stream",
     "text": [
      "- STL lag2 trend=622.7804235162498 seasonal=52.530536135224\n",
      "-inserting arima forecasts, stl components, into 2021-10-28 trained on data until 2021-10-26\n",
      "\n",
      "Current day=2021-10-28 predicting day=2021-10-29 with last training date=2021-10-27\n",
      "- STL lag2 trend=615.4667757143898 seasonal=4.612457442140202\n",
      "-inserting arima forecasts, stl components, into 2021-10-29 trained on data until 2021-10-27\n",
      "\n",
      "Current day=2021-10-29 predicting day=2021-10-30 with last training date=2021-10-28\n"
     ]
    },
    {
     "name": "stdout",
     "output_type": "stream",
     "text": [
      "- STL lag2 trend=602.316241159533 seasonal=5.152861833997075\n",
      "-inserting arima forecasts, stl components, into 2021-10-30 trained on data until 2021-10-28\n",
      "\n",
      "Current day=2021-10-30 predicting day=2021-10-31 with last training date=2021-10-29\n",
      "- STL lag2 trend=643.1544688394998 seasonal=-14.487911936286961\n",
      "-inserting arima forecasts, stl components, into 2021-10-31 trained on data until 2021-10-29\n",
      "\n",
      "Current day=2021-10-31 predicting day=2021-11-01 with last training date=2021-10-30\n"
     ]
    },
    {
     "name": "stdout",
     "output_type": "stream",
     "text": [
      "- STL lag2 trend=640.9033306222528 seasonal=18.272429193536837\n",
      "-inserting arima forecasts, stl components, into 2021-11-01 trained on data until 2021-10-30\n",
      "\n",
      "Current day=2021-11-01 predicting day=2021-11-02 with last training date=2021-10-31\n",
      "- STL lag2 trend=639.0546517436802 seasonal=-54.949631347926356\n",
      "-inserting arima forecasts, stl components, into 2021-11-02 trained on data until 2021-10-31\n",
      "\n",
      "Current day=2021-11-02 predicting day=2021-11-03 with last training date=2021-11-01\n"
     ]
    },
    {
     "name": "stdout",
     "output_type": "stream",
     "text": [
      "- STL lag2 trend=616.6553908543217 seasonal=-30.3280049435208\n",
      "-inserting arima forecasts, stl components, into 2021-11-03 trained on data until 2021-11-01\n",
      "\n",
      "Current day=2021-11-03 predicting day=2021-11-04 with last training date=2021-11-02\n",
      "- STL lag2 trend=595.016679276586 seasonal=64.76254293220717\n",
      "-inserting arima forecasts, stl components, into 2021-11-04 trained on data until 2021-11-02\n",
      "\n",
      "Current day=2021-11-04 predicting day=2021-11-05 with last training date=2021-11-03\n"
     ]
    },
    {
     "name": "stdout",
     "output_type": "stream",
     "text": [
      "- STL lag2 trend=627.7886755658863 seasonal=86.59986165626869\n",
      "-inserting arima forecasts, stl components, into 2021-11-05 trained on data until 2021-11-03\n",
      "\n",
      "Current day=2021-11-05 predicting day=2021-11-06 with last training date=2021-11-04\n",
      "- STL lag2 trend=687.7834146495618 seasonal=56.001593294649936\n",
      "-inserting arima forecasts, stl components, into 2021-11-06 trained on data until 2021-11-04\n",
      "\n",
      "Current day=2021-11-06 predicting day=2021-11-07 with last training date=2021-11-05\n"
     ]
    },
    {
     "name": "stdout",
     "output_type": "stream",
     "text": [
      "- STL lag2 trend=746.9969453485518 seasonal=52.99771311420352\n",
      "-inserting arima forecasts, stl components, into 2021-11-07 trained on data until 2021-11-05\n",
      "\n",
      "Current day=2021-11-07 predicting day=2021-11-08 with last training date=2021-11-06\n",
      "- STL lag2 trend=816.3574214936275 seasonal=97.86819835618545\n",
      "-inserting arima forecasts, stl components, into 2021-11-08 trained on data until 2021-11-06\n",
      "\n",
      "Current day=2021-11-08 predicting day=2021-11-09 with last training date=2021-11-07\n"
     ]
    },
    {
     "name": "stdout",
     "output_type": "stream",
     "text": [
      "- STL lag2 trend=848.5987720993417 seasonal=-81.75157676476216\n",
      "-inserting arima forecasts, stl components, into 2021-11-09 trained on data until 2021-11-07\n",
      "\n",
      "Current day=2021-11-09 predicting day=2021-11-10 with last training date=2021-11-08\n",
      "- STL lag2 trend=862.8592237687951 seasonal=-141.16146079196272\n",
      "-inserting arima forecasts, stl components, into 2021-11-10 trained on data until 2021-11-08\n",
      "\n",
      "Current day=2021-11-10 predicting day=2021-11-11 with last training date=2021-11-09\n"
     ]
    },
    {
     "name": "stdout",
     "output_type": "stream",
     "text": [
      "- STL lag2 trend=835.9370284460832 seasonal=-106.30290494504521\n",
      "-inserting arima forecasts, stl components, into 2021-11-11 trained on data until 2021-11-09\n",
      "\n",
      "Current day=2021-11-11 predicting day=2021-11-12 with last training date=2021-11-10\n",
      "- STL lag2 trend=780.5798194812512 seasonal=-63.91193321972605\n",
      "-inserting arima forecasts, stl components, into 2021-11-12 trained on data until 2021-11-10\n",
      "\n",
      "Current day=2021-11-12 predicting day=2021-11-13 with last training date=2021-11-11\n"
     ]
    },
    {
     "name": "stdout",
     "output_type": "stream",
     "text": [
      "- STL lag2 trend=730.882432850799 seasonal=-36.79931533074016\n",
      "-inserting arima forecasts, stl components, into 2021-11-13 trained on data until 2021-11-11\n",
      "\n",
      "Current day=2021-11-13 predicting day=2021-11-14 with last training date=2021-11-12\n",
      "- STL lag2 trend=702.2938301998674 seasonal=71.64979179126544\n",
      "-inserting arima forecasts, stl components, into 2021-11-14 trained on data until 2021-11-12\n",
      "\n",
      "Current day=2021-11-14 predicting day=2021-11-15 with last training date=2021-11-13\n"
     ]
    },
    {
     "name": "stdout",
     "output_type": "stream",
     "text": [
      "- STL lag2 trend=614.9096009744584 seasonal=45.54629101192222\n",
      "-inserting arima forecasts, stl components, into 2021-11-15 trained on data until 2021-11-13\n",
      "\n",
      "Current day=2021-11-15 predicting day=2021-11-16 with last training date=2021-11-14\n",
      "- STL lag2 trend=604.2722253448578 seasonal=25.537996508505724\n",
      "-inserting arima forecasts, stl components, into 2021-11-16 trained on data until 2021-11-14\n",
      "\n",
      "Current day=2021-11-16 predicting day=2021-11-17 with last training date=2021-11-15\n"
     ]
    },
    {
     "name": "stdout",
     "output_type": "stream",
     "text": [
      "- STL lag2 trend=610.8540960123759 seasonal=-39.64261739551337\n",
      "-inserting arima forecasts, stl components, into 2021-11-17 trained on data until 2021-11-15\n",
      "\n",
      "Current day=2021-11-17 predicting day=2021-11-18 with last training date=2021-11-16\n",
      "- STL lag2 trend=624.1878791649816 seasonal=-37.37565134943487\n",
      "-inserting arima forecasts, stl components, into 2021-11-18 trained on data until 2021-11-16\n",
      "\n",
      "Current day=2021-11-18 predicting day=2021-11-19 with last training date=2021-11-17\n"
     ]
    },
    {
     "name": "stdout",
     "output_type": "stream",
     "text": [
      "- STL lag2 trend=629.1973248341279 seasonal=-28.494438849610813\n",
      "-inserting arima forecasts, stl components, into 2021-11-19 trained on data until 2021-11-17\n",
      "\n",
      "Current day=2021-11-19 predicting day=2021-11-20 with last training date=2021-11-18\n",
      "- STL lag2 trend=635.5833647158764 seasonal=2.9901441018548995\n",
      "-inserting arima forecasts, stl components, into 2021-11-20 trained on data until 2021-11-18\n",
      "\n",
      "Current day=2021-11-20 predicting day=2021-11-21 with last training date=2021-11-19\n"
     ]
    },
    {
     "name": "stdout",
     "output_type": "stream",
     "text": [
      "- STL lag2 trend=628.3224605500136 seasonal=115.96925878508095\n",
      "-inserting arima forecasts, stl components, into 2021-11-21 trained on data until 2021-11-19\n",
      "\n",
      "Current day=2021-11-21 predicting day=2021-11-22 with last training date=2021-11-20\n",
      "- STL lag2 trend=619.7035419552584 seasonal=-22.556019245625603\n",
      "-inserting arima forecasts, stl components, into 2021-11-22 trained on data until 2021-11-20\n",
      "\n",
      "Current day=2021-11-22 predicting day=2021-11-23 with last training date=2021-11-21\n"
     ]
    },
    {
     "name": "stdout",
     "output_type": "stream",
     "text": [
      "- STL lag2 trend=604.4156153962832 seasonal=11.466273172129517\n",
      "-inserting arima forecasts, stl components, into 2021-11-23 trained on data until 2021-11-21\n",
      "\n",
      "Current day=2021-11-23 predicting day=2021-11-24 with last training date=2021-11-22\n",
      "- STL lag2 trend=607.4639920739148 seasonal=-18.034306374656055\n",
      "-inserting arima forecasts, stl components, into 2021-11-24 trained on data until 2021-11-22\n",
      "\n",
      "Current day=2021-11-24 predicting day=2021-11-25 with last training date=2021-11-23\n"
     ]
    },
    {
     "name": "stdout",
     "output_type": "stream",
     "text": [
      "- STL lag2 trend=627.5644033147236 seasonal=-7.184577888551913\n",
      "-inserting arima forecasts, stl components, into 2021-11-25 trained on data until 2021-11-23\n",
      "\n",
      "Current day=2021-11-25 predicting day=2021-11-26 with last training date=2021-11-24\n",
      "- STL lag2 trend=635.7722842369316 seasonal=-37.760336939475465\n",
      "-inserting arima forecasts, stl components, into 2021-11-26 trained on data until 2021-11-24\n",
      "\n",
      "Current day=2021-11-26 predicting day=2021-11-27 with last training date=2021-11-25\n"
     ]
    },
    {
     "name": "stdout",
     "output_type": "stream",
     "text": [
      "- STL lag2 trend=645.6215088763354 seasonal=10.354962994374635\n",
      "-inserting arima forecasts, stl components, into 2021-11-27 trained on data until 2021-11-25\n",
      "\n",
      "Current day=2021-11-27 predicting day=2021-11-28 with last training date=2021-11-26\n",
      "- STL lag2 trend=650.222779098921 seasonal=127.07756998555735\n",
      "-inserting arima forecasts, stl components, into 2021-11-28 trained on data until 2021-11-26\n",
      "\n",
      "Current day=2021-11-28 predicting day=2021-11-29 with last training date=2021-11-27\n"
     ]
    },
    {
     "name": "stdout",
     "output_type": "stream",
     "text": [
      "- STL lag2 trend=718.2263179496315 seasonal=53.68392505076894\n",
      "-inserting arima forecasts, stl components, into 2021-11-29 trained on data until 2021-11-27\n",
      "\n",
      "Current day=2021-11-29 predicting day=2021-11-30 with last training date=2021-11-28\n",
      "- STL lag2 trend=765.1207526823143 seasonal=43.67615974154674\n",
      "-inserting arima forecasts, stl components, into 2021-11-30 trained on data until 2021-11-28\n",
      "\n",
      "Current day=2021-11-30 predicting day=2021-12-01 with last training date=2021-11-29\n"
     ]
    },
    {
     "name": "stdout",
     "output_type": "stream",
     "text": [
      "- STL lag2 trend=860.6108338926668 seasonal=102.69046150639764\n",
      "-inserting arima forecasts, stl components, into 2021-12-01 trained on data until 2021-11-29\n",
      "\n",
      "Current day=2021-12-01 predicting day=2021-12-02 with last training date=2021-11-30\n",
      "- STL lag2 trend=991.7983549686513 seasonal=144.28166554919378\n",
      "-inserting arima forecasts, stl components, into 2021-12-02 trained on data until 2021-11-30\n",
      "\n",
      "Current day=2021-12-02 predicting day=2021-12-03 with last training date=2021-12-01\n"
     ]
    },
    {
     "name": "stdout",
     "output_type": "stream",
     "text": [
      "- STL lag2 trend=1087.5637026714296 seasonal=-49.377049209445175\n",
      "-inserting arima forecasts, stl components, into 2021-12-03 trained on data until 2021-12-01\n",
      "\n",
      "Current day=2021-12-03 predicting day=2021-12-04 with last training date=2021-12-02\n",
      "- STL lag2 trend=1151.7298639123055 seasonal=-87.01669273149615\n",
      "-inserting arima forecasts, stl components, into 2021-12-04 trained on data until 2021-12-02\n",
      "\n",
      "Current day=2021-12-04 predicting day=2021-12-05 with last training date=2021-12-03\n"
     ]
    },
    {
     "name": "stdout",
     "output_type": "stream",
     "text": [
      "- STL lag2 trend=1185.1470901347054 seasonal=-40.23435412048814\n",
      "-inserting arima forecasts, stl components, into 2021-12-05 trained on data until 2021-12-03\n",
      "\n",
      "Current day=2021-12-05 predicting day=2021-12-06 with last training date=2021-12-04\n",
      "- STL lag2 trend=1197.7491250657354 seasonal=-103.01713940121685\n",
      "-inserting arima forecasts, stl components, into 2021-12-06 trained on data until 2021-12-04\n",
      "\n",
      "Current day=2021-12-06 predicting day=2021-12-07 with last training date=2021-12-05\n"
     ]
    },
    {
     "name": "stdout",
     "output_type": "stream",
     "text": [
      "- STL lag2 trend=1155.7913356970998 seasonal=-197.62181504151778\n",
      "-inserting arima forecasts, stl components, into 2021-12-07 trained on data until 2021-12-05\n",
      "\n",
      "Current day=2021-12-07 predicting day=2021-12-08 with last training date=2021-12-06\n",
      "- STL lag2 trend=1060.3252749598573 seasonal=-174.52853605042665\n",
      "-inserting arima forecasts, stl components, into 2021-12-08 trained on data until 2021-12-06\n",
      "\n",
      "Current day=2021-12-08 predicting day=2021-12-09 with last training date=2021-12-07\n"
     ]
    },
    {
     "name": "stdout",
     "output_type": "stream",
     "text": [
      "- STL lag2 trend=973.4387755693876 seasonal=-5.813598517366081\n",
      "-inserting arima forecasts, stl components, into 2021-12-09 trained on data until 2021-12-07\n",
      "\n",
      "Current day=2021-12-09 predicting day=2021-12-10 with last training date=2021-12-08\n",
      "- STL lag2 trend=866.1801418808391 seasonal=-57.89809913315488\n",
      "-inserting arima forecasts, stl components, into 2021-12-10 trained on data until 2021-12-08\n",
      "\n",
      "Current day=2021-12-10 predicting day=2021-12-11 with last training date=2021-12-09\n"
     ]
    },
    {
     "name": "stdout",
     "output_type": "stream",
     "text": [
      "- STL lag2 trend=836.4568260460254 seasonal=42.03794245980151\n",
      "-inserting arima forecasts, stl components, into 2021-12-11 trained on data until 2021-12-09\n",
      "\n",
      "Current day=2021-12-11 predicting day=2021-12-12 with last training date=2021-12-10\n",
      "- STL lag2 trend=799.5090071865765 seasonal=59.52014228668784\n",
      "-inserting arima forecasts, stl components, into 2021-12-12 trained on data until 2021-12-10\n",
      "\n",
      "Current day=2021-12-12 predicting day=2021-12-13 with last training date=2021-12-11\n"
     ]
    },
    {
     "name": "stdout",
     "output_type": "stream",
     "text": [
      "- STL lag2 trend=753.6212752408567 seasonal=21.709320126139097\n",
      "-inserting arima forecasts, stl components, into 2021-12-13 trained on data until 2021-12-11\n",
      "\n",
      "Current day=2021-12-13 predicting day=2021-12-14 with last training date=2021-12-12\n"
     ]
    },
    {
     "name": "stdout",
     "output_type": "stream",
     "text": [
      "- STL lag2 trend=783.1379883582529 seasonal=-26.80703675176292\n",
      "-inserting arima forecasts, stl components, into 2021-12-14 trained on data until 2021-12-12\n",
      "\n",
      "Current day=2021-12-14 predicting day=2021-12-15 with last training date=2021-12-13\n",
      "- STL lag2 trend=806.0332505421576 seasonal=-44.381322660612625\n",
      "-inserting arima forecasts, stl components, into 2021-12-15 trained on data until 2021-12-13\n",
      "\n",
      "Current day=2021-12-15 predicting day=2021-12-16 with last training date=2021-12-14\n"
     ]
    },
    {
     "name": "stdout",
     "output_type": "stream",
     "text": [
      "- STL lag2 trend=791.2949171066582 seasonal=75.11706349332994\n",
      "-inserting arima forecasts, stl components, into 2021-12-16 trained on data until 2021-12-14\n",
      "\n",
      "Current day=2021-12-16 predicting day=2021-12-17 with last training date=2021-12-15\n",
      "- STL lag2 trend=787.0742335245636 seasonal=-72.5316099704591\n",
      "-inserting arima forecasts, stl components, into 2021-12-17 trained on data until 2021-12-15\n",
      "\n",
      "Current day=2021-12-17 predicting day=2021-12-18 with last training date=2021-12-16\n"
     ]
    },
    {
     "name": "stdout",
     "output_type": "stream",
     "text": [
      "- STL lag2 trend=727.9800611590531 seasonal=-28.30743210289115\n",
      "-inserting arima forecasts, stl components, into 2021-12-18 trained on data until 2021-12-16\n",
      "\n",
      "Current day=2021-12-18 predicting day=2021-12-19 with last training date=2021-12-17\n",
      "- STL lag2 trend=651.6709532986806 seasonal=-59.492331716379255\n",
      "-inserting arima forecasts, stl components, into 2021-12-19 trained on data until 2021-12-17\n",
      "\n",
      "Current day=2021-12-19 predicting day=2021-12-20 with last training date=2021-12-18\n"
     ]
    },
    {
     "name": "stdout",
     "output_type": "stream",
     "text": [
      "- STL lag2 trend=644.6461104503338 seasonal=39.615191652717705\n",
      "-inserting arima forecasts, stl components, into 2021-12-20 trained on data until 2021-12-18\n",
      "\n",
      "Current day=2021-12-20 predicting day=2021-12-21 with last training date=2021-12-19\n",
      "- STL lag2 trend=639.900803801018 seasonal=35.996816548147876\n",
      "-inserting arima forecasts, stl components, into 2021-12-21 trained on data until 2021-12-19\n",
      "\n",
      "Current day=2021-12-21 predicting day=2021-12-22 with last training date=2021-12-20\n"
     ]
    },
    {
     "name": "stdout",
     "output_type": "stream",
     "text": [
      "- STL lag2 trend=643.7562171809655 seasonal=21.306590789924464\n",
      "-inserting arima forecasts, stl components, into 2021-12-22 trained on data until 2021-12-20\n",
      "\n",
      "Current day=2021-12-22 predicting day=2021-12-23 with last training date=2021-12-21\n",
      "- STL lag2 trend=650.8997027839713 seasonal=144.11738482718334\n",
      "-inserting arima forecasts, stl components, into 2021-12-23 trained on data until 2021-12-21\n",
      "\n",
      "Current day=2021-12-23 predicting day=2021-12-24 with last training date=2021-12-22\n"
     ]
    },
    {
     "name": "stdout",
     "output_type": "stream",
     "text": [
      "- STL lag2 trend=676.6811607425775 seasonal=11.733096191585412\n",
      "-inserting arima forecasts, stl components, into 2021-12-24 trained on data until 2021-12-22\n",
      "\n",
      "Current day=2021-12-24 predicting day=2021-12-25 with last training date=2021-12-23\n",
      "- STL lag2 trend=652.7729309852865 seasonal=-92.76971489805779\n",
      "-inserting arima forecasts, stl components, into 2021-12-25 trained on data until 2021-12-23\n",
      "\n",
      "Current day=2021-12-25 predicting day=2021-12-26 with last training date=2021-12-24\n"
     ]
    },
    {
     "name": "stdout",
     "output_type": "stream",
     "text": [
      "- STL lag2 trend=664.853834136804 seasonal=-124.14269903674617\n",
      "-inserting arima forecasts, stl components, into 2021-12-26 trained on data until 2021-12-24\n",
      "\n",
      "Current day=2021-12-26 predicting day=2021-12-27 with last training date=2021-12-25\n",
      "- STL lag2 trend=649.9671235982812 seasonal=-7.877997542713325\n",
      "-inserting arima forecasts, stl components, into 2021-12-27 trained on data until 2021-12-25\n",
      "\n",
      "Current day=2021-12-27 predicting day=2021-12-28 with last training date=2021-12-26\n"
     ]
    },
    {
     "name": "stdout",
     "output_type": "stream",
     "text": [
      "- STL lag2 trend=748.5903742350271 seasonal=274.2972098746133\n",
      "-inserting arima forecasts, stl components, into 2021-12-28 trained on data until 2021-12-26\n",
      "\n",
      "Current day=2021-12-28 predicting day=2021-12-29 with last training date=2021-12-27\n"
     ]
    },
    {
     "name": "stdout",
     "output_type": "stream",
     "text": [
      "- STL lag2 trend=822.8395099689915 seasonal=105.33906581858791\n",
      "-inserting arima forecasts, stl components, into 2021-12-29 trained on data until 2021-12-27\n",
      "\n",
      "Current day=2021-12-29 predicting day=2021-12-30 with last training date=2021-12-28\n",
      "- STL lag2 trend=807.7155461597674 seasonal=53.24788997636022\n",
      "-inserting arima forecasts, stl components, into 2021-12-30 trained on data until 2021-12-28\n",
      "\n",
      "Current day=2021-12-30 predicting day=2021-12-31 with last training date=2021-12-29\n"
     ]
    },
    {
     "name": "stdout",
     "output_type": "stream",
     "text": [
      "- STL lag2 trend=847.2401754577679 seasonal=50.85836725835705\n",
      "-inserting arima forecasts, stl components, into 2021-12-31 trained on data until 2021-12-29\n",
      "\n",
      "Current day=2021-12-31 predicting day=2022-01-01 with last training date=2021-12-30\n",
      "- STL lag2 trend=875.9543947995749 seasonal=-200.60805004534254\n",
      "-inserting arima forecasts, stl components, into 2022-01-01 trained on data until 2021-12-30\n",
      "\n",
      "Current day=2022-01-01 predicting day=2022-01-02 with last training date=2021-12-31\n"
     ]
    },
    {
     "name": "stdout",
     "output_type": "stream",
     "text": [
      "- STL lag2 trend=976.0223054006435 seasonal=-112.81015207555328\n",
      "-inserting arima forecasts, stl components, into 2022-01-02 trained on data until 2021-12-31\n",
      "\n",
      "Current day=2022-01-02 predicting day=2022-01-03 with last training date=2022-01-01\n",
      "- STL lag2 trend=1097.5112428489304 seasonal=247.16329160724104\n",
      "-inserting arima forecasts, stl components, into 2022-01-03 trained on data until 2022-01-01\n",
      "\n",
      "Current day=2022-01-03 predicting day=2022-01-04 with last training date=2022-01-02\n"
     ]
    },
    {
     "name": "stdout",
     "output_type": "stream",
     "text": [
      "- STL lag2 trend=nan seasonal=nan\n",
      "Last forward filled day at date=2022-01-03\n"
     ]
    }
   ],
   "source": [
    "'''\n",
    "ARIMA (2,1,1) \n",
    "STL(sp=7) for daily\n",
    "'''\n",
    "data['arima_prev'] = None # 1 step arima\n",
    "data['arima_current'] = None # 2nd step arima\n",
    "data['stl_trend_lag2'] = None\n",
    "data['stl_seasonal_lag2'] = None\n",
    "data['stl_resid_lag2'] = None\n",
    "train_until = value_daily.index[arima_init_steps]\n",
    "start_from = train_until\n",
    "stl_transf = STLTransformer(sp = 7, robust=True, return_components = True)\n",
    "\n",
    "for idx, date in enumerate(sorted(value_daily[(arima_init_steps+1):].index)):\n",
    "        date_ahead = date + timedelta(days=1)\n",
    "        date_before = date - timedelta(days=1)\n",
    "        print(f'Current day={date.date()} predicting day={date_ahead.date()} with last training date={train_until.date()}')\n",
    "        arima_daily = sm.tsa.arima.ARIMA(value_daily[:train_until], order=(2, 1, 1), trend=None).fit()\n",
    "        steps = arima_daily.forecast(steps = 2)\n",
    "\n",
    "        stl_df = STLTransformer(sp = 7, robust=True, return_components = True).fit_transform(value_daily[:train_until])\n",
    "\n",
    "        print(f'- STL lag2 trend={stl_df.loc[train_until].trend} seasonal={stl_df.loc[train_until].seasonal}')\n",
    "\n",
    "        if date_ahead <= value_daily.index[-1]:\n",
    "                print(f'-inserting arima forecasts, stl components, into {date_ahead.date()} trained on data until {train_until.date()}\\n')\n",
    "                data.loc[date_ahead, 'arima_prev'] = steps[0]\n",
    "                data.loc[date_ahead, 'arima_current'] = steps[1]\n",
    "\n",
    "                data.loc[date_ahead, 'stl_trend_lag2'] = stl_df.loc[train_until]['trend']\n",
    "                data.loc[date_ahead, 'stl_seasonal_lag2'] = stl_df.loc[train_until]['seasonal']\n",
    "                data.loc[date_ahead, 'stl_resid_lag2'] = stl_df.loc[train_until]['resid']\n",
    "\n",
    "                train_until = date\n",
    "        else:\n",
    "                print(f\"Last forward filled day at date={date.date()}\")"
   ]
  },
  {
   "cell_type": "code",
   "execution_count": 28,
   "id": "207cd518",
   "metadata": {
    "execution": {
     "iopub.execute_input": "2022-08-24T07:51:07.912314Z",
     "iopub.status.busy": "2022-08-24T07:51:07.911907Z",
     "iopub.status.idle": "2022-08-24T07:51:07.923172Z",
     "shell.execute_reply": "2022-08-24T07:51:07.922399Z"
    },
    "papermill": {
     "duration": 0.036893,
     "end_time": "2022-08-24T07:51:07.925702",
     "exception": false,
     "start_time": "2022-08-24T07:51:07.888809",
     "status": "completed"
    },
    "tags": []
   },
   "outputs": [],
   "source": [
    "'''\n",
    "NOTE: 2 step prediction\n",
    "data at start_from should have arima none\n",
    "data at start_from + 1 should have arima none as well \n",
    "'''\n",
    "assert data.loc[start_from].arima_current is None, \"Arima should be two step predicted\"\n",
    "assert data.loc[start_from + timedelta(days = 1)].arima_current is None, \"Arima should be two step predicted\"\n",
    "\n",
    "assert data.loc[start_from + timedelta(days = 2)].arima_current is not None, \"Arima should be calculated here\""
   ]
  },
  {
   "cell_type": "code",
   "execution_count": 29,
   "id": "4cd74435",
   "metadata": {
    "execution": {
     "iopub.execute_input": "2022-08-24T07:51:07.990245Z",
     "iopub.status.busy": "2022-08-24T07:51:07.989912Z",
     "iopub.status.idle": "2022-08-24T07:51:08.016638Z",
     "shell.execute_reply": "2022-08-24T07:51:08.015757Z"
    },
    "papermill": {
     "duration": 0.062636,
     "end_time": "2022-08-24T07:51:08.018514",
     "exception": false,
     "start_time": "2022-08-24T07:51:07.955878",
     "status": "completed"
    },
    "tags": []
   },
   "outputs": [],
   "source": [
    "'''\n",
    "Forward fill both arimas\n",
    "'''\n",
    "data.loc[:, ['arima_current', 'arima_prev']] = data[['arima_current', 'arima_prev']].ffill()"
   ]
  },
  {
   "cell_type": "code",
   "execution_count": 30,
   "id": "67153c28",
   "metadata": {
    "execution": {
     "iopub.execute_input": "2022-08-24T07:51:08.064033Z",
     "iopub.status.busy": "2022-08-24T07:51:08.063717Z",
     "iopub.status.idle": "2022-08-24T07:51:08.357924Z",
     "shell.execute_reply": "2022-08-24T07:51:08.357105Z"
    },
    "lines_to_next_cell": 0,
    "papermill": {
     "duration": 0.317612,
     "end_time": "2022-08-24T07:51:08.359447",
     "exception": false,
     "start_time": "2022-08-24T07:51:08.041835",
     "status": "completed"
    },
    "tags": []
   },
   "outputs": [
    {
     "name": "stdout",
     "output_type": "stream",
     "text": [
      "stl_trend_lag2       1324.521294\n",
      "stl_seasonal_lag2      22.634956\n",
      "stl_resid_lag2          0.000000\n",
      "Name: 2020-12-10 00:00:00, dtype: float64\n"
     ]
    }
   ],
   "source": [
    "'''\n",
    "Forward fill daily stl lagged vars\n",
    "\n",
    "'''\n",
    "data.loc[:, ['stl_trend_lag2', 'stl_seasonal_lag2', 'stl_resid_lag2']] = data[['stl_trend_lag2', 'stl_seasonal_lag2', 'stl_resid_lag2']].ffill()\n",
    "\n",
    "print(data[['stl_trend_lag2', 'stl_seasonal_lag2', 'stl_resid_lag2']].loc[start_from + timedelta(days=2)].head())"
   ]
  },
  {
   "cell_type": "code",
   "execution_count": 31,
   "id": "768f65b7",
   "metadata": {
    "execution": {
     "iopub.execute_input": "2022-08-24T07:51:08.394129Z",
     "iopub.status.busy": "2022-08-24T07:51:08.393875Z",
     "iopub.status.idle": "2022-08-24T07:51:08.415146Z",
     "shell.execute_reply": "2022-08-24T07:51:08.414402Z"
    },
    "lines_to_next_cell": 2,
    "papermill": {
     "duration": 0.040786,
     "end_time": "2022-08-24T07:51:08.416757",
     "exception": false,
     "start_time": "2022-08-24T07:51:08.375971",
     "status": "completed"
    },
    "tags": []
   },
   "outputs": [
    {
     "name": "stdout",
     "output_type": "stream",
     "text": [
      "Values arima_current and arima_prev should be empty\n",
      "                     arima_current  arima_prev\n",
      "Date_Time                                     \n",
      "2020-12-09 00:00:00            NaN         NaN\n",
      "2020-12-09 00:15:00            NaN         NaN\n",
      "2020-12-09 00:30:00            NaN         NaN\n",
      "2020-12-09 00:45:00            NaN         NaN\n",
      "2020-12-09 01:00:00            NaN         NaN\n",
      "...                            ...         ...\n",
      "2020-12-09 22:45:00            NaN         NaN\n",
      "2020-12-09 23:00:00            NaN         NaN\n",
      "2020-12-09 23:15:00            NaN         NaN\n",
      "2020-12-09 23:30:00            NaN         NaN\n",
      "2020-12-09 23:45:00            NaN         NaN\n",
      "\n",
      "[96 rows x 2 columns]\n",
      "Values arima_current and arima_prev should be forward filled\n",
      "                     arima_current   arima_prev\n",
      "Date_Time                                      \n",
      "2020-12-10 00:00:00    1279.833211  1214.209504\n",
      "2020-12-10 00:15:00    1279.833211  1214.209504\n",
      "2020-12-10 00:30:00    1279.833211  1214.209504\n",
      "2020-12-10 00:45:00    1279.833211  1214.209504\n",
      "2020-12-10 01:00:00    1279.833211  1214.209504\n",
      "...                            ...          ...\n",
      "2020-12-10 22:45:00    1279.833211  1214.209504\n",
      "2020-12-10 23:00:00    1279.833211  1214.209504\n",
      "2020-12-10 23:15:00    1279.833211  1214.209504\n",
      "2020-12-10 23:30:00    1279.833211  1214.209504\n",
      "2020-12-10 23:45:00    1279.833211  1214.209504\n",
      "\n",
      "[96 rows x 2 columns]\n",
      "STL values should start from 2020-12-10 00:00:00\n",
      "                     stl_trend_lag2  stl_seasonal_lag2  stl_resid_lag2\n",
      "Date_Time                                                             \n",
      "2020-12-10 00:00:00     1324.521294          22.634956             0.0\n",
      "2020-12-10 00:15:00     1324.521294          22.634956             0.0\n",
      "2020-12-10 00:30:00     1324.521294          22.634956             0.0\n",
      "2020-12-10 00:45:00     1324.521294          22.634956             0.0\n",
      "2020-12-10 01:00:00     1324.521294          22.634956             0.0\n",
      "...                             ...                ...             ...\n",
      "2020-12-10 22:45:00     1324.521294          22.634956             0.0\n",
      "2020-12-10 23:00:00     1324.521294          22.634956             0.0\n",
      "2020-12-10 23:15:00     1324.521294          22.634956             0.0\n",
      "2020-12-10 23:30:00     1324.521294          22.634956             0.0\n",
      "2020-12-10 23:45:00     1324.521294          22.634956             0.0\n",
      "\n",
      "[96 rows x 3 columns]\n",
      "                     stl_trend_lag2  stl_seasonal_lag2  stl_resid_lag2\n",
      "Date_Time                                                             \n",
      "2020-12-18 00:00:00     1530.766543        -311.297243      -17.781801\n",
      "2020-12-18 00:15:00     1530.766543        -311.297243      -17.781801\n",
      "2020-12-18 00:30:00     1530.766543        -311.297243      -17.781801\n",
      "2020-12-18 00:45:00     1530.766543        -311.297243      -17.781801\n",
      "2020-12-18 01:00:00     1530.766543        -311.297243      -17.781801\n",
      "...                             ...                ...             ...\n",
      "2020-12-18 22:45:00     1530.766543        -311.297243      -17.781801\n",
      "2020-12-18 23:00:00     1530.766543        -311.297243      -17.781801\n",
      "2020-12-18 23:15:00     1530.766543        -311.297243      -17.781801\n",
      "2020-12-18 23:30:00     1530.766543        -311.297243      -17.781801\n",
      "2020-12-18 23:45:00     1530.766543        -311.297243      -17.781801\n",
      "\n",
      "[96 rows x 3 columns]\n"
     ]
    }
   ],
   "source": [
    "'''\n",
    "Sanity checks\n",
    "'''\n",
    "\n",
    "print(\"Values arima_current and arima_prev should be empty\")\n",
    "print(data.loc[(start_from + timedelta(days = 1)).date().isoformat()][['arima_current', 'arima_prev']])\n",
    "\n",
    "print(\"Values arima_current and arima_prev should be forward filled\")\n",
    "print(data.loc[(start_from + timedelta(days = 2)).date().isoformat()][['arima_current', 'arima_prev']])\n",
    "\n",
    "print(f\"STL values should start from {start_from + timedelta(days=2)}\")\n",
    "print(data[['stl_trend_lag2', 'stl_seasonal_lag2', 'stl_resid_lag2']].loc[(start_from + timedelta(days=2)).date().isoformat()])\n",
    "print(data[['stl_trend_lag2', 'stl_seasonal_lag2', 'stl_resid_lag2']].loc[(start_from + timedelta(days=10)).date().isoformat()])"
   ]
  },
  {
   "cell_type": "code",
   "execution_count": 32,
   "id": "70f1d10b",
   "metadata": {
    "execution": {
     "iopub.execute_input": "2022-08-24T07:51:08.451050Z",
     "iopub.status.busy": "2022-08-24T07:51:08.450779Z",
     "iopub.status.idle": "2022-08-24T07:51:09.201735Z",
     "shell.execute_reply": "2022-08-24T07:51:09.201031Z"
    },
    "papermill": {
     "duration": 0.769478,
     "end_time": "2022-08-24T07:51:09.203105",
     "exception": false,
     "start_time": "2022-08-24T07:51:08.433627",
     "status": "completed"
    },
    "tags": []
   },
   "outputs": [
    {
     "data": {
      "image/png": "[encoded data removed]",
      "text/plain": [
       "<Figure size 1008x432 with 3 Axes>"
      ]
     },
     "metadata": {
      "needs_background": "light"
     },
     "output_type": "display_data"
    }
   ],
   "source": [
    "'''\n",
    "True daily plot\n",
    "'''\n",
    "tsplot(data_daily.Value.dropna(), label = \"True daily\", filepath=plots_path / 'daily.png')"
   ]
  },
  {
   "cell_type": "code",
   "execution_count": 33,
   "id": "2e46fb3a",
   "metadata": {
    "execution": {
     "iopub.execute_input": "2022-08-24T07:51:09.235511Z",
     "iopub.status.busy": "2022-08-24T07:51:09.235276Z",
     "iopub.status.idle": "2022-08-24T07:51:15.579260Z",
     "shell.execute_reply": "2022-08-24T07:51:15.578568Z"
    },
    "papermill": {
     "duration": 6.361671,
     "end_time": "2022-08-24T07:51:15.580769",
     "exception": false,
     "start_time": "2022-08-24T07:51:09.219098",
     "status": "completed"
    },
    "tags": []
   },
   "outputs": [
    {
     "data": {
      "image/png": "[encoded data removed]",
      "text/plain": [
       "<Figure size 1008x216 with 1 Axes>"
      ]
     },
     "metadata": {
      "needs_background": "light"
     },
     "output_type": "display_data"
    },
    {
     "data": {
      "image/png": "[encoded data removed]",
      "text/plain": [
       "<Figure size 1008x216 with 1 Axes>"
      ]
     },
     "metadata": {
      "needs_background": "light"
     },
     "output_type": "display_data"
    },
    {
     "data": {
      "image/png": "[encoded data removed]",
      "text/plain": [
       "<Figure size 1008x216 with 1 Axes>"
      ]
     },
     "metadata": {
      "needs_background": "light"
     },
     "output_type": "display_data"
    },
    {
     "data": {
      "image/png": "[encoded data removed]",
      "text/plain": [
       "<Figure size 1008x216 with 1 Axes>"
      ]
     },
     "metadata": {
      "needs_background": "light"
     },
     "output_type": "display_data"
    },
    {
     "data": {
      "image/png": "[encoded data removed]",
      "text/plain": [
       "<Figure size 1008x216 with 1 Axes>"
      ]
     },
     "metadata": {
      "needs_background": "light"
     },
     "output_type": "display_data"
    }
   ],
   "source": [
    "'''\n",
    "Trend forecasts comparison\n",
    "- daily forecasts are forward filled to 15 min steps.\n",
    "'''\n",
    "data['Value_daily'] = value_daily\n",
    "data['Value_daily'] = data['Value_daily'].ffill()\n",
    "\n",
    "trend_eval_plot(data['Value'], data['Value_daily'], label=\"True daily  - trend forecast for 15 min steps\", filepath=plots_path / 'true_daily_detr.png')\n",
    "del data['Value_daily'] #NOTE IMPORTANT\n",
    "\n",
    "\n",
    "trend_eval_plot(data['Value'], data['arima_current'], label=\"Arima(daily, 2,1,1)  - trend forecast\", filepath=plots_path / 'arima_detr.png')\n",
    "trend_eval_plot(data['Value'], data['ets'], label=\"AutoETS(15min) - trend forecast\", filepath=plots_path / 'ets_detr.png')\n",
    "trend_eval_plot(data['Value'], data['exp'], label=\"ExponentialSmoothing(15min) - trend forecast\", filepath=plots_path / 'exp_detr.png')\n",
    "trend_eval_plot(data['Value'], data['stl'], label=\"STL(daily, period=7) - trend forecast\", filepath=plots_path / 'stl_detr.png')"
   ]
  },
  {
   "cell_type": "code",
   "execution_count": 34,
   "id": "ef5a1d25",
   "metadata": {
    "execution": {
     "iopub.execute_input": "2022-08-24T07:51:15.620014Z",
     "iopub.status.busy": "2022-08-24T07:51:15.619769Z",
     "iopub.status.idle": "2022-08-24T07:51:17.589384Z",
     "shell.execute_reply": "2022-08-24T07:51:17.588555Z"
    },
    "papermill": {
     "duration": 1.991394,
     "end_time": "2022-08-24T07:51:17.591093",
     "exception": false,
     "start_time": "2022-08-24T07:51:15.599699",
     "status": "completed"
    },
    "tags": []
   },
   "outputs": [
    {
     "data": {
      "image/png": "[encoded data removed]",
      "text/plain": [
       "<Figure size 1008x216 with 1 Axes>"
      ]
     },
     "metadata": {
      "needs_background": "light"
     },
     "output_type": "display_data"
    }
   ],
   "source": [
    "trend_eval_plot(data['Value'], data['arima_current'], label=\"Arima(daily, 2,1,1)  - trend forecast\", compare=True,\n",
    "                filepath=plots_path / 'arima_detr_comparison.png'\n",
    "                )"
   ]
  },
  {
   "cell_type": "code",
   "execution_count": 35,
   "id": "19be1dad",
   "metadata": {
    "execution": {
     "iopub.execute_input": "2022-08-24T07:51:17.636998Z",
     "iopub.status.busy": "2022-08-24T07:51:17.636731Z",
     "iopub.status.idle": "2022-08-24T07:52:08.163505Z",
     "shell.execute_reply": "2022-08-24T07:52:08.162547Z"
    },
    "papermill": {
     "duration": 50.552428,
     "end_time": "2022-08-24T07:52:08.165789",
     "exception": false,
     "start_time": "2022-08-24T07:51:17.613361",
     "status": "completed"
    },
    "tags": []
   },
   "outputs": [],
   "source": [
    "data.to_csv(product['data'])"
   ]
  }
 ],
 "metadata": {
  "jupytext": {
   "text_representation": {
    "extension": ".py",
    "format_name": "percent",
    "format_version": "1.3",
    "jupytext_version": "1.14.0"
   }
  },
  "kernelspec": {
   "display_name": "Python 3 (ipykernel)",
   "language": "python",
   "name": "python3"
  },
  "language_info": {
   "codemirror_mode": {
    "name": "ipython",
    "version": 3
   },
   "file_extension": ".py",
   "mimetype": "text/x-python",
   "name": "python",
   "nbconvert_exporter": "python",
   "pygments_lexer": "ipython3",
   "version": "3.10.5"
  },
  "papermill": {
   "duration": 859.874621,
   "end_time": "2022-08-24T07:52:08.614017",
   "exception": null,
   "input_path": "/tmp/tmpp03bqmd9.ipynb",
   "output_path": "/home/m/repo/hydro-power-prediction/reports/feature_manual.ipynb",
   "parameters": {
    "arima_init_steps": 7,
    "n_lags": 7,
    "plots_path": "/home/m/repo/hydro-power-prediction/plots",
    "product": {
     "data": "/home/m/repo/hydro-power-prediction/products/data/feature_manual.csv",
     "nb": "/home/m/repo/hydro-power-prediction/reports/feature_manual.ipynb"
    },
    "random_seed": 1,
    "upstream": {
     "run-tests": {
      "data": "/home/m/repo/hydro-power-prediction/products/data/data_raw_tested.csv",
      "nb": "/home/m/repo/hydro-power-prediction/reports/run_tests.ipynb"
     }
    },
    "valid_from": "2021-11-01"
   },
   "start_time": "2022-08-24T07:37:48.739396"
  }
 },
 "nbformat": 4,
 "nbformat_minor": 5
}