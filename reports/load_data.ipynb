{
 "cells": [
  {
   "cell_type": "code",
   "execution_count": 1,
   "id": "12ee7a84",
   "metadata": {
    "execution": {
     "iopub.execute_input": "2022-08-11T20:39:09.441631Z",
     "iopub.status.busy": "2022-08-11T20:39:09.440821Z",
     "iopub.status.idle": "2022-08-11T20:39:09.461744Z",
     "shell.execute_reply": "2022-08-11T20:39:09.459607Z"
    },
    "lines_to_next_cell": 0,
    "papermill": {
     "duration": 0.031915,
     "end_time": "2022-08-11T20:39:09.466395",
     "exception": false,
     "start_time": "2022-08-11T20:39:09.434480",
     "status": "completed"
    },
    "tags": [
     "parameters"
    ]
   },
   "outputs": [],
   "source": [
    "# If this task has dependencies, declare them in the YAML spec and leave this\n",
    "# as None\n",
    "upstream = None\n",
    "# This is a placeholder, leave it as None\n",
    "product = None\n",
    "random_seed = None\n",
    "valid_from = None\n",
    "file_path = None"
   ]
  },
  {
   "cell_type": "code",
   "execution_count": 2,
   "id": "be527c7a",
   "metadata": {
    "execution": {
     "iopub.execute_input": "2022-08-11T20:39:09.476969Z",
     "iopub.status.busy": "2022-08-11T20:39:09.476311Z",
     "iopub.status.idle": "2022-08-11T20:39:09.486101Z",
     "shell.execute_reply": "2022-08-11T20:39:09.483984Z"
    },
    "papermill": {
     "duration": 0.02151,
     "end_time": "2022-08-11T20:39:09.492150",
     "exception": false,
     "start_time": "2022-08-11T20:39:09.470640",
     "status": "completed"
    },
    "tags": [
     "injected-parameters"
    ]
   },
   "outputs": [],
   "source": [
    "# Parameters\n",
    "file_path = \"/home/m/repo/hydro-power-prediction/data/data_mve_production_forecast_test.csv\"\n",
    "random_seed = 1\n",
    "valid_from = \"2021-11-01\"\n",
    "product = {\"nb\": \"/home/m/repo/hydro-power-prediction/reports/load_data.ipynb\", \"data\": \"/home/m/repo/hydro-power-prediction/products/data/data_raw.csv\"}\n"
   ]
  },
  {
   "cell_type": "code",
   "execution_count": 3,
   "id": "d76e4810",
   "metadata": {
    "execution": {
     "iopub.execute_input": "2022-08-11T20:39:09.504065Z",
     "iopub.status.busy": "2022-08-11T20:39:09.503609Z",
     "iopub.status.idle": "2022-08-11T20:39:10.895223Z",
     "shell.execute_reply": "2022-08-11T20:39:10.894639Z"
    },
    "papermill": {
     "duration": 1.398789,
     "end_time": "2022-08-11T20:39:10.896525",
     "exception": false,
     "start_time": "2022-08-11T20:39:09.497736",
     "status": "completed"
    },
    "tags": []
   },
   "outputs": [],
   "source": [
    "from hydro_timeseries.util import load_timeseries_csv"
   ]
  },
  {
   "cell_type": "code",
   "execution_count": 4,
   "id": "7258d846",
   "metadata": {
    "execution": {
     "iopub.execute_input": "2022-08-11T20:39:10.899465Z",
     "iopub.status.busy": "2022-08-11T20:39:10.899230Z",
     "iopub.status.idle": "2022-08-11T20:39:11.798795Z",
     "shell.execute_reply": "2022-08-11T20:39:11.798207Z"
    },
    "papermill": {
     "duration": 0.902586,
     "end_time": "2022-08-11T20:39:11.800115",
     "exception": false,
     "start_time": "2022-08-11T20:39:10.897529",
     "status": "completed"
    },
    "tags": []
   },
   "outputs": [],
   "source": [
    "'''\n",
    "Load all data into the pipeline\n",
    "'''\n",
    "data = load_timeseries_csv(file_path)\n",
    "# data = pd.read_csv(file_path, parse_dates=['Date_Time', 'Date'], index_col='Date_Time')\n",
    "data.drop(columns=['Date'], inplace = True)\n",
    "\n",
    "data.to_csv(product['data'])"
   ]
  }
 ],
 "metadata": {
  "jupytext": {
   "notebook_metadata_filter": "ploomber",
   "text_representation": {
    "extension": ".py",
    "format_name": "percent",
    "format_version": "1.3",
    "jupytext_version": "1.14.0"
   }
  },
  "kernelspec": {
   "display_name": "Python 3 (ipykernel)",
   "language": "python",
   "name": "python3"
  },
  "language_info": {
   "codemirror_mode": {
    "name": "ipython",
    "version": 3
   },
   "file_extension": ".py",
   "mimetype": "text/x-python",
   "name": "python",
   "nbconvert_exporter": "python",
   "pygments_lexer": "ipython3",
   "version": "3.10.5"
  },
  "papermill": {
   "duration": 3.46585,
   "end_time": "2022-08-11T20:39:12.117399",
   "exception": null,
   "input_path": "/tmp/tmplsd2229i.ipynb",
   "output_path": "/home/m/repo/hydro-power-prediction/reports/load_data.ipynb",
   "parameters": {
    "file_path": "/home/m/repo/hydro-power-prediction/data/data_mve_production_forecast_test.csv",
    "product": {
     "data": "/home/m/repo/hydro-power-prediction/products/data/data_raw.csv",
     "nb": "/home/m/repo/hydro-power-prediction/reports/load_data.ipynb"
    },
    "random_seed": 1,
    "valid_from": "2021-11-01"
   },
   "start_time": "2022-08-11T20:39:08.651549"
  },
  "ploomber": {
   "injected_manually": true
  }
 },
 "nbformat": 4,
 "nbformat_minor": 5
}