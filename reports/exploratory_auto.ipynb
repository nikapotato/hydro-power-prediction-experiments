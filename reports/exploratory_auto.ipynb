{
 "cells": [
  {
   "cell_type": "code",
   "execution_count": 1,
   "id": "352d23db",
   "metadata": {
    "execution": {
     "iopub.execute_input": "2022-08-24T07:56:30.893494Z",
     "iopub.status.busy": "2022-08-24T07:56:30.893246Z",
     "iopub.status.idle": "2022-08-24T07:56:30.896574Z",
     "shell.execute_reply": "2022-08-24T07:56:30.896061Z"
    },
    "lines_to_next_cell": 2,
    "papermill": {
     "duration": 0.009965,
     "end_time": "2022-08-24T07:56:30.897752",
     "exception": false,
     "start_time": "2022-08-24T07:56:30.887787",
     "status": "completed"
    },
    "tags": []
   },
   "outputs": [],
   "source": [
    "# Add description here\n",
    "#\n",
    "# *Note:* You can open this file as a notebook (JupyterLab: right-click on it in the side bar -> Open With -> Notebook)"
   ]
  },
  {
   "cell_type": "code",
   "execution_count": 2,
   "id": "cc169eb9",
   "metadata": {
    "execution": {
     "iopub.execute_input": "2022-08-24T07:56:30.901851Z",
     "iopub.status.busy": "2022-08-24T07:56:30.901680Z",
     "iopub.status.idle": "2022-08-24T07:56:30.904108Z",
     "shell.execute_reply": "2022-08-24T07:56:30.903595Z"
    },
    "papermill": {
     "duration": 0.005833,
     "end_time": "2022-08-24T07:56:30.905288",
     "exception": false,
     "start_time": "2022-08-24T07:56:30.899455",
     "status": "completed"
    },
    "tags": []
   },
   "outputs": [],
   "source": [
    "# Uncomment the next two lines to enable auto reloading for imported modules\n",
    "# %load_ext autoreload\n",
    "# %autoreload 2\n",
    "# For more info, see:\n",
    "# https://docs.ploomber.io/en/latest/user-guide/faq_index.html#auto-reloading-code-in-jupyter"
   ]
  },
  {
   "cell_type": "code",
   "execution_count": 3,
   "id": "d9d0f160",
   "metadata": {
    "execution": {
     "iopub.execute_input": "2022-08-24T07:56:30.909522Z",
     "iopub.status.busy": "2022-08-24T07:56:30.909348Z",
     "iopub.status.idle": "2022-08-24T07:56:32.588505Z",
     "shell.execute_reply": "2022-08-24T07:56:32.587902Z"
    },
    "lines_to_next_cell": 1,
    "papermill": {
     "duration": 1.683087,
     "end_time": "2022-08-24T07:56:32.590102",
     "exception": false,
     "start_time": "2022-08-24T07:56:30.907015",
     "status": "completed"
    },
    "tags": [
     "parameters"
    ]
   },
   "outputs": [],
   "source": [
    "# If this task has dependencies, declare them in the YAML spec and leave this\n",
    "# as None\n",
    "import re\n",
    "from pathlib import Path\n",
    "from pprint import pprint\n",
    "\n",
    "import pandas as pd\n",
    "import numpy as np\n",
    "from lightgbm import LGBMRegressor\n",
    "from matplotlib import pyplot as plt\n",
    "from sklearn.decomposition import PCA\n",
    "from sklearn.ensemble import ExtraTreesRegressor\n",
    "from sklearn.feature_selection import SelectFromModel, mutual_info_regression\n",
    "from sklearn.linear_model import RidgeCV, LassoCV, LinearRegression, Lasso, BayesianRidge, ARDRegression\n",
    "from sklearn.neural_network import MLPRegressor\n",
    "from sklearn.pipeline import Pipeline\n",
    "from sklearn.preprocessing import StandardScaler\n",
    "from sklearn.svm import LinearSVR\n",
    "from sklearn.tree import DecisionTreeRegressor\n",
    "from sktime.forecasting.model_selection import ExpandingWindowSplitter\n",
    "\n",
    "from hydro_timeseries.plotting import plot_fea_importance, get_windows\n",
    "from hydro_timeseries.util import load_timeseries_csv, smape, rmse, IdentityTransformer, select_kbest_features, \\\n",
    "    get_sample_weights\n",
    "from hydro_timeseries.variables import Variables\n",
    "import seaborn as sns\n",
    "from collections import defaultdict\n",
    "\n",
    "\n",
    "upstream = None\n",
    "\n",
    "# This is a placeholder, leave it as None\n",
    "product = None\n",
    "\n",
    "def read_auto_features(path: str) -> pd.DataFrame:\n",
    "    auto_features = pd.read_csv(path, parse_dates=['Unnamed: 0'], index_col='Unnamed: 0')\n",
    "    auto_features.index = pd.to_datetime(auto_features.index)\n",
    "    auto_features.index = auto_features.index.tz_localize(tz=None)\n",
    "    return auto_features"
   ]
  },
  {
   "cell_type": "code",
   "execution_count": 4,
   "id": "96af38bd",
   "metadata": {
    "execution": {
     "iopub.execute_input": "2022-08-24T07:56:32.594921Z",
     "iopub.status.busy": "2022-08-24T07:56:32.594737Z",
     "iopub.status.idle": "2022-08-24T07:56:32.598199Z",
     "shell.execute_reply": "2022-08-24T07:56:32.597800Z"
    },
    "papermill": {
     "duration": 0.007216,
     "end_time": "2022-08-24T07:56:32.599303",
     "exception": false,
     "start_time": "2022-08-24T07:56:32.592087",
     "status": "completed"
    },
    "tags": [
     "injected-parameters"
    ]
   },
   "outputs": [],
   "source": [
    "# Parameters\n",
    "random_seed = 1\n",
    "valid_from = \"2021-11-01\"\n",
    "auto_meteo_features = \"../features_minute.csv\"\n",
    "auto_value_features = \"../features_daily_value.csv\"\n",
    "auto_meteo_daily_features = \"../features_daily.csv\"\n",
    "daily_discount_rate = 0.005\n",
    "plots_path = \"../plots\"\n",
    "upstream = {\"run-tests\": {\"nb\": \"../run_tests.ipynb\", \"data\": \"../data/feature_manual.csv\"}}\n",
    "product = {\"nb\": \"../exploratory_auto.ipynb\"}\n"
   ]
  },
  {
   "cell_type": "code",
   "execution_count": 5,
   "id": "1473e827",
   "metadata": {
    "execution": {
     "iopub.execute_input": "2022-08-24T07:56:32.605032Z",
     "iopub.status.busy": "2022-08-24T07:56:32.604839Z",
     "iopub.status.idle": "2022-08-24T07:56:38.009644Z",
     "shell.execute_reply": "2022-08-24T07:56:38.009066Z"
    },
    "lines_to_next_cell": 0,
    "papermill": {
     "duration": 5.409472,
     "end_time": "2022-08-24T07:56:38.010905",
     "exception": false,
     "start_time": "2022-08-24T07:56:32.601433",
     "status": "completed"
    },
    "tags": []
   },
   "outputs": [],
   "source": [
    "'''\n",
    "Add detrended target\n",
    "- include daily mean of the detrended target lagged by two days. \n",
    "detrenders = ['arima_current', 'ets', 'exp', 'stl']\n",
    "'''\n",
    "# max_selected_features = 50\n",
    "detrender = 'arima_current'\n",
    "target_new = 'value_detr'\n",
    "features = load_timeseries_csv(upstream['feature-manual']['data'])\n",
    "value_detr = (features['Value'] - features[detrender]).dropna()\n",
    "features = features.assign(value_detr = value_detr)\n",
    "\n",
    "features['value_detr_daily_lag2'] = features[target_new].resample('D').mean().dropna().shift(2)\n",
    "features['value_detr_daily_lag2'] = features['value_detr_daily_lag2'].ffill()\n",
    "\n",
    "plots_path = Path(plots_path)"
   ]
  },
  {
   "cell_type": "code",
   "execution_count": 6,
   "id": "5f23b15b",
   "metadata": {
    "execution": {
     "iopub.execute_input": "2022-08-24T07:56:38.041186Z",
     "iopub.status.busy": "2022-08-24T07:56:38.040995Z",
     "iopub.status.idle": "2022-08-24T07:57:02.126240Z",
     "shell.execute_reply": "2022-08-24T07:57:02.125582Z"
    },
    "lines_to_next_cell": 0,
    "papermill": {
     "duration": 24.114784,
     "end_time": "2022-08-24T07:57:02.127503",
     "exception": false,
     "start_time": "2022-08-24T07:56:38.012719",
     "status": "completed"
    },
    "tags": []
   },
   "outputs": [],
   "source": [
    "features_meteo = read_auto_features(auto_meteo_features)\n",
    "# features_meteo = pd.read_csv(auto_meteo_features, parse_dates=['Unnamed: 0'], index_col='Unnamed: 0')\n",
    "# features_meteo.index = pd.to_datetime(features_meteo.index)\n",
    "# features_meteo.index = features_meteo.index.tz_localize(tz = None)\n",
    "\n",
    "\n",
    "soil_moisture = features_meteo.filter(regex='.*moisture.*')\n",
    "precip = features_meteo.filter(regex='.*precip.*')\n",
    "pressure = features_meteo.filter(regex='.*pressure.*')\n",
    "snow = features_meteo.filter(regex='.*snow.*')\n",
    "transpiration = features_meteo.filter(regex='.*transpiration.*')\n",
    "del features_meteo\n",
    "\n",
    "soil_moisture_cols = soil_moisture.columns.to_list()\n",
    "precip_cols = precip.columns.to_list()\n",
    "pressure_cols = pressure.columns.to_list()\n",
    "snow_cols = snow.columns.to_list()\n",
    "transpiration_cols = transpiration.columns.to_list()"
   ]
  },
  {
   "cell_type": "code",
   "execution_count": 7,
   "id": "90da4d62",
   "metadata": {
    "execution": {
     "iopub.execute_input": "2022-08-24T07:57:02.132280Z",
     "iopub.status.busy": "2022-08-24T07:57:02.132092Z",
     "iopub.status.idle": "2022-08-24T07:57:03.269078Z",
     "shell.execute_reply": "2022-08-24T07:57:03.268451Z"
    },
    "papermill": {
     "duration": 1.140944,
     "end_time": "2022-08-24T07:57:03.270472",
     "exception": false,
     "start_time": "2022-08-24T07:57:02.129528",
     "status": "completed"
    },
    "tags": []
   },
   "outputs": [],
   "source": [
    "features_value_auto = read_auto_features(auto_value_features)\n",
    "value_cols = features_value_auto.columns.to_list()"
   ]
  },
  {
   "cell_type": "code",
   "execution_count": 8,
   "id": "2e103770",
   "metadata": {
    "execution": {
     "iopub.execute_input": "2022-08-24T07:57:03.275415Z",
     "iopub.status.busy": "2022-08-24T07:57:03.275091Z",
     "iopub.status.idle": "2022-08-24T07:57:11.551684Z",
     "shell.execute_reply": "2022-08-24T07:57:11.551056Z"
    },
    "lines_to_next_cell": 0,
    "papermill": {
     "duration": 8.308821,
     "end_time": "2022-08-24T07:57:11.581261",
     "exception": false,
     "start_time": "2022-08-24T07:57:03.272440",
     "status": "completed"
    },
    "tags": []
   },
   "outputs": [],
   "source": [
    "features_concat = pd.concat([features, features_value_auto, soil_moisture, precip, pressure, snow, transpiration], axis=1)\n",
    "features_new = features_concat[~features_concat['value_detr_daily_lag2'].isna() * ~features_concat['value_detr'].isna()]\n",
    "features_new = features_new.dropna(axis = 1)\n",
    "# features_concat = features_concat.loc[~(features_concat['Value'] == 0), :]\n",
    "\n",
    "del features_value_auto"
   ]
  },
  {
   "cell_type": "code",
   "execution_count": 9,
   "id": "6cd94cb7",
   "metadata": {
    "execution": {
     "iopub.execute_input": "2022-08-24T07:57:11.586932Z",
     "iopub.status.busy": "2022-08-24T07:57:11.586670Z",
     "iopub.status.idle": "2022-08-24T07:57:11.590714Z",
     "shell.execute_reply": "2022-08-24T07:57:11.590280Z"
    },
    "papermill": {
     "duration": 0.008437,
     "end_time": "2022-08-24T07:57:11.592230",
     "exception": false,
     "start_time": "2022-08-24T07:57:11.583793",
     "status": "completed"
    },
    "tags": []
   },
   "outputs": [],
   "source": [
    "'''\n",
    "feature_cols = value_cols + \\\n",
    "               snow_cols + \\\n",
    "               transpiration_cols + \\\n",
    "               pressure_cols + \\\n",
    "               precip_cols + \\\n",
    "               soil_moisture_cols + \\\n",
    "               Variables.cyclical_sin + \\\n",
    "               Variables.stl + \\\n",
    "               Variables.lagged + \\\n",
    "               Variables.meteo_ewms_hourly + \\\n",
    "               ['value_detr_daily_lag2']\n",
    "\n",
    "'''\n",
    "\n",
    "feature_cols = value_cols + \\\n",
    "               snow_cols + \\\n",
    "               transpiration_cols + \\\n",
    "               pressure_cols + \\\n",
    "               precip_cols + \\\n",
    "               soil_moisture_cols + \\\n",
    "               Variables.cyclical_sin + \\\n",
    "               Variables.stl + \\\n",
    "               Variables.meteo_ewms_hourly + \\\n",
    "               Variables.meteo_i + \\\n",
    "               ['value_detr_daily_lag2']"
   ]
  },
  {
   "cell_type": "code",
   "execution_count": 10,
   "id": "897947e6",
   "metadata": {
    "execution": {
     "iopub.execute_input": "2022-08-24T07:57:11.599296Z",
     "iopub.status.busy": "2022-08-24T07:57:11.599043Z",
     "iopub.status.idle": "2022-08-24T07:57:11.602030Z",
     "shell.execute_reply": "2022-08-24T07:57:11.601537Z"
    },
    "papermill": {
     "duration": 0.007799,
     "end_time": "2022-08-24T07:57:11.603561",
     "exception": false,
     "start_time": "2022-08-24T07:57:11.595762",
     "status": "completed"
    },
    "tags": []
   },
   "outputs": [],
   "source": [
    "features_train = features_new.iloc[:int(len(features_new) * 0.7)]"
   ]
  },
  {
   "cell_type": "code",
   "execution_count": 11,
   "id": "f6fb8f62",
   "metadata": {
    "execution": {
     "iopub.execute_input": "2022-08-24T07:57:11.611962Z",
     "iopub.status.busy": "2022-08-24T07:57:11.611778Z",
     "iopub.status.idle": "2022-08-24T07:57:33.339714Z",
     "shell.execute_reply": "2022-08-24T07:57:33.339131Z"
    },
    "papermill": {
     "duration": 21.734397,
     "end_time": "2022-08-24T07:57:33.341658",
     "exception": false,
     "start_time": "2022-08-24T07:57:11.607261",
     "status": "completed"
    },
    "tags": []
   },
   "outputs": [
    {
     "name": "stdout",
     "output_type": "stream",
     "text": [
      "['val_sh2__agg_linear_trend__attr_rvalue__chunk_len_5__f_agg_min',\n",
      " 'val_sh2__linear_trend__attr_pvalue',\n",
      " 'val_sh2__agg_linear_trend__attr_slope__chunk_len_5__f_agg_min',\n",
      " 'snow_mean__spkt_welch_density__coeff_2',\n",
      " 'snow_mean__variance',\n",
      " 'snow_mean__agg_linear_trend__attr_stderr__chunk_len_50__f_agg_var',\n",
      " 'snow_mean__large_standard_deviation__r_04',\n",
      " 'snow_mean__has_duplicate',\n",
      " 'evapotranspiration_mean__quantile__q_01',\n",
      " 'evapotranspiration_mean__sum_of_reoccurring_data_points',\n",
      " 'evapotranspiration_mean__variation_coefficient',\n",
      " 'evapotranspiration_mean__approximate_entropy__m_2__r_01',\n",
      " 'evapotranspiration_mean__spkt_welch_density__coeff_8',\n",
      " 'evapotranspiration_mean__permutation_entropy__dimension_6__tau_1',\n",
      " 'evapotranspiration_mean__fft_coefficient__attr_real__coeff_18',\n",
      " 'evapotranspiration_mean__variance',\n",
      " 'evapotranspiration_mean__change_quantiles__f_agg_mean__isabs_False__qh_06__ql_02',\n",
      " 'evapotranspiration_mean__fft_coefficient__attr_real__coeff_19',\n",
      " 'pressure_mean__change_quantiles__f_agg_mean__isabs_True__qh_10__ql_08',\n",
      " 'pressure_mean__has_duplicate_min',\n",
      " 'pressure_mean__benford_correlation',\n",
      " 'pressure_mean__ar_coefficient__coeff_1__k_10',\n",
      " 'precip_mean__ratio_beyond_r_sigma__r_25',\n",
      " 'precip_mean__ratio_beyond_r_sigma__r_5',\n",
      " 'precip_mean__quantile__q_04',\n",
      " 'precip_mean__change_quantiles__f_agg_var__isabs_True__qh_04__ql_02',\n",
      " 'precip_mean__spkt_welch_density__coeff_5',\n",
      " 'precip_mean__median',\n",
      " 'precip_mean__agg_linear_trend__attr_slope__chunk_len_50__f_agg_max',\n",
      " 'soil_moisture_mean__change_quantiles__f_agg_var__isabs_False__qh_08__ql_02',\n",
      " 'soil_moisture_mean__ar_coefficient__coeff_3__k_10',\n",
      " 'soil_moisture_mean__time_reversal_asymmetry_statistic__lag_1',\n",
      " 'soil_moisture_mean__permutation_entropy__dimension_3__tau_1',\n",
      " 'soil_moisture_mean__energy_ratio_by_chunks__num_segments_10__segment_focus_6',\n",
      " 'soil_moisture_mean__energy_ratio_by_chunks__num_segments_10__segment_focus_2',\n",
      " 'soil_moisture_mean__ar_coefficient__coeff_6__k_10',\n",
      " 'stl_seasonal_lag2',\n",
      " 'evapotranspiration_40_hourly_ewm16',\n",
      " 'soil_moisture_index_104_hourly_ewm192',\n",
      " 'pressure_hpa_20_hourly_ewm192',\n",
      " 'pressure_hpa_20_hourly_ewm768',\n",
      " 'soil_moisture_index_81',\n",
      " 'temperature_20',\n",
      " 'pressure_hpa_20']\n"
     ]
    },
    {
     "name": "stderr",
     "output_type": "stream",
     "text": [
      "/home/m/miniconda3/envs/hydro-power-prediction/lib/python3.10/site-packages/sklearn/base.py:443: UserWarning: X has feature names, but SelectFromModel was fitted without feature names\n",
      "  warnings.warn(\n"
     ]
    }
   ],
   "source": [
    "\n",
    "# initial = Pipeline([\n",
    "#          ('scaler', StandardScaler()),\n",
    "#          ('selector', SelectFromModel(Lasso(alpha=0.1, max_iter=10000, tol=1e-3))),\n",
    "#          ('regressor', BayesianRidge(n_iter=10000))\n",
    "# ])\n",
    "\n",
    "var_selector_model = Lasso(normalize=True, alpha=0.2, tol=1e-4)\n",
    "\n",
    "\n",
    "weights = get_sample_weights(features_train, daily_discount_rate)\n",
    "\n",
    "var_selector_model.fit(features_train[feature_cols], features_train[target_new])\n",
    "var_selector_model = var_selector_model.fit(features_train[feature_cols], features_train[target_new],sample_weight=weights)\n",
    "var_selector = SelectFromModel(var_selector_model, prefit=True)\n",
    "features_train_selected = var_selector.transform(features_train[feature_cols])\n",
    "\n",
    "selected_vars_ = features_train[feature_cols].columns[var_selector.get_support()].to_list()\n",
    "pprint(selected_vars_)\n",
    "\n",
    "\n",
    "# selected_vars = ['val_sh2__agg_linear_trend__attr_rvalue__chunk_len_5__f_agg_min',\n",
    "#  'evapotranspiration_mean__quantile__q_01',\n",
    "#  'evapotranspiration_mean__variation_coefficient',\n",
    "#  'evapotranspiration_mean__permutation_entropy__dimension_6__tau_1',\n",
    "#  'pressure_mean__benford_correlation',\n",
    "#  'precip_mean__quantile__q_04',\n",
    "#  'soil_moisture_index_104',\n",
    "#  'soil_moisture_index_134',\n",
    "#  'daily_mean_precip_104_lag1',\n",
    "#  'daily_mean_precip_104_lag2',\n",
    "# ]\n",
    "\n",
    "# ['val_sh2__agg_linear_trend__attr_rvalue__chunk_len_5__f_agg_min',\n",
    "#  'val_sh2__linear_trend__attr_pvalue',\n",
    "#  'snow_mean__spkt_welch_density__coeff_2',\n",
    "#  'evapotranspiration_mean__quantile__q_01',\n",
    "#  'evapotranspiration_mean__variation_coefficient',\n",
    "#  'evapotranspiration_mean__permutation_entropy__dimension_6__tau_1',\n",
    "#  'pressure_mean__benford_correlation',\n",
    "#  'precip_mean__quantile__q_04',\n",
    "#  'precip_mean__change_quantiles__f_agg_var__isabs_True__qh_04__ql_02',\n",
    "#  'soil_moisture_mean__change_quantiles__f_agg_var__isabs_False__qh_08__ql_02',\n",
    "#  'soil_moisture_mean__ar_coefficient__coeff_6__k_10']\n",
    "\n"
   ]
  },
  {
   "cell_type": "code",
   "execution_count": 12,
   "id": "cf40ddd3",
   "metadata": {
    "execution": {
     "iopub.execute_input": "2022-08-24T07:57:33.346821Z",
     "iopub.status.busy": "2022-08-24T07:57:33.346650Z",
     "iopub.status.idle": "2022-08-24T08:05:07.199572Z",
     "shell.execute_reply": "2022-08-24T08:05:07.198585Z"
    },
    "lines_to_next_cell": 2,
    "papermill": {
     "duration": 453.858399,
     "end_time": "2022-08-24T08:05:07.202522",
     "exception": false,
     "start_time": "2022-08-24T07:57:33.344123",
     "status": "completed"
    },
    "tags": []
   },
   "outputs": [
    {
     "name": "stderr",
     "output_type": "stream",
     "text": [
      "/home/m/miniconda3/envs/hydro-power-prediction/lib/python3.10/site-packages/sklearn/neural_network/_multilayer_perceptron.py:702: ConvergenceWarning: Stochastic Optimizer: Maximum iterations (200) reached and the optimization hasn't converged yet.\n",
      "  warnings.warn(\n"
     ]
    },
    {
     "name": "stderr",
     "output_type": "stream",
     "text": [
      "/home/m/miniconda3/envs/hydro-power-prediction/lib/python3.10/site-packages/sktime/performance_metrics/forecasting/_classes.py:422: UserWarning: y_pred and y_true do not have the same column index. This may indicate incorrect objects passed to the metric. Indices of y_true will be used for y_pred.\n",
      "  warn(\n",
      "/home/m/miniconda3/envs/hydro-power-prediction/lib/python3.10/site-packages/sktime/performance_metrics/forecasting/_classes.py:422: UserWarning: y_pred and y_true do not have the same column index. This may indicate incorrect objects passed to the metric. Indices of y_true will be used for y_pred.\n",
      "  warn(\n",
      "/home/m/miniconda3/envs/hydro-power-prediction/lib/python3.10/site-packages/sktime/performance_metrics/forecasting/_classes.py:422: UserWarning: y_pred and y_true do not have the same column index. This may indicate incorrect objects passed to the metric. Indices of y_true will be used for y_pred.\n",
      "  warn(\n"
     ]
    },
    {
     "name": "stderr",
     "output_type": "stream",
     "text": [
      "/home/m/miniconda3/envs/hydro-power-prediction/lib/python3.10/site-packages/sklearn/neural_network/_multilayer_perceptron.py:702: ConvergenceWarning: Stochastic Optimizer: Maximum iterations (200) reached and the optimization hasn't converged yet.\n",
      "  warnings.warn(\n"
     ]
    },
    {
     "name": "stderr",
     "output_type": "stream",
     "text": [
      "/home/m/miniconda3/envs/hydro-power-prediction/lib/python3.10/site-packages/sktime/performance_metrics/forecasting/_classes.py:422: UserWarning: y_pred and y_true do not have the same column index. This may indicate incorrect objects passed to the metric. Indices of y_true will be used for y_pred.\n",
      "  warn(\n",
      "/home/m/miniconda3/envs/hydro-power-prediction/lib/python3.10/site-packages/sktime/performance_metrics/forecasting/_classes.py:422: UserWarning: y_pred and y_true do not have the same column index. This may indicate incorrect objects passed to the metric. Indices of y_true will be used for y_pred.\n",
      "  warn(\n",
      "/home/m/miniconda3/envs/hydro-power-prediction/lib/python3.10/site-packages/sktime/performance_metrics/forecasting/_classes.py:422: UserWarning: y_pred and y_true do not have the same column index. This may indicate incorrect objects passed to the metric. Indices of y_true will be used for y_pred.\n",
      "  warn(\n"
     ]
    },
    {
     "name": "stderr",
     "output_type": "stream",
     "text": [
      "/home/m/miniconda3/envs/hydro-power-prediction/lib/python3.10/site-packages/sklearn/neural_network/_multilayer_perceptron.py:702: ConvergenceWarning: Stochastic Optimizer: Maximum iterations (200) reached and the optimization hasn't converged yet.\n",
      "  warnings.warn(\n"
     ]
    },
    {
     "name": "stderr",
     "output_type": "stream",
     "text": [
      "/home/m/miniconda3/envs/hydro-power-prediction/lib/python3.10/site-packages/sktime/performance_metrics/forecasting/_classes.py:422: UserWarning: y_pred and y_true do not have the same column index. This may indicate incorrect objects passed to the metric. Indices of y_true will be used for y_pred.\n",
      "  warn(\n",
      "/home/m/miniconda3/envs/hydro-power-prediction/lib/python3.10/site-packages/sktime/performance_metrics/forecasting/_classes.py:422: UserWarning: y_pred and y_true do not have the same column index. This may indicate incorrect objects passed to the metric. Indices of y_true will be used for y_pred.\n",
      "  warn(\n",
      "/home/m/miniconda3/envs/hydro-power-prediction/lib/python3.10/site-packages/sktime/performance_metrics/forecasting/_classes.py:422: UserWarning: y_pred and y_true do not have the same column index. This may indicate incorrect objects passed to the metric. Indices of y_true will be used for y_pred.\n",
      "  warn(\n"
     ]
    },
    {
     "name": "stderr",
     "output_type": "stream",
     "text": [
      "/home/m/miniconda3/envs/hydro-power-prediction/lib/python3.10/site-packages/sklearn/neural_network/_multilayer_perceptron.py:702: ConvergenceWarning: Stochastic Optimizer: Maximum iterations (200) reached and the optimization hasn't converged yet.\n",
      "  warnings.warn(\n"
     ]
    },
    {
     "name": "stderr",
     "output_type": "stream",
     "text": [
      "/home/m/miniconda3/envs/hydro-power-prediction/lib/python3.10/site-packages/sktime/performance_metrics/forecasting/_classes.py:422: UserWarning: y_pred and y_true do not have the same column index. This may indicate incorrect objects passed to the metric. Indices of y_true will be used for y_pred.\n",
      "  warn(\n",
      "/home/m/miniconda3/envs/hydro-power-prediction/lib/python3.10/site-packages/sktime/performance_metrics/forecasting/_classes.py:422: UserWarning: y_pred and y_true do not have the same column index. This may indicate incorrect objects passed to the metric. Indices of y_true will be used for y_pred.\n",
      "  warn(\n",
      "/home/m/miniconda3/envs/hydro-power-prediction/lib/python3.10/site-packages/sktime/performance_metrics/forecasting/_classes.py:422: UserWarning: y_pred and y_true do not have the same column index. This may indicate incorrect objects passed to the metric. Indices of y_true will be used for y_pred.\n",
      "  warn(\n"
     ]
    },
    {
     "name": "stderr",
     "output_type": "stream",
     "text": [
      "/home/m/miniconda3/envs/hydro-power-prediction/lib/python3.10/site-packages/sklearn/neural_network/_multilayer_perceptron.py:702: ConvergenceWarning: Stochastic Optimizer: Maximum iterations (200) reached and the optimization hasn't converged yet.\n",
      "  warnings.warn(\n"
     ]
    },
    {
     "name": "stderr",
     "output_type": "stream",
     "text": [
      "/home/m/miniconda3/envs/hydro-power-prediction/lib/python3.10/site-packages/sktime/performance_metrics/forecasting/_classes.py:422: UserWarning: y_pred and y_true do not have the same column index. This may indicate incorrect objects passed to the metric. Indices of y_true will be used for y_pred.\n",
      "  warn(\n",
      "/home/m/miniconda3/envs/hydro-power-prediction/lib/python3.10/site-packages/sktime/performance_metrics/forecasting/_classes.py:422: UserWarning: y_pred and y_true do not have the same column index. This may indicate incorrect objects passed to the metric. Indices of y_true will be used for y_pred.\n",
      "  warn(\n",
      "/home/m/miniconda3/envs/hydro-power-prediction/lib/python3.10/site-packages/sktime/performance_metrics/forecasting/_classes.py:422: UserWarning: y_pred and y_true do not have the same column index. This may indicate incorrect objects passed to the metric. Indices of y_true will be used for y_pred.\n",
      "  warn(\n"
     ]
    },
    {
     "name": "stderr",
     "output_type": "stream",
     "text": [
      "/home/m/miniconda3/envs/hydro-power-prediction/lib/python3.10/site-packages/sklearn/neural_network/_multilayer_perceptron.py:702: ConvergenceWarning: Stochastic Optimizer: Maximum iterations (200) reached and the optimization hasn't converged yet.\n",
      "  warnings.warn(\n"
     ]
    },
    {
     "name": "stderr",
     "output_type": "stream",
     "text": [
      "/home/m/miniconda3/envs/hydro-power-prediction/lib/python3.10/site-packages/sktime/performance_metrics/forecasting/_classes.py:422: UserWarning: y_pred and y_true do not have the same column index. This may indicate incorrect objects passed to the metric. Indices of y_true will be used for y_pred.\n",
      "  warn(\n",
      "/home/m/miniconda3/envs/hydro-power-prediction/lib/python3.10/site-packages/sktime/performance_metrics/forecasting/_classes.py:422: UserWarning: y_pred and y_true do not have the same column index. This may indicate incorrect objects passed to the metric. Indices of y_true will be used for y_pred.\n",
      "  warn(\n",
      "/home/m/miniconda3/envs/hydro-power-prediction/lib/python3.10/site-packages/sktime/performance_metrics/forecasting/_classes.py:422: UserWarning: y_pred and y_true do not have the same column index. This may indicate incorrect objects passed to the metric. Indices of y_true will be used for y_pred.\n",
      "  warn(\n"
     ]
    },
    {
     "name": "stderr",
     "output_type": "stream",
     "text": [
      "/home/m/miniconda3/envs/hydro-power-prediction/lib/python3.10/site-packages/sklearn/neural_network/_multilayer_perceptron.py:702: ConvergenceWarning: Stochastic Optimizer: Maximum iterations (200) reached and the optimization hasn't converged yet.\n",
      "  warnings.warn(\n"
     ]
    },
    {
     "name": "stderr",
     "output_type": "stream",
     "text": [
      "/home/m/miniconda3/envs/hydro-power-prediction/lib/python3.10/site-packages/sktime/performance_metrics/forecasting/_classes.py:422: UserWarning: y_pred and y_true do not have the same column index. This may indicate incorrect objects passed to the metric. Indices of y_true will be used for y_pred.\n",
      "  warn(\n",
      "/home/m/miniconda3/envs/hydro-power-prediction/lib/python3.10/site-packages/sktime/performance_metrics/forecasting/_classes.py:422: UserWarning: y_pred and y_true do not have the same column index. This may indicate incorrect objects passed to the metric. Indices of y_true will be used for y_pred.\n",
      "  warn(\n",
      "/home/m/miniconda3/envs/hydro-power-prediction/lib/python3.10/site-packages/sktime/performance_metrics/forecasting/_classes.py:422: UserWarning: y_pred and y_true do not have the same column index. This may indicate incorrect objects passed to the metric. Indices of y_true will be used for y_pred.\n",
      "  warn(\n"
     ]
    },
    {
     "name": "stderr",
     "output_type": "stream",
     "text": [
      "/home/m/miniconda3/envs/hydro-power-prediction/lib/python3.10/site-packages/sklearn/neural_network/_multilayer_perceptron.py:702: ConvergenceWarning: Stochastic Optimizer: Maximum iterations (200) reached and the optimization hasn't converged yet.\n",
      "  warnings.warn(\n"
     ]
    },
    {
     "name": "stderr",
     "output_type": "stream",
     "text": [
      "/home/m/miniconda3/envs/hydro-power-prediction/lib/python3.10/site-packages/sktime/performance_metrics/forecasting/_classes.py:422: UserWarning: y_pred and y_true do not have the same column index. This may indicate incorrect objects passed to the metric. Indices of y_true will be used for y_pred.\n",
      "  warn(\n",
      "/home/m/miniconda3/envs/hydro-power-prediction/lib/python3.10/site-packages/sktime/performance_metrics/forecasting/_classes.py:422: UserWarning: y_pred and y_true do not have the same column index. This may indicate incorrect objects passed to the metric. Indices of y_true will be used for y_pred.\n",
      "  warn(\n",
      "/home/m/miniconda3/envs/hydro-power-prediction/lib/python3.10/site-packages/sktime/performance_metrics/forecasting/_classes.py:422: UserWarning: y_pred and y_true do not have the same column index. This may indicate incorrect objects passed to the metric. Indices of y_true will be used for y_pred.\n",
      "  warn(\n"
     ]
    },
    {
     "name": "stderr",
     "output_type": "stream",
     "text": [
      "/home/m/miniconda3/envs/hydro-power-prediction/lib/python3.10/site-packages/sklearn/neural_network/_multilayer_perceptron.py:702: ConvergenceWarning: Stochastic Optimizer: Maximum iterations (200) reached and the optimization hasn't converged yet.\n",
      "  warnings.warn(\n"
     ]
    },
    {
     "name": "stderr",
     "output_type": "stream",
     "text": [
      "/home/m/miniconda3/envs/hydro-power-prediction/lib/python3.10/site-packages/sktime/performance_metrics/forecasting/_classes.py:422: UserWarning: y_pred and y_true do not have the same column index. This may indicate incorrect objects passed to the metric. Indices of y_true will be used for y_pred.\n",
      "  warn(\n",
      "/home/m/miniconda3/envs/hydro-power-prediction/lib/python3.10/site-packages/sktime/performance_metrics/forecasting/_classes.py:422: UserWarning: y_pred and y_true do not have the same column index. This may indicate incorrect objects passed to the metric. Indices of y_true will be used for y_pred.\n",
      "  warn(\n",
      "/home/m/miniconda3/envs/hydro-power-prediction/lib/python3.10/site-packages/sktime/performance_metrics/forecasting/_classes.py:422: UserWarning: y_pred and y_true do not have the same column index. This may indicate incorrect objects passed to the metric. Indices of y_true will be used for y_pred.\n",
      "  warn(\n"
     ]
    },
    {
     "name": "stderr",
     "output_type": "stream",
     "text": [
      "/home/m/miniconda3/envs/hydro-power-prediction/lib/python3.10/site-packages/sklearn/neural_network/_multilayer_perceptron.py:702: ConvergenceWarning: Stochastic Optimizer: Maximum iterations (200) reached and the optimization hasn't converged yet.\n",
      "  warnings.warn(\n"
     ]
    },
    {
     "name": "stderr",
     "output_type": "stream",
     "text": [
      "/home/m/miniconda3/envs/hydro-power-prediction/lib/python3.10/site-packages/sktime/performance_metrics/forecasting/_classes.py:422: UserWarning: y_pred and y_true do not have the same column index. This may indicate incorrect objects passed to the metric. Indices of y_true will be used for y_pred.\n",
      "  warn(\n",
      "/home/m/miniconda3/envs/hydro-power-prediction/lib/python3.10/site-packages/sktime/performance_metrics/forecasting/_classes.py:422: UserWarning: y_pred and y_true do not have the same column index. This may indicate incorrect objects passed to the metric. Indices of y_true will be used for y_pred.\n",
      "  warn(\n",
      "/home/m/miniconda3/envs/hydro-power-prediction/lib/python3.10/site-packages/sktime/performance_metrics/forecasting/_classes.py:422: UserWarning: y_pred and y_true do not have the same column index. This may indicate incorrect objects passed to the metric. Indices of y_true will be used for y_pred.\n",
      "  warn(\n"
     ]
    },
    {
     "name": "stderr",
     "output_type": "stream",
     "text": [
      "/home/m/miniconda3/envs/hydro-power-prediction/lib/python3.10/site-packages/sklearn/neural_network/_multilayer_perceptron.py:702: ConvergenceWarning: Stochastic Optimizer: Maximum iterations (200) reached and the optimization hasn't converged yet.\n",
      "  warnings.warn(\n"
     ]
    },
    {
     "name": "stderr",
     "output_type": "stream",
     "text": [
      "/home/m/miniconda3/envs/hydro-power-prediction/lib/python3.10/site-packages/sktime/performance_metrics/forecasting/_classes.py:422: UserWarning: y_pred and y_true do not have the same column index. This may indicate incorrect objects passed to the metric. Indices of y_true will be used for y_pred.\n",
      "  warn(\n",
      "/home/m/miniconda3/envs/hydro-power-prediction/lib/python3.10/site-packages/sktime/performance_metrics/forecasting/_classes.py:422: UserWarning: y_pred and y_true do not have the same column index. This may indicate incorrect objects passed to the metric. Indices of y_true will be used for y_pred.\n",
      "  warn(\n",
      "/home/m/miniconda3/envs/hydro-power-prediction/lib/python3.10/site-packages/sktime/performance_metrics/forecasting/_classes.py:422: UserWarning: y_pred and y_true do not have the same column index. This may indicate incorrect objects passed to the metric. Indices of y_true will be used for y_pred.\n",
      "  warn(\n"
     ]
    },
    {
     "name": "stderr",
     "output_type": "stream",
     "text": [
      "/home/m/miniconda3/envs/hydro-power-prediction/lib/python3.10/site-packages/sklearn/neural_network/_multilayer_perceptron.py:702: ConvergenceWarning: Stochastic Optimizer: Maximum iterations (200) reached and the optimization hasn't converged yet.\n",
      "  warnings.warn(\n"
     ]
    },
    {
     "name": "stderr",
     "output_type": "stream",
     "text": [
      "/home/m/miniconda3/envs/hydro-power-prediction/lib/python3.10/site-packages/sktime/performance_metrics/forecasting/_classes.py:422: UserWarning: y_pred and y_true do not have the same column index. This may indicate incorrect objects passed to the metric. Indices of y_true will be used for y_pred.\n",
      "  warn(\n",
      "/home/m/miniconda3/envs/hydro-power-prediction/lib/python3.10/site-packages/sktime/performance_metrics/forecasting/_classes.py:422: UserWarning: y_pred and y_true do not have the same column index. This may indicate incorrect objects passed to the metric. Indices of y_true will be used for y_pred.\n",
      "  warn(\n",
      "/home/m/miniconda3/envs/hydro-power-prediction/lib/python3.10/site-packages/sktime/performance_metrics/forecasting/_classes.py:422: UserWarning: y_pred and y_true do not have the same column index. This may indicate incorrect objects passed to the metric. Indices of y_true will be used for y_pred.\n",
      "  warn(\n"
     ]
    },
    {
     "name": "stderr",
     "output_type": "stream",
     "text": [
      "/home/m/miniconda3/envs/hydro-power-prediction/lib/python3.10/site-packages/sklearn/neural_network/_multilayer_perceptron.py:702: ConvergenceWarning: Stochastic Optimizer: Maximum iterations (200) reached and the optimization hasn't converged yet.\n",
      "  warnings.warn(\n"
     ]
    },
    {
     "name": "stderr",
     "output_type": "stream",
     "text": [
      "/home/m/miniconda3/envs/hydro-power-prediction/lib/python3.10/site-packages/sktime/performance_metrics/forecasting/_classes.py:422: UserWarning: y_pred and y_true do not have the same column index. This may indicate incorrect objects passed to the metric. Indices of y_true will be used for y_pred.\n",
      "  warn(\n",
      "/home/m/miniconda3/envs/hydro-power-prediction/lib/python3.10/site-packages/sktime/performance_metrics/forecasting/_classes.py:422: UserWarning: y_pred and y_true do not have the same column index. This may indicate incorrect objects passed to the metric. Indices of y_true will be used for y_pred.\n",
      "  warn(\n",
      "/home/m/miniconda3/envs/hydro-power-prediction/lib/python3.10/site-packages/sktime/performance_metrics/forecasting/_classes.py:422: UserWarning: y_pred and y_true do not have the same column index. This may indicate incorrect objects passed to the metric. Indices of y_true will be used for y_pred.\n",
      "  warn(\n"
     ]
    },
    {
     "data": {
      "image/png": "[encoded data removed]",
      "text/plain": [
       "<Figure size 720x360 with 1 Axes>"
      ]
     },
     "metadata": {
      "needs_background": "light"
     },
     "output_type": "display_data"
    },
    {
     "name": "stdout",
     "output_type": "stream",
     "text": [
      "ridge          0.342237\n",
      "lasso          0.342359\n",
      "svm            0.342259\n",
      "ardr           0.375830\n",
      "nn             0.332394\n",
      "dt             0.389395\n",
      "exttree        0.307783\n",
      "lgbm           0.315048\n",
      "arima_daily    0.300241\n",
      "ets            0.379974\n",
      "stl            0.324695\n",
      "dtype: float64\n"
     ]
    }
   ],
   "source": [
    "'''\n",
    "Rolling weekly cross val - monthly test set\n",
    "'''\n",
    "\n",
    "selected_vars = [\n",
    " 'stl_seasonal_lag2',\n",
    " 'soil_moisture_index_75',\n",
    " 'soil_moisture_index_104',\n",
    " 'soil_moisture_index_134',\n",
    " 'daily_mean_precip_104_lag1',\n",
    " 'daily_mean_precip_104_lag2',\n",
    " 'daily_mean_Value_lag2',\n",
    " 'soil_moisture_mean__ar_coefficient__coeff_3__k_10',\n",
    " 'snow_mean__large_standard_deviation__r_04',\n",
    " 'val_sh2__agg_linear_trend__attr_rvalue__chunk_len_5__f_agg_min'\n",
    " # 'precip_mean__median',\n",
    " # 'snow_mean__variance',\n",
    " # 'val_sh2__linear_trend__attr_pvalue',\n",
    " # 'val_sh2__agg_linear_trend__attr_rvalue__chunk_len_5__f_agg_min',\n",
    " # 'evapotranspiration_mean__variation_coefficient',\n",
    " # 'soil_moisture_mean__ar_coefficient__coeff_6__k_10',\n",
    " # 'pressure_mean__benford_correlation'\n",
    "]\n",
    "\n",
    "monthly = 96*30\n",
    "weekly = 96*7\n",
    "fh_monthly = list(range(1, monthly))\n",
    "\n",
    "X_all = features_new[[target_new] + selected_vars].dropna()\n",
    "cv = ExpandingWindowSplitter(initial_window=int(len(X_all) * 0.7), step_length=weekly, fh=fh_monthly)\n",
    "train_windows, test_windows = get_windows(X_all, cv)\n",
    "\n",
    "\n",
    "models = {\n",
    "    'ridge': Pipeline([\n",
    "        ('scaler', StandardScaler()),\n",
    "        ('regressor', BayesianRidge(n_iter=3000))]),\n",
    "    'lasso': Pipeline([\n",
    "        ('scaler', StandardScaler()),\n",
    "        ('regressor', LassoCV(alphas=[1e-5, 1e-4, 1e-3, 1e-2, 1e-1], max_iter=10000))\n",
    "    ]),\n",
    "\n",
    "    'svm': Pipeline([\n",
    "        ('scaler', StandardScaler()),\n",
    "        ('regressor', LinearSVR(C=2.0, loss = 'squared_epsilon_insensitive', max_iter=10000))\n",
    "    ]),\n",
    "    'ardr': Pipeline([\n",
    "        ('scaler', StandardScaler()),\n",
    "        ('regressor', ARDRegression(n_iter=3000))\n",
    "    ]),\n",
    "    'nn': Pipeline([\n",
    "        ('scaler', StandardScaler()),\n",
    "        ('selector', PCA(n_components=4)),\n",
    "        ('regressor', MLPRegressor(hidden_layer_sizes=(32), alpha=5.0, early_stopping=True, learning_rate='adaptive'))]),\n",
    "\n",
    "    'dt': Pipeline([\n",
    "        ('scaler', StandardScaler()),\n",
    "        ('regressor', DecisionTreeRegressor(max_depth = 15, random_state=random_seed))]),\n",
    "    'exttree': Pipeline([\n",
    "        ('scaler', StandardScaler()),\n",
    "        ('regressor', ExtraTreesRegressor(n_estimators=30, max_depth=15, random_state=random_seed))]),\n",
    "    'lgbm': Pipeline([\n",
    "        ('scaler', StandardScaler()),\n",
    "        ('regressor', LGBMRegressor(n_estimators=30, max_depth=15, random_state=random_seed))]),\n",
    "}\n",
    "\n",
    "smapes = defaultdict(list)\n",
    "\n",
    "for fold_id, (train_ids, test_ids) in enumerate(cv.split(X_all)):\n",
    "    X_train = X_all.iloc[train_ids][selected_vars]\n",
    "    X_test = X_all.iloc[test_ids][selected_vars]\n",
    "    y_train = X_all.iloc[train_ids][target_new]\n",
    "    y_test = X_all.iloc[test_ids][target_new]\n",
    "\n",
    "    sample_weights = get_sample_weights(X_train, daily_discount_rate)\n",
    "\n",
    "    for key in models:\n",
    "        model = models[key]\n",
    "\n",
    "        if key == 'nn' or key == 'ardr' or key == 'gp':\n",
    "            model.fit(X_train, y_train)\n",
    "        else:\n",
    "            model.fit(X_train, y_train, regressor__sample_weight=sample_weights)\n",
    "\n",
    "        y_pred = pd.DataFrame(model.predict(X_test), index=X_test.index, columns=[target_new])\n",
    "\n",
    "        # here to prevent column warning from sktime\n",
    "        value_pred = pd.DataFrame(features_new.loc[X_test.index][detrender] + y_pred[target_new], index=X_test.index, columns=['Value'])\n",
    "        value_true = features_new.loc[y_pred.index]['Value']\n",
    "\n",
    "        if not (value_pred.index == value_true.index).all():\n",
    "            print(\"break\")\n",
    "\n",
    "        smapes[key].append(smape(value_true, value_pred))\n",
    "\n",
    "    # add detrenders arima, autoets, stl for comparison\n",
    "    value_pred = features_new.loc[X_test.index]['arima_current']\n",
    "    value_true = features_new.loc[X_test.index]['Value']\n",
    "    smapes['arima_daily'].append(smape(value_true, value_pred))\n",
    "\n",
    "    value_pred = features_new.loc[X_test.index]['ets']\n",
    "    smapes['ets'].append(smape(value_true, value_pred))\n",
    "\n",
    "    value_pred = features_new.loc[X_test.index]['stl']\n",
    "    smapes['stl'].append(smape(value_true, value_pred))\n",
    "\n",
    "smapes = pd.DataFrame().from_dict(smapes)\n",
    "best_model = np.mean(smapes).idxmin()\n",
    "\n",
    "plt.figure(figsize=(10,5))\n",
    "sns.boxplot(data = smapes)\n",
    "ax = plt.gca()\n",
    "ax.set_title(f'Manual + auto features, SMAPE across n_folds={len(train_windows)}. Best: {best_model}, mean={np.mean(smapes[best_model]):.4f}')\n",
    "plt.savefig(plots_path / 'cv_auto.png')\n",
    "plt.show()\n",
    "\n",
    "print(np.mean(smapes))"
   ]
  }
 ],
 "metadata": {
  "jupytext": {
   "text_representation": {
    "extension": ".py",
    "format_name": "percent",
    "format_version": "1.3",
    "jupytext_version": "1.14.0"
   }
  },
  "kernelspec": {
   "display_name": "Python 3 (ipykernel)",
   "language": "python",
   "name": "python3"
  },
  "language_info": {
   "codemirror_mode": {
    "name": "ipython",
    "version": 3
   },
   "file_extension": ".py",
   "mimetype": "text/x-python",
   "name": "python",
   "nbconvert_exporter": "python",
   "pygments_lexer": "ipython3",
   "version": "3.10.5"
  },
  "papermill": {
   "duration": 517.911738,
   "end_time": "2022-08-24T08:05:08.135963",
   "exception": null,
   "input_path": "/tmp/tmpl3j_y_26.ipynb",
   "output_path": "/home/m/repo/hydro-power-prediction/reports/exploratory_auto.ipynb",
   "parameters": {
    "auto_meteo_daily_features": "/home/m/repo/hydro-power-prediction/backup/critical/features_daily.csv",
    "auto_meteo_features": "/home/m/repo/hydro-power-prediction/backup/critical/features_minute.csv",
    "auto_value_features": "/home/m/repo/hydro-power-prediction/backup/critical/features_daily_value.csv",
    "daily_discount_rate": 0.005,
    "plots_path": "/home/m/repo/hydro-power-prediction/plots",
    "product": {
     "nb": "/home/m/repo/hydro-power-prediction/reports/exploratory_auto.ipynb"
    },
    "random_seed": 1,
    "upstream": {
     "feature-manual": {
      "data": "/home/m/repo/hydro-power-prediction/products/data/feature_manual.csv",
      "nb": "/home/m/repo/hydro-power-prediction/reports/feature_manual.ipynb"
     },
     "run-tests": {
      "data": "/home/m/repo/hydro-power-prediction/products/data/data_raw_tested.csv",
      "nb": "/home/m/repo/hydro-power-prediction/reports/run_tests.ipynb"
     }
    },
    "valid_from": "2021-11-01"
   },
   "start_time": "2022-08-24T07:56:30.224225"
  }
 },
 "nbformat": 4,
 "nbformat_minor": 5
}
