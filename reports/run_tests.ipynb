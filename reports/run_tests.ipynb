{
 "cells": [
  {
   "cell_type": "code",
   "execution_count": 1,
   "id": "238e9dc2",
   "metadata": {
    "execution": {
     "iopub.execute_input": "2022-08-11T20:39:21.804721Z",
     "iopub.status.busy": "2022-08-11T20:39:21.804479Z",
     "iopub.status.idle": "2022-08-11T20:39:21.807844Z",
     "shell.execute_reply": "2022-08-11T20:39:21.807483Z"
    },
    "papermill": {
     "duration": 0.010019,
     "end_time": "2022-08-11T20:39:21.809361",
     "exception": false,
     "start_time": "2022-08-11T20:39:21.799342",
     "status": "completed"
    },
    "tags": []
   },
   "outputs": [],
   "source": [
    "# Uncomment the next two lines to enable auto reloading for imported modules\n",
    "# %load_ext autoreload\n",
    "# %autoreload 2\n",
    "# For more info, see:\n",
    "# https://docs.ploomber.io/en/latest/user-guide/faq_index.html#auto-reloading-code-in-jupyter"
   ]
  },
  {
   "cell_type": "code",
   "execution_count": 2,
   "id": "fdb5d1ee",
   "metadata": {
    "execution": {
     "iopub.execute_input": "2022-08-11T20:39:21.814487Z",
     "iopub.status.busy": "2022-08-11T20:39:21.814304Z",
     "iopub.status.idle": "2022-08-11T20:39:22.903207Z",
     "shell.execute_reply": "2022-08-11T20:39:22.902603Z"
    },
    "lines_to_next_cell": 2,
    "papermill": {
     "duration": 1.092859,
     "end_time": "2022-08-11T20:39:22.904510",
     "exception": false,
     "start_time": "2022-08-11T20:39:21.811651",
     "status": "completed"
    },
    "tags": [
     "parameters"
    ]
   },
   "outputs": [],
   "source": [
    "# If this task has dependencies, declare them in the YAML spec and leave this\n",
    "# as None\n",
    "from hydro_timeseries.util import load_timeseries_csv\n",
    "import pandas as pd\n",
    "from datetime import date\n",
    "\n",
    "upstream = None\n",
    "\n",
    "# This is a placeholder, leave it as None\n",
    "product = None"
   ]
  },
  {
   "cell_type": "code",
   "execution_count": 3,
   "id": "f3d7fd87",
   "metadata": {
    "execution": {
     "iopub.execute_input": "2022-08-11T20:39:22.907576Z",
     "iopub.status.busy": "2022-08-11T20:39:22.907314Z",
     "iopub.status.idle": "2022-08-11T20:39:22.910423Z",
     "shell.execute_reply": "2022-08-11T20:39:22.910030Z"
    },
    "papermill": {
     "duration": 0.005884,
     "end_time": "2022-08-11T20:39:22.911583",
     "exception": false,
     "start_time": "2022-08-11T20:39:22.905699",
     "status": "completed"
    },
    "tags": [
     "injected-parameters"
    ]
   },
   "outputs": [],
   "source": [
    "# Parameters\n",
    "valid_from = \"2021-11-01\"\n",
    "random_seed = 1\n",
    "upstream = {\"load-data\": {\"nb\": \"/home/m/repo/hydro-power-prediction/reports/load_data.ipynb\", \"data\": \"/home/m/repo/hydro-power-prediction/products/data/data_raw.csv\"}}\n",
    "product = {\"nb\": \"/home/m/repo/hydro-power-prediction/reports/run_tests.ipynb\", \"data\": \"/home/m/repo/hydro-power-prediction/products/data/data_raw_tested.csv\"}\n"
   ]
  },
  {
   "cell_type": "code",
   "execution_count": 4,
   "id": "748437dc",
   "metadata": {
    "execution": {
     "iopub.execute_input": "2022-08-11T20:39:22.914457Z",
     "iopub.status.busy": "2022-08-11T20:39:22.914295Z",
     "iopub.status.idle": "2022-08-11T20:39:23.667373Z",
     "shell.execute_reply": "2022-08-11T20:39:23.666844Z"
    },
    "papermill": {
     "duration": 0.75615,
     "end_time": "2022-08-11T20:39:23.668725",
     "exception": false,
     "start_time": "2022-08-11T20:39:22.912575",
     "status": "completed"
    },
    "tags": []
   },
   "outputs": [],
   "source": [
    "data = load_timeseries_csv(upstream['load-data']['data'])\n",
    "data.to_csv(product['data'])\n",
    "\n",
    "# val = pd.read_csv(upstream['load-data']['data'], parse_dates=['Date_Time', 'Date'], index_col='Date_Time')\n",
    "# val.head()"
   ]
  },
  {
   "cell_type": "code",
   "execution_count": 5,
   "id": "23a8e657",
   "metadata": {
    "execution": {
     "iopub.execute_input": "2022-08-11T20:39:23.671879Z",
     "iopub.status.busy": "2022-08-11T20:39:23.671664Z",
     "iopub.status.idle": "2022-08-11T20:39:23.674479Z",
     "shell.execute_reply": "2022-08-11T20:39:23.673930Z"
    },
    "papermill": {
     "duration": 0.006075,
     "end_time": "2022-08-11T20:39:23.676001",
     "exception": false,
     "start_time": "2022-08-11T20:39:23.669926",
     "status": "completed"
    },
    "tags": []
   },
   "outputs": [],
   "source": [
    "# assert val.iloc[0].Date.date() == date.fromisoformat(valid_from), \"Validation set does not start from specified validation date\""
   ]
  },
  {
   "cell_type": "code",
   "execution_count": null,
   "id": "b82764df",
   "metadata": {
    "lines_to_next_cell": 2,
    "papermill": {
     "duration": 0.001347,
     "end_time": "2022-08-11T20:39:23.679199",
     "exception": false,
     "start_time": "2022-08-11T20:39:23.677852",
     "status": "completed"
    },
    "tags": []
   },
   "outputs": [],
   "source": []
  }
 ],
 "metadata": {
  "jupytext": {
   "notebook_metadata_filter": "ploomber",
   "text_representation": {
    "extension": ".py",
    "format_name": "percent",
    "format_version": "1.3",
    "jupytext_version": "1.14.0"
   }
  },
  "kernelspec": {
   "display_name": "Python 3 (ipykernel)",
   "language": "python",
   "name": "python3"
  },
  "language_info": {
   "codemirror_mode": {
    "name": "ipython",
    "version": 3
   },
   "file_extension": ".py",
   "mimetype": "text/x-python",
   "name": "python",
   "nbconvert_exporter": "python",
   "pygments_lexer": "ipython3",
   "version": "3.10.5"
  },
  "papermill": {
   "duration": 2.853345,
   "end_time": "2022-08-11T20:39:23.996902",
   "exception": null,
   "input_path": "/tmp/tmpjb5ankt2.ipynb",
   "output_path": "/home/m/repo/hydro-power-prediction/reports/run_tests.ipynb",
   "parameters": {
    "product": {
     "data": "/home/m/repo/hydro-power-prediction/products/data/data_raw_tested.csv",
     "nb": "/home/m/repo/hydro-power-prediction/reports/run_tests.ipynb"
    },
    "random_seed": 1,
    "upstream": {
     "load-data": {
      "data": "/home/m/repo/hydro-power-prediction/products/data/data_raw.csv",
      "nb": "/home/m/repo/hydro-power-prediction/reports/load_data.ipynb"
     }
    },
    "valid_from": "2021-11-01"
   },
   "start_time": "2022-08-11T20:39:21.143557"
  },
  "ploomber": {
   "injected_manually": true
  }
 },
 "nbformat": 4,
 "nbformat_minor": 5
}